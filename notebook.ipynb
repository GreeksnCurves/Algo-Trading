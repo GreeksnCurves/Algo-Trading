{
 "cells": [
  {
   "cell_type": "code",
   "execution_count": 6,
   "metadata": {
    "ExecuteTime": {
     "end_time": "2020-07-22T07:04:50.315985Z",
     "start_time": "2020-07-22T07:04:42.872888Z"
    },
    "tags": []
   },
   "outputs": [],
   "source": [
    "from datetime import datetime\n",
    "import numpy as np\n",
    "import pandas as pd\n",
    "import pandas_datareader\n",
    "#import indicators\n",
    "from db import timscale_setup\n",
    "from db import dbscrape\n",
    "from backtesting import Backtest\n",
    "#from backtesting.test import SMA\n",
    "from backtesting import Strategy\n",
    "from backtesting.lib import crossover\n",
    "import ta\n",
    "\n",
    "import strategys_backtesting"
   ]
  },
  {
   "cell_type": "code",
   "execution_count": 3,
   "metadata": {},
   "outputs": [],
   "source": [
    "import matplotlib.pyplot as plt\n",
    "import finplot as fplt\n",
    "import yfinance"
   ]
  },
  {
   "cell_type": "code",
   "execution_count": null,
   "metadata": {},
   "outputs": [],
   "source": [
    "import PyAlgoTrade\n",
    "import pytz\n",
    "import pyfolio as pf\n",
    "from collections import OrderedDict\n",
    "\n",
    "#quandl.ApiConfig.api_key = \"1dkdmifTyDZVCKaXnKTD\"\n"
   ]
  },
  {
   "cell_type": "code",
   "execution_count": 4,
   "metadata": {},
   "outputs": [
    {
     "output_type": "execute_result",
     "data": {
      "text/plain": "            Date        Open        High         Low       Close   Adj Close  \\\n0  1568332800000  301.779999  302.170013  300.679993  301.089996  295.197144   \n1  1568592000000  299.839996  301.140015  299.450012  300.160004  294.285339   \n2  1568678400000  299.940002  301.019989  299.750000  300.920013  295.030457   \n3  1568764800000  300.489990  301.220001  298.239990  301.100006  295.206940   \n4  1568851200000  301.529999  302.630005  300.709991  301.079987  295.187317   \n\n     Volume  \n0  62104800  \n1  58191200  \n2  41475500  \n3  73375800  \n4  76560500  ",
      "text/html": "<div>\n<style scoped>\n    .dataframe tbody tr th:only-of-type {\n        vertical-align: middle;\n    }\n\n    .dataframe tbody tr th {\n        vertical-align: top;\n    }\n\n    .dataframe thead th {\n        text-align: right;\n    }\n</style>\n<table border=\"1\" class=\"dataframe\">\n  <thead>\n    <tr style=\"text-align: right;\">\n      <th></th>\n      <th>Date</th>\n      <th>Open</th>\n      <th>High</th>\n      <th>Low</th>\n      <th>Close</th>\n      <th>Adj Close</th>\n      <th>Volume</th>\n    </tr>\n  </thead>\n  <tbody>\n    <tr>\n      <th>0</th>\n      <td>1568332800000</td>\n      <td>301.779999</td>\n      <td>302.170013</td>\n      <td>300.679993</td>\n      <td>301.089996</td>\n      <td>295.197144</td>\n      <td>62104800</td>\n    </tr>\n    <tr>\n      <th>1</th>\n      <td>1568592000000</td>\n      <td>299.839996</td>\n      <td>301.140015</td>\n      <td>299.450012</td>\n      <td>300.160004</td>\n      <td>294.285339</td>\n      <td>58191200</td>\n    </tr>\n    <tr>\n      <th>2</th>\n      <td>1568678400000</td>\n      <td>299.940002</td>\n      <td>301.019989</td>\n      <td>299.750000</td>\n      <td>300.920013</td>\n      <td>295.030457</td>\n      <td>41475500</td>\n    </tr>\n    <tr>\n      <th>3</th>\n      <td>1568764800000</td>\n      <td>300.489990</td>\n      <td>301.220001</td>\n      <td>298.239990</td>\n      <td>301.100006</td>\n      <td>295.206940</td>\n      <td>73375800</td>\n    </tr>\n    <tr>\n      <th>4</th>\n      <td>1568851200000</td>\n      <td>301.529999</td>\n      <td>302.630005</td>\n      <td>300.709991</td>\n      <td>301.079987</td>\n      <td>295.187317</td>\n      <td>76560500</td>\n    </tr>\n  </tbody>\n</table>\n</div>"
     },
     "metadata": {},
     "execution_count": 4
    }
   ],
   "source": [
    "import requests\n",
    "from io import StringIO\n",
    "from time import time\n",
    "\n",
    "end_t = int(time()) \n",
    "start_t = end_t - 12*30*24*60*60 # twelve months\n",
    "symbol = 'SPY'\n",
    "interval = '1d'\n",
    "url = 'https://query1.finance.yahoo.com/v7/finance/download/%s?period1=%s&period2=%s&interval=%s&events=history' % (symbol, start_t, end_t, interval)\n",
    "r = requests.get(url)\n",
    "df = pd.read_csv(StringIO(r.text))\n",
    "df['Date'] = pd.to_datetime(df['Date']).astype('int64') // 1_000_000 # use finplot's internal representation, which is ms\n",
    "\n",
    "df.head()\n"
   ]
  },
  {
   "cell_type": "code",
   "execution_count": null,
   "metadata": {
    "tags": []
   },
   "outputs": [],
   "source": [
    "print(\"Fetching Data\")\n",
    "data = timscale_setup.get_full_table(\"BANKNIFTY_F1\")\n",
    "data.describe()\n",
    "data.head()"
   ]
  },
  {
   "cell_type": "code",
   "execution_count": 9,
   "metadata": {
    "tags": []
   },
   "outputs": [
    {
     "output_type": "stream",
     "name": "stdout",
     "text": "Fetching using dbscrape\n"
    },
    {
     "output_type": "execute_result",
     "data": {
      "text/plain": "             datetime       internalname      open      high       low  \\\n0 2020-02-28 09:16:00  BANKNIFTY MAR FUT  29625.00  29650.00  29375.60   \n1 2020-02-28 09:17:00  BANKNIFTY MAR FUT  29600.00  29635.95  29572.40   \n2 2020-02-28 09:18:00  BANKNIFTY MAR FUT  29582.55  29582.55  29550.00   \n3 2020-02-28 09:19:00  BANKNIFTY MAR FUT  29578.05  29636.20  29577.70   \n4 2020-02-28 09:20:00  BANKNIFTY MAR FUT  29592.75  29665.25  29592.35   \n\n      close  volume  unknown          expirydate exchange  \n0  29587.75  146320  1005900 2020-03-26 23:59:00      NSE  \n1  29594.65   70100  1005900 2020-03-26 23:59:00      NSE  \n2  29580.00   64000  1061780 2020-03-26 23:59:00      NSE  \n3  29592.00   35100  1061780 2020-03-26 23:59:00      NSE  \n4  29638.20   43160  1061780 2020-03-26 23:59:00      NSE  ",
      "text/html": "<div>\n<style scoped>\n    .dataframe tbody tr th:only-of-type {\n        vertical-align: middle;\n    }\n\n    .dataframe tbody tr th {\n        vertical-align: top;\n    }\n\n    .dataframe thead th {\n        text-align: right;\n    }\n</style>\n<table border=\"1\" class=\"dataframe\">\n  <thead>\n    <tr style=\"text-align: right;\">\n      <th></th>\n      <th>datetime</th>\n      <th>internalname</th>\n      <th>open</th>\n      <th>high</th>\n      <th>low</th>\n      <th>close</th>\n      <th>volume</th>\n      <th>unknown</th>\n      <th>expirydate</th>\n      <th>exchange</th>\n    </tr>\n  </thead>\n  <tbody>\n    <tr>\n      <th>0</th>\n      <td>2020-02-28 09:16:00</td>\n      <td>BANKNIFTY MAR FUT</td>\n      <td>29625.00</td>\n      <td>29650.00</td>\n      <td>29375.60</td>\n      <td>29587.75</td>\n      <td>146320</td>\n      <td>1005900</td>\n      <td>2020-03-26 23:59:00</td>\n      <td>NSE</td>\n    </tr>\n    <tr>\n      <th>1</th>\n      <td>2020-02-28 09:17:00</td>\n      <td>BANKNIFTY MAR FUT</td>\n      <td>29600.00</td>\n      <td>29635.95</td>\n      <td>29572.40</td>\n      <td>29594.65</td>\n      <td>70100</td>\n      <td>1005900</td>\n      <td>2020-03-26 23:59:00</td>\n      <td>NSE</td>\n    </tr>\n    <tr>\n      <th>2</th>\n      <td>2020-02-28 09:18:00</td>\n      <td>BANKNIFTY MAR FUT</td>\n      <td>29582.55</td>\n      <td>29582.55</td>\n      <td>29550.00</td>\n      <td>29580.00</td>\n      <td>64000</td>\n      <td>1061780</td>\n      <td>2020-03-26 23:59:00</td>\n      <td>NSE</td>\n    </tr>\n    <tr>\n      <th>3</th>\n      <td>2020-02-28 09:19:00</td>\n      <td>BANKNIFTY MAR FUT</td>\n      <td>29578.05</td>\n      <td>29636.20</td>\n      <td>29577.70</td>\n      <td>29592.00</td>\n      <td>35100</td>\n      <td>1061780</td>\n      <td>2020-03-26 23:59:00</td>\n      <td>NSE</td>\n    </tr>\n    <tr>\n      <th>4</th>\n      <td>2020-02-28 09:20:00</td>\n      <td>BANKNIFTY MAR FUT</td>\n      <td>29592.75</td>\n      <td>29665.25</td>\n      <td>29592.35</td>\n      <td>29638.20</td>\n      <td>43160</td>\n      <td>1061780</td>\n      <td>2020-03-26 23:59:00</td>\n      <td>NSE</td>\n    </tr>\n  </tbody>\n</table>\n</div>"
     },
     "metadata": {},
     "execution_count": 9
    }
   ],
   "source": [
    "print(\"Fetching using dbscrape\")\n",
    "banknifty_table = \"BANKNIFTY_F1\"\n",
    "\n",
    "startdate = \"2020-02-02 09:30:00\"\n",
    "enddate = \"2020-02-29 15:30:00\"\n",
    "\n",
    "#data = dbscrape.gettablerange(*(timscale_setup.get_config()), banknifty_table, startdate, enddate)\n",
    "rawdata = dbscrape.expirymonth(*(timscale_setup.get_config()), banknifty_table, 3, 2020)\n",
    "rawdata.head()\n"
   ]
  },
  {
   "cell_type": "code",
   "execution_count": 24,
   "metadata": {
    "tags": []
   },
   "outputs": [
    {
     "output_type": "error",
     "ename": "TypeError",
     "evalue": "an integer is required (got type Timestamp)",
     "traceback": [
      "\u001b[1;31m---------------------------------------------------------------------------\u001b[0m",
      "\u001b[1;31mTypeError\u001b[0m                                 Traceback (most recent call last)",
      "\u001b[1;32m<ipython-input-24-b71bfe77258b>\u001b[0m in \u001b[0;36m<module>\u001b[1;34m\u001b[0m\n\u001b[0;32m      1\u001b[0m \u001b[1;32mimport\u001b[0m \u001b[0mdatetime\u001b[0m \u001b[1;32mas\u001b[0m \u001b[0mdt\u001b[0m\u001b[1;33m\u001b[0m\u001b[1;33m\u001b[0m\u001b[0m\n\u001b[0;32m      2\u001b[0m \u001b[1;33m\u001b[0m\u001b[0m\n\u001b[1;32m----> 3\u001b[1;33m \u001b[0mprint\u001b[0m\u001b[1;33m(\u001b[0m\u001b[0mdt\u001b[0m\u001b[1;33m.\u001b[0m\u001b[0mdatetime\u001b[0m\u001b[1;33m.\u001b[0m\u001b[0mfromtimestamp\u001b[0m\u001b[1;33m(\u001b[0m\u001b[0mrawdata\u001b[0m\u001b[1;33m[\u001b[0m\u001b[1;34m\"datetime\"\u001b[0m\u001b[1;33m]\u001b[0m\u001b[1;33m[\u001b[0m\u001b[1;36m100\u001b[0m\u001b[1;33m]\u001b[0m\u001b[1;33m)\u001b[0m\u001b[1;33m)\u001b[0m\u001b[1;33m\u001b[0m\u001b[1;33m\u001b[0m\u001b[0m\n\u001b[0m\u001b[0;32m      4\u001b[0m \u001b[0mrawdata\u001b[0m\u001b[1;33m[\u001b[0m\u001b[1;34m\"datetime\"\u001b[0m\u001b[1;33m]\u001b[0m\u001b[1;33m[\u001b[0m\u001b[1;36m100\u001b[0m\u001b[1;33m]\u001b[0m\u001b[1;33m.\u001b[0m\u001b[0mtime\u001b[0m\u001b[1;33m(\u001b[0m\u001b[1;33m)\u001b[0m \u001b[1;33m<\u001b[0m \u001b[0mdt\u001b[0m\u001b[1;33m.\u001b[0m\u001b[0mtime\u001b[0m\u001b[1;33m(\u001b[0m\u001b[1;36m15\u001b[0m\u001b[1;33m,\u001b[0m\u001b[1;36m30\u001b[0m\u001b[1;33m)\u001b[0m\u001b[1;33m\u001b[0m\u001b[1;33m\u001b[0m\u001b[0m\n",
      "\u001b[1;31mTypeError\u001b[0m: an integer is required (got type Timestamp)"
     ]
    }
   ],
   "source": [
    "import datetime as dt\n",
    "\n",
    "print(dt.datetime.fromtimestamp(rawdata[\"datetime\"][100]))\n",
    "rawdata[\"datetime\"][100].time() < dt.time(15,30)"
   ]
  },
  {
   "cell_type": "code",
   "execution_count": 29,
   "metadata": {
    "tags": []
   },
   "outputs": [
    {
     "output_type": "stream",
     "name": "stdout",
     "text": "Model: \"sequential_1\"\n_________________________________________________________________\nLayer (type)                 Output Shape              Param #\n=================================================================\nlstm (LSTM)                  (None, 100)               64400\n_________________________________________________________________\ndropout (Dropout)            (None, 100)               0\n_________________________________________________________________\ndense (Dense)                (None, 4)                 404\n=================================================================\nTotal params: 64,804\nTrainable params: 64,804\nNon-trainable params: 0\n_________________________________________________________________\n"
    }
   ],
   "source": [
    "import tensorflow as tf\n",
    "import tensorflow.keras as keras\n",
    "from tensorflow.keras.models import Sequential\n",
    "from tensorflow.keras.layers import Dense, Dropout, Activation, Flatten, LSTM\n",
    "from tensorflow.keras.layers import Conv2D, MaxPooling2D, BatchNormalization\n",
    "\n",
    "model = Sequential()\n",
    "model.add(LSTM(100, input_shape=(22, 60)))\n",
    "model.add(Dropout(0.1))\n",
    "model.add(Dense(4, activation='softmax'))\n",
    "model.compile(loss='mse', optimizer='adam')\n",
    "model.summary()"
   ]
  },
  {
   "cell_type": "code",
   "execution_count": 1,
   "metadata": {
    "tags": []
   },
   "outputs": [
    {
     "output_type": "stream",
     "name": "stdout",
     "text": "True\n[[0.51987529]\n [0.53510904]\n [0.40490812]]\n[[0.55115205]\n [0.54973185]\n [0.41527024]]\n[[0.50280875]\n [0.38480276]\n [0.24850836]]\n[[0.55115205]\n [0.4120172 ]\n [0.30700752]]\n[[0.10161054]\n [0.39853588]\n [0.48784775]]\n[[9.51422815e-08]\n [9.51400510e-08]\n [9.51378146e-08]]\n[[0.58738774]\n [0.5344584 ]\n [0.47530866]]\n[[0.7349329 ]\n [0.71575582]\n [0.68971562]]\n[[0.56006223]\n [0.48604366]\n [0.39652163]]\n[[0.62801898]\n [0.58481705]\n [0.52925354]]\n[[0.70424324]\n [0.68337619]\n [0.65648705]]\n[[0.17439504]\n [0.13484344]\n [0.08419872]]\n[[0.7349329 ]\n [0.71575582]\n [0.68971562]]\n[[0.94164366]\n [0.96351045]\n [0.98900312]]\n[[0.52822208]\n [0.46800914]\n [0.39042813]]\n[[0.31355083]\n [0.37585488]\n [0.45413032]]\n[[0.47066024]\n [0.4895317 ]\n [0.50713003]]\n[[0.68742263]\n [0.62060046]\n [0.55049354]]\n[[1.30795504]\n [0.92278933]\n [0.71424436]]\n[[0.58581674]\n [0.5341807 ]\n [0.46151894]]\n[[0.59698105]\n [0.51324302]\n [0.47394186]]\n[[0.81137431]\n [0.71382123]\n [0.69809139]]\n"
    }
   ],
   "source": [
    "import DLPriceModel\n",
    "\n",
    "test_record = \"../data/tfrecords/dl_scaled_5_BANKNIFTY_F1_2020_1.tfrecords\"\n",
    "X, Y = DLPriceModel.create_dataset(test_record)\n",
    "for i in range(len(X[0])):\n",
    "    print(X[0][i][:3])"
   ]
  },
  {
   "cell_type": "code",
   "execution_count": 27,
   "metadata": {},
   "outputs": [],
   "source": [
    "from progress.bar import Bar\n",
    "import time\n",
    "bar = Bar('Processing', max=20)\n",
    "for i in range(20):\n",
    "    time.sleep(1)\n",
    "    bar.next()\n",
    "bar.finish()"
   ]
  },
  {
   "cell_type": "code",
   "execution_count": 11,
   "metadata": {},
   "outputs": [
    {
     "output_type": "execute_result",
     "data": {
      "text/plain": "                datetime       internalname      open     high       low  \\\n7033 2020-03-26 15:27:00  BANKNIFTY MAR FUT  19624.80  19628.7  19618.95   \n7034 2020-03-26 15:28:00  BANKNIFTY MAR FUT  19621.15  19623.0  19616.05   \n7035 2020-03-26 15:29:00  BANKNIFTY MAR FUT  19621.70  19624.0  19618.30   \n7036 2020-03-26 15:30:00  BANKNIFTY MAR FUT  19622.05  19624.2  19620.10   \n7037 2020-03-26 18:22:00  BANKNIFTY MAR FUT  19613.90  19613.9  19613.90   \n\n         close  volume  unknown          expirydate exchange  \n7033  19623.00    9360   812080 2020-03-26 23:59:00      NSE  \n7034  19621.75    6060   798600 2020-03-26 23:59:00      NSE  \n7035  19623.70    8200   798600 2020-03-26 23:59:00      NSE  \n7036  19621.00    7520   798600 2020-03-26 23:59:00      NSE  \n7037  19613.90       1   675140 2020-03-26 23:59:00      NSE  ",
      "text/html": "<div>\n<style scoped>\n    .dataframe tbody tr th:only-of-type {\n        vertical-align: middle;\n    }\n\n    .dataframe tbody tr th {\n        vertical-align: top;\n    }\n\n    .dataframe thead th {\n        text-align: right;\n    }\n</style>\n<table border=\"1\" class=\"dataframe\">\n  <thead>\n    <tr style=\"text-align: right;\">\n      <th></th>\n      <th>datetime</th>\n      <th>internalname</th>\n      <th>open</th>\n      <th>high</th>\n      <th>low</th>\n      <th>close</th>\n      <th>volume</th>\n      <th>unknown</th>\n      <th>expirydate</th>\n      <th>exchange</th>\n    </tr>\n  </thead>\n  <tbody>\n    <tr>\n      <th>7033</th>\n      <td>2020-03-26 15:27:00</td>\n      <td>BANKNIFTY MAR FUT</td>\n      <td>19624.80</td>\n      <td>19628.7</td>\n      <td>19618.95</td>\n      <td>19623.00</td>\n      <td>9360</td>\n      <td>812080</td>\n      <td>2020-03-26 23:59:00</td>\n      <td>NSE</td>\n    </tr>\n    <tr>\n      <th>7034</th>\n      <td>2020-03-26 15:28:00</td>\n      <td>BANKNIFTY MAR FUT</td>\n      <td>19621.15</td>\n      <td>19623.0</td>\n      <td>19616.05</td>\n      <td>19621.75</td>\n      <td>6060</td>\n      <td>798600</td>\n      <td>2020-03-26 23:59:00</td>\n      <td>NSE</td>\n    </tr>\n    <tr>\n      <th>7035</th>\n      <td>2020-03-26 15:29:00</td>\n      <td>BANKNIFTY MAR FUT</td>\n      <td>19621.70</td>\n      <td>19624.0</td>\n      <td>19618.30</td>\n      <td>19623.70</td>\n      <td>8200</td>\n      <td>798600</td>\n      <td>2020-03-26 23:59:00</td>\n      <td>NSE</td>\n    </tr>\n    <tr>\n      <th>7036</th>\n      <td>2020-03-26 15:30:00</td>\n      <td>BANKNIFTY MAR FUT</td>\n      <td>19622.05</td>\n      <td>19624.2</td>\n      <td>19620.10</td>\n      <td>19621.00</td>\n      <td>7520</td>\n      <td>798600</td>\n      <td>2020-03-26 23:59:00</td>\n      <td>NSE</td>\n    </tr>\n    <tr>\n      <th>7037</th>\n      <td>2020-03-26 18:22:00</td>\n      <td>BANKNIFTY MAR FUT</td>\n      <td>19613.90</td>\n      <td>19613.9</td>\n      <td>19613.90</td>\n      <td>19613.90</td>\n      <td>1</td>\n      <td>675140</td>\n      <td>2020-03-26 23:59:00</td>\n      <td>NSE</td>\n    </tr>\n  </tbody>\n</table>\n</div>"
     },
     "metadata": {},
     "execution_count": 11
    }
   ],
   "source": [
    "rawdata.tail()"
   ]
  },
  {
   "cell_type": "code",
   "execution_count": 12,
   "metadata": {},
   "outputs": [
    {
     "output_type": "execute_result",
     "data": {
      "text/plain": "               open          high           low         close         volume  \\\ncount   7038.000000   7038.000000   7038.000000   7038.000000    7038.000000   \nmean   23938.511687  23968.859584  23907.998146  23938.149517   16317.263285   \nstd     4323.159168   4312.459628   4333.089143   4322.867640   14260.867193   \nmin    16074.650000  16163.800000  16020.550000  16076.000000       1.000000   \n25%    19987.762500  20028.887500  19935.462500  19990.337500    7340.000000   \n50%    24231.375000  24269.275000  24188.525000  24226.850000   12280.000000   \n75%    28616.175000  28633.450000  28597.112500  28619.075000   20540.000000   \nmax    29635.000000  29665.250000  29610.100000  29638.200000  231560.000000   \n\n            unknown  \ncount  7.038000e+03  \nmean   1.341751e+06  \nstd    2.242902e+05  \nmin    6.751400e+05  \n25%    1.208760e+06  \n50%    1.336520e+06  \n75%    1.500600e+06  \nmax    1.881900e+06  ",
      "text/html": "<div>\n<style scoped>\n    .dataframe tbody tr th:only-of-type {\n        vertical-align: middle;\n    }\n\n    .dataframe tbody tr th {\n        vertical-align: top;\n    }\n\n    .dataframe thead th {\n        text-align: right;\n    }\n</style>\n<table border=\"1\" class=\"dataframe\">\n  <thead>\n    <tr style=\"text-align: right;\">\n      <th></th>\n      <th>open</th>\n      <th>high</th>\n      <th>low</th>\n      <th>close</th>\n      <th>volume</th>\n      <th>unknown</th>\n    </tr>\n  </thead>\n  <tbody>\n    <tr>\n      <th>count</th>\n      <td>7038.000000</td>\n      <td>7038.000000</td>\n      <td>7038.000000</td>\n      <td>7038.000000</td>\n      <td>7038.000000</td>\n      <td>7.038000e+03</td>\n    </tr>\n    <tr>\n      <th>mean</th>\n      <td>23938.511687</td>\n      <td>23968.859584</td>\n      <td>23907.998146</td>\n      <td>23938.149517</td>\n      <td>16317.263285</td>\n      <td>1.341751e+06</td>\n    </tr>\n    <tr>\n      <th>std</th>\n      <td>4323.159168</td>\n      <td>4312.459628</td>\n      <td>4333.089143</td>\n      <td>4322.867640</td>\n      <td>14260.867193</td>\n      <td>2.242902e+05</td>\n    </tr>\n    <tr>\n      <th>min</th>\n      <td>16074.650000</td>\n      <td>16163.800000</td>\n      <td>16020.550000</td>\n      <td>16076.000000</td>\n      <td>1.000000</td>\n      <td>6.751400e+05</td>\n    </tr>\n    <tr>\n      <th>25%</th>\n      <td>19987.762500</td>\n      <td>20028.887500</td>\n      <td>19935.462500</td>\n      <td>19990.337500</td>\n      <td>7340.000000</td>\n      <td>1.208760e+06</td>\n    </tr>\n    <tr>\n      <th>50%</th>\n      <td>24231.375000</td>\n      <td>24269.275000</td>\n      <td>24188.525000</td>\n      <td>24226.850000</td>\n      <td>12280.000000</td>\n      <td>1.336520e+06</td>\n    </tr>\n    <tr>\n      <th>75%</th>\n      <td>28616.175000</td>\n      <td>28633.450000</td>\n      <td>28597.112500</td>\n      <td>28619.075000</td>\n      <td>20540.000000</td>\n      <td>1.500600e+06</td>\n    </tr>\n    <tr>\n      <th>max</th>\n      <td>29635.000000</td>\n      <td>29665.250000</td>\n      <td>29610.100000</td>\n      <td>29638.200000</td>\n      <td>231560.000000</td>\n      <td>1.881900e+06</td>\n    </tr>\n  </tbody>\n</table>\n</div>"
     },
     "metadata": {},
     "execution_count": 12
    }
   ],
   "source": [
    "rawdata.describe()"
   ]
  },
  {
   "cell_type": "code",
   "execution_count": 4,
   "metadata": {
    "tags": []
   },
   "outputs": [
    {
     "output_type": "execute_result",
     "data": {
      "text/plain": "             datetime       internalname      Open      High       Low  \\\n0 2020-02-28 09:16:00  BANKNIFTY MAR FUT  29625.00  29650.00  29375.60   \n1 2020-02-28 09:17:00  BANKNIFTY MAR FUT  29600.00  29635.95  29572.40   \n2 2020-02-28 09:18:00  BANKNIFTY MAR FUT  29582.55  29582.55  29550.00   \n3 2020-02-28 09:19:00  BANKNIFTY MAR FUT  29578.05  29636.20  29577.70   \n4 2020-02-28 09:20:00  BANKNIFTY MAR FUT  29592.75  29665.25  29592.35   \n\n      Close  Volume  unknown          expirydate exchange  \n0  29587.75  146320  1005900 2020-03-26 23:59:00      NSE  \n1  29594.65   70100  1005900 2020-03-26 23:59:00      NSE  \n2  29580.00   64000  1061780 2020-03-26 23:59:00      NSE  \n3  29592.00   35100  1061780 2020-03-26 23:59:00      NSE  \n4  29638.20   43160  1061780 2020-03-26 23:59:00      NSE  ",
      "text/html": "<div>\n<style scoped>\n    .dataframe tbody tr th:only-of-type {\n        vertical-align: middle;\n    }\n\n    .dataframe tbody tr th {\n        vertical-align: top;\n    }\n\n    .dataframe thead th {\n        text-align: right;\n    }\n</style>\n<table border=\"1\" class=\"dataframe\">\n  <thead>\n    <tr style=\"text-align: right;\">\n      <th></th>\n      <th>datetime</th>\n      <th>internalname</th>\n      <th>Open</th>\n      <th>High</th>\n      <th>Low</th>\n      <th>Close</th>\n      <th>Volume</th>\n      <th>unknown</th>\n      <th>expirydate</th>\n      <th>exchange</th>\n    </tr>\n  </thead>\n  <tbody>\n    <tr>\n      <th>0</th>\n      <td>2020-02-28 09:16:00</td>\n      <td>BANKNIFTY MAR FUT</td>\n      <td>29625.00</td>\n      <td>29650.00</td>\n      <td>29375.60</td>\n      <td>29587.75</td>\n      <td>146320</td>\n      <td>1005900</td>\n      <td>2020-03-26 23:59:00</td>\n      <td>NSE</td>\n    </tr>\n    <tr>\n      <th>1</th>\n      <td>2020-02-28 09:17:00</td>\n      <td>BANKNIFTY MAR FUT</td>\n      <td>29600.00</td>\n      <td>29635.95</td>\n      <td>29572.40</td>\n      <td>29594.65</td>\n      <td>70100</td>\n      <td>1005900</td>\n      <td>2020-03-26 23:59:00</td>\n      <td>NSE</td>\n    </tr>\n    <tr>\n      <th>2</th>\n      <td>2020-02-28 09:18:00</td>\n      <td>BANKNIFTY MAR FUT</td>\n      <td>29582.55</td>\n      <td>29582.55</td>\n      <td>29550.00</td>\n      <td>29580.00</td>\n      <td>64000</td>\n      <td>1061780</td>\n      <td>2020-03-26 23:59:00</td>\n      <td>NSE</td>\n    </tr>\n    <tr>\n      <th>3</th>\n      <td>2020-02-28 09:19:00</td>\n      <td>BANKNIFTY MAR FUT</td>\n      <td>29578.05</td>\n      <td>29636.20</td>\n      <td>29577.70</td>\n      <td>29592.00</td>\n      <td>35100</td>\n      <td>1061780</td>\n      <td>2020-03-26 23:59:00</td>\n      <td>NSE</td>\n    </tr>\n    <tr>\n      <th>4</th>\n      <td>2020-02-28 09:20:00</td>\n      <td>BANKNIFTY MAR FUT</td>\n      <td>29592.75</td>\n      <td>29665.25</td>\n      <td>29592.35</td>\n      <td>29638.20</td>\n      <td>43160</td>\n      <td>1061780</td>\n      <td>2020-03-26 23:59:00</td>\n      <td>NSE</td>\n    </tr>\n  </tbody>\n</table>\n</div>"
     },
     "metadata": {},
     "execution_count": 4
    }
   ],
   "source": [
    "import charts\n",
    "\n",
    "fplot = charts.FinPlotter(rawdata, format=\"db\")\n",
    "fplot.data.head()"
   ]
  },
  {
   "cell_type": "code",
   "execution_count": 10,
   "metadata": {},
   "outputs": [
    {
     "output_type": "execute_result",
     "data": {
      "text/plain": "                         Open      High       Low     Close  Volume\ndatetime                                                           \n2020-02-28 09:16:00  29625.00  29650.00  29375.60  29587.75  146320\n2020-02-28 09:17:00  29600.00  29635.95  29572.40  29594.65   70100\n2020-02-28 09:18:00  29582.55  29582.55  29550.00  29580.00   64000\n2020-02-28 09:19:00  29578.05  29636.20  29577.70  29592.00   35100\n2020-02-28 09:20:00  29592.75  29665.25  29592.35  29638.20   43160",
      "text/html": "<div>\n<style scoped>\n    .dataframe tbody tr th:only-of-type {\n        vertical-align: middle;\n    }\n\n    .dataframe tbody tr th {\n        vertical-align: top;\n    }\n\n    .dataframe thead th {\n        text-align: right;\n    }\n</style>\n<table border=\"1\" class=\"dataframe\">\n  <thead>\n    <tr style=\"text-align: right;\">\n      <th></th>\n      <th>Open</th>\n      <th>High</th>\n      <th>Low</th>\n      <th>Close</th>\n      <th>Volume</th>\n    </tr>\n    <tr>\n      <th>datetime</th>\n      <th></th>\n      <th></th>\n      <th></th>\n      <th></th>\n      <th></th>\n    </tr>\n  </thead>\n  <tbody>\n    <tr>\n      <th>2020-02-28 09:16:00</th>\n      <td>29625.00</td>\n      <td>29650.00</td>\n      <td>29375.60</td>\n      <td>29587.75</td>\n      <td>146320</td>\n    </tr>\n    <tr>\n      <th>2020-02-28 09:17:00</th>\n      <td>29600.00</td>\n      <td>29635.95</td>\n      <td>29572.40</td>\n      <td>29594.65</td>\n      <td>70100</td>\n    </tr>\n    <tr>\n      <th>2020-02-28 09:18:00</th>\n      <td>29582.55</td>\n      <td>29582.55</td>\n      <td>29550.00</td>\n      <td>29580.00</td>\n      <td>64000</td>\n    </tr>\n    <tr>\n      <th>2020-02-28 09:19:00</th>\n      <td>29578.05</td>\n      <td>29636.20</td>\n      <td>29577.70</td>\n      <td>29592.00</td>\n      <td>35100</td>\n    </tr>\n    <tr>\n      <th>2020-02-28 09:20:00</th>\n      <td>29592.75</td>\n      <td>29665.25</td>\n      <td>29592.35</td>\n      <td>29638.20</td>\n      <td>43160</td>\n    </tr>\n  </tbody>\n</table>\n</div>"
     },
     "metadata": {},
     "execution_count": 10
    }
   ],
   "source": [
    "data_backtesting = strategys_backtesting.prepareData(rawdata, True)\n",
    "data_backtesting.head()"
   ]
  },
  {
   "cell_type": "code",
   "execution_count": 6,
   "metadata": {},
   "outputs": [
    {
     "output_type": "execute_result",
     "data": {
      "text/plain": "                         Open      High       Low     Close  Volume\ndatetime                                                           \n2020-02-28 09:16:00  29625.00  29650.00  29375.60  29587.75  146320\n2020-02-28 09:17:00  29600.00  29635.95  29572.40  29594.65   70100\n2020-02-28 09:18:00  29582.55  29582.55  29550.00  29580.00   64000\n2020-02-28 09:19:00  29578.05  29636.20  29577.70  29592.00   35100\n2020-02-28 09:20:00  29592.75  29665.25  29592.35  29638.20   43160",
      "text/html": "<div>\n<style scoped>\n    .dataframe tbody tr th:only-of-type {\n        vertical-align: middle;\n    }\n\n    .dataframe tbody tr th {\n        vertical-align: top;\n    }\n\n    .dataframe thead th {\n        text-align: right;\n    }\n</style>\n<table border=\"1\" class=\"dataframe\">\n  <thead>\n    <tr style=\"text-align: right;\">\n      <th></th>\n      <th>Open</th>\n      <th>High</th>\n      <th>Low</th>\n      <th>Close</th>\n      <th>Volume</th>\n    </tr>\n    <tr>\n      <th>datetime</th>\n      <th></th>\n      <th></th>\n      <th></th>\n      <th></th>\n      <th></th>\n    </tr>\n  </thead>\n  <tbody>\n    <tr>\n      <th>2020-02-28 09:16:00</th>\n      <td>29625.00</td>\n      <td>29650.00</td>\n      <td>29375.60</td>\n      <td>29587.75</td>\n      <td>146320</td>\n    </tr>\n    <tr>\n      <th>2020-02-28 09:17:00</th>\n      <td>29600.00</td>\n      <td>29635.95</td>\n      <td>29572.40</td>\n      <td>29594.65</td>\n      <td>70100</td>\n    </tr>\n    <tr>\n      <th>2020-02-28 09:18:00</th>\n      <td>29582.55</td>\n      <td>29582.55</td>\n      <td>29550.00</td>\n      <td>29580.00</td>\n      <td>64000</td>\n    </tr>\n    <tr>\n      <th>2020-02-28 09:19:00</th>\n      <td>29578.05</td>\n      <td>29636.20</td>\n      <td>29577.70</td>\n      <td>29592.00</td>\n      <td>35100</td>\n    </tr>\n    <tr>\n      <th>2020-02-28 09:20:00</th>\n      <td>29592.75</td>\n      <td>29665.25</td>\n      <td>29592.35</td>\n      <td>29638.20</td>\n      <td>43160</td>\n    </tr>\n  </tbody>\n</table>\n</div>"
     },
     "metadata": {},
     "execution_count": 6
    }
   ],
   "source": [
    "\n",
    "fplot = charts.FinPlotter(data_backtesting)\n",
    "fplot.data.head()"
   ]
  },
  {
   "cell_type": "code",
   "execution_count": 9,
   "metadata": {
    "tags": []
   },
   "outputs": [
    {
     "output_type": "error",
     "ename": "AttributeError",
     "evalue": "'DataFrame' object has no attribute 'open'",
     "traceback": [
      "\u001b[1;31m---------------------------------------------------------------------------\u001b[0m",
      "\u001b[1;31mAttributeError\u001b[0m                            Traceback (most recent call last)",
      "\u001b[1;32m<ipython-input-9-f4f6a1c8bd04>\u001b[0m in \u001b[0;36m<module>\u001b[1;34m\u001b[0m\n\u001b[1;32m----> 1\u001b[1;33m \u001b[0mfplot\u001b[0m\u001b[1;33m.\u001b[0m\u001b[0mindiPlot\u001b[0m\u001b[1;33m(\u001b[0m\u001b[0mname\u001b[0m\u001b[1;33m=\u001b[0m\u001b[0mbanknifty_table\u001b[0m\u001b[1;33m)\u001b[0m\u001b[1;33m\u001b[0m\u001b[1;33m\u001b[0m\u001b[0m\n\u001b[0m",
      "\u001b[1;32mf:\\Projects\\Futuryze\\Algo Trading\\charts.py\u001b[0m in \u001b[0;36mindiPlot\u001b[1;34m(self, name, icators)\u001b[0m\n\u001b[0;32m    194\u001b[0m \u001b[1;33m\u001b[0m\u001b[0m\n\u001b[0;32m    195\u001b[0m         \u001b[1;31m# price chart\u001b[0m\u001b[1;33m\u001b[0m\u001b[1;33m\u001b[0m\u001b[1;33m\u001b[0m\u001b[0m\n\u001b[1;32m--> 196\u001b[1;33m         \u001b[0mplot_heikin_ashi\u001b[0m\u001b[1;33m(\u001b[0m\u001b[0mself\u001b[0m\u001b[1;33m.\u001b[0m\u001b[0mdata\u001b[0m\u001b[1;33m,\u001b[0m \u001b[0max\u001b[0m\u001b[1;33m)\u001b[0m\u001b[1;33m\u001b[0m\u001b[1;33m\u001b[0m\u001b[0m\n\u001b[0m\u001b[0;32m    197\u001b[0m         \u001b[0mplot_bollinger_bands\u001b[0m\u001b[1;33m(\u001b[0m\u001b[0mself\u001b[0m\u001b[1;33m.\u001b[0m\u001b[0mdata\u001b[0m\u001b[1;33m,\u001b[0m \u001b[0max\u001b[0m\u001b[1;33m)\u001b[0m\u001b[1;33m\u001b[0m\u001b[1;33m\u001b[0m\u001b[0m\n\u001b[0;32m    198\u001b[0m         \u001b[0mplot_ema\u001b[0m\u001b[1;33m(\u001b[0m\u001b[0mself\u001b[0m\u001b[1;33m.\u001b[0m\u001b[0mdata\u001b[0m\u001b[1;33m,\u001b[0m \u001b[0max\u001b[0m\u001b[1;33m)\u001b[0m\u001b[1;33m\u001b[0m\u001b[1;33m\u001b[0m\u001b[0m\n",
      "\u001b[1;32mf:\\Projects\\Futuryze\\Algo Trading\\charts.py\u001b[0m in \u001b[0;36mplot_heikin_ashi\u001b[1;34m(df, ax)\u001b[0m\n\u001b[0;32m    142\u001b[0m \u001b[1;33m\u001b[0m\u001b[0m\n\u001b[0;32m    143\u001b[0m         \u001b[1;32mdef\u001b[0m \u001b[0mplot_heikin_ashi\u001b[0m\u001b[1;33m(\u001b[0m\u001b[0mdf\u001b[0m\u001b[1;33m,\u001b[0m \u001b[0max\u001b[0m\u001b[1;33m)\u001b[0m\u001b[1;33m:\u001b[0m\u001b[1;33m\u001b[0m\u001b[1;33m\u001b[0m\u001b[0m\n\u001b[1;32m--> 144\u001b[1;33m             \u001b[0mdf\u001b[0m\u001b[1;33m[\u001b[0m\u001b[1;34m'h_close'\u001b[0m\u001b[1;33m]\u001b[0m \u001b[1;33m=\u001b[0m \u001b[1;33m(\u001b[0m\u001b[0mdf\u001b[0m\u001b[1;33m.\u001b[0m\u001b[0mopen\u001b[0m\u001b[1;33m+\u001b[0m\u001b[0mdf\u001b[0m\u001b[1;33m.\u001b[0m\u001b[0mclose\u001b[0m\u001b[1;33m+\u001b[0m\u001b[0mdf\u001b[0m\u001b[1;33m.\u001b[0m\u001b[0mhigh\u001b[0m\u001b[1;33m+\u001b[0m\u001b[0mdf\u001b[0m\u001b[1;33m.\u001b[0m\u001b[0mlow\u001b[0m\u001b[1;33m)\u001b[0m \u001b[1;33m*\u001b[0m \u001b[1;36m0.25\u001b[0m\u001b[1;33m\u001b[0m\u001b[1;33m\u001b[0m\u001b[0m\n\u001b[0m\u001b[0;32m    145\u001b[0m             \u001b[0mdf\u001b[0m\u001b[1;33m[\u001b[0m\u001b[1;34m'h_open'\u001b[0m\u001b[1;33m]\u001b[0m \u001b[1;33m=\u001b[0m \u001b[1;33m(\u001b[0m\u001b[0mdf\u001b[0m\u001b[1;33m.\u001b[0m\u001b[0mopen\u001b[0m\u001b[1;33m.\u001b[0m\u001b[0mshift\u001b[0m\u001b[1;33m(\u001b[0m\u001b[1;33m)\u001b[0m\u001b[1;33m+\u001b[0m\u001b[0mdf\u001b[0m\u001b[1;33m.\u001b[0m\u001b[0mclose\u001b[0m\u001b[1;33m.\u001b[0m\u001b[0mshift\u001b[0m\u001b[1;33m(\u001b[0m\u001b[1;33m)\u001b[0m\u001b[1;33m)\u001b[0m \u001b[1;33m*\u001b[0m \u001b[1;36m0.5\u001b[0m\u001b[1;33m\u001b[0m\u001b[1;33m\u001b[0m\u001b[0m\n\u001b[0;32m    146\u001b[0m             \u001b[0mdf\u001b[0m\u001b[1;33m[\u001b[0m\u001b[1;34m'h_high'\u001b[0m\u001b[1;33m]\u001b[0m \u001b[1;33m=\u001b[0m \u001b[0mdf\u001b[0m\u001b[1;33m[\u001b[0m\u001b[1;33m[\u001b[0m\u001b[1;34m'High'\u001b[0m\u001b[1;33m,\u001b[0m\u001b[1;34m'h_open'\u001b[0m\u001b[1;33m,\u001b[0m\u001b[1;34m'h_close'\u001b[0m\u001b[1;33m]\u001b[0m\u001b[1;33m]\u001b[0m\u001b[1;33m.\u001b[0m\u001b[0mmax\u001b[0m\u001b[1;33m(\u001b[0m\u001b[0maxis\u001b[0m\u001b[1;33m=\u001b[0m\u001b[1;36m1\u001b[0m\u001b[1;33m)\u001b[0m\u001b[1;33m\u001b[0m\u001b[1;33m\u001b[0m\u001b[0m\n",
      "\u001b[1;32m~\\AppData\\Local\\Programs\\Python\\Python36\\lib\\site-packages\\pandas\\core\\generic.py\u001b[0m in \u001b[0;36m__getattr__\u001b[1;34m(self, name)\u001b[0m\n\u001b[0;32m   5128\u001b[0m             \u001b[1;32mif\u001b[0m \u001b[0mself\u001b[0m\u001b[1;33m.\u001b[0m\u001b[0m_info_axis\u001b[0m\u001b[1;33m.\u001b[0m\u001b[0m_can_hold_identifiers_and_holds_name\u001b[0m\u001b[1;33m(\u001b[0m\u001b[0mname\u001b[0m\u001b[1;33m)\u001b[0m\u001b[1;33m:\u001b[0m\u001b[1;33m\u001b[0m\u001b[1;33m\u001b[0m\u001b[0m\n\u001b[0;32m   5129\u001b[0m                 \u001b[1;32mreturn\u001b[0m \u001b[0mself\u001b[0m\u001b[1;33m[\u001b[0m\u001b[0mname\u001b[0m\u001b[1;33m]\u001b[0m\u001b[1;33m\u001b[0m\u001b[1;33m\u001b[0m\u001b[0m\n\u001b[1;32m-> 5130\u001b[1;33m             \u001b[1;32mreturn\u001b[0m \u001b[0mobject\u001b[0m\u001b[1;33m.\u001b[0m\u001b[0m__getattribute__\u001b[0m\u001b[1;33m(\u001b[0m\u001b[0mself\u001b[0m\u001b[1;33m,\u001b[0m \u001b[0mname\u001b[0m\u001b[1;33m)\u001b[0m\u001b[1;33m\u001b[0m\u001b[1;33m\u001b[0m\u001b[0m\n\u001b[0m\u001b[0;32m   5131\u001b[0m \u001b[1;33m\u001b[0m\u001b[0m\n\u001b[0;32m   5132\u001b[0m     \u001b[1;32mdef\u001b[0m \u001b[0m__setattr__\u001b[0m\u001b[1;33m(\u001b[0m\u001b[0mself\u001b[0m\u001b[1;33m,\u001b[0m \u001b[0mname\u001b[0m\u001b[1;33m:\u001b[0m \u001b[0mstr\u001b[0m\u001b[1;33m,\u001b[0m \u001b[0mvalue\u001b[0m\u001b[1;33m)\u001b[0m \u001b[1;33m->\u001b[0m \u001b[1;32mNone\u001b[0m\u001b[1;33m:\u001b[0m\u001b[1;33m\u001b[0m\u001b[1;33m\u001b[0m\u001b[0m\n",
      "\u001b[1;31mAttributeError\u001b[0m: 'DataFrame' object has no attribute 'open'"
     ]
    }
   ],
   "source": [
    "fplot.indiPlot(name=banknifty_table)"
   ]
  },
  {
   "cell_type": "code",
   "execution_count": 8,
   "metadata": {},
   "outputs": [
    {
     "output_type": "execute_result",
     "data": {
      "text/plain": "2020-03-27 09:16:00             NaN\n2020-03-27 09:17:00             NaN\n2020-03-27 09:18:00             NaN\n2020-03-27 09:19:00             NaN\n2020-03-27 09:20:00             NaN\n                           ...     \n2020-04-30 15:27:00    21558.079761\n2020-04-30 15:28:00    21550.470075\n2020-04-30 15:29:00    21542.249257\n2020-04-30 15:30:00    21541.496941\n2020-04-30 19:28:00    21541.281955\nName: hband, Length: 7914, dtype: float64"
     },
     "metadata": {},
     "execution_count": 8
    }
   ],
   "source": [
    "ta.volatility.bollinger_hband(data_backtesting[\"Close\"], 20, 2)"
   ]
  },
  {
   "cell_type": "code",
   "execution_count": 24,
   "metadata": {},
   "outputs": [
    {
     "output_type": "execute_result",
     "data": {
      "text/plain": "8287"
     },
     "metadata": {},
     "execution_count": 24
    }
   ],
   "source": [
    "len(ta.volatility.bollinger_hband_indicator(data_backtesting[\"Close\"], 20, 2))"
   ]
  },
  {
   "cell_type": "code",
   "execution_count": 20,
   "metadata": {},
   "outputs": [
    {
     "output_type": "display_data",
     "data": {
      "text/plain": "<Figure size 432x288 with 1 Axes>",
      "image/svg+xml": "<?xml version=\"1.0\" encoding=\"utf-8\" standalone=\"no\"?>\r\n<!DOCTYPE svg PUBLIC \"-//W3C//DTD SVG 1.1//EN\"\r\n  \"http://www.w3.org/Graphics/SVG/1.1/DTD/svg11.dtd\">\r\n<!-- Created with matplotlib (https://matplotlib.org/) -->\r\n<svg height=\"252.018125pt\" version=\"1.1\" viewBox=\"0 0 403.522602 252.018125\" width=\"403.522602pt\" xmlns=\"http://www.w3.org/2000/svg\" xmlns:xlink=\"http://www.w3.org/1999/xlink\">\r\n <defs>\r\n  <style type=\"text/css\">\r\n*{stroke-linecap:butt;stroke-linejoin:round;}\r\n  </style>\r\n </defs>\r\n <g id=\"figure_1\">\r\n  <g id=\"patch_1\">\r\n   <path d=\"M 0 252.018125 \r\nL 403.522602 252.018125 \r\nL 403.522602 0 \r\nL 0 0 \r\nz\r\n\" style=\"fill:none;\"/>\r\n  </g>\r\n  <g id=\"axes_1\">\r\n   <g id=\"patch_2\">\r\n    <path d=\"M 46.0125 228.14 \r\nL 380.8125 228.14 \r\nL 380.8125 10.7 \r\nL 46.0125 10.7 \r\nz\r\n\" style=\"fill:#ffffff;\"/>\r\n   </g>\r\n   <g id=\"matplotlib.axis_1\">\r\n    <g id=\"xtick_1\">\r\n     <g id=\"line2d_1\">\r\n      <defs>\r\n       <path d=\"M 0 0 \r\nL 0 3.5 \r\n\" id=\"mfa43ddf193\" style=\"stroke:#000000;stroke-width:0.8;\"/>\r\n      </defs>\r\n      <g>\r\n       <use style=\"stroke:#000000;stroke-width:0.8;\" x=\"75.42355\" xlink:href=\"#mfa43ddf193\" y=\"228.14\"/>\r\n      </g>\r\n     </g>\r\n     <g id=\"text_1\">\r\n      <!-- 2020-03-29 -->\r\n      <defs>\r\n       <path d=\"M 19.1875 8.296875 \r\nL 53.609375 8.296875 \r\nL 53.609375 0 \r\nL 7.328125 0 \r\nL 7.328125 8.296875 \r\nQ 12.9375 14.109375 22.625 23.890625 \r\nQ 32.328125 33.6875 34.8125 36.53125 \r\nQ 39.546875 41.84375 41.421875 45.53125 \r\nQ 43.3125 49.21875 43.3125 52.78125 \r\nQ 43.3125 58.59375 39.234375 62.25 \r\nQ 35.15625 65.921875 28.609375 65.921875 \r\nQ 23.96875 65.921875 18.8125 64.3125 \r\nQ 13.671875 62.703125 7.8125 59.421875 \r\nL 7.8125 69.390625 \r\nQ 13.765625 71.78125 18.9375 73 \r\nQ 24.125 74.21875 28.421875 74.21875 \r\nQ 39.75 74.21875 46.484375 68.546875 \r\nQ 53.21875 62.890625 53.21875 53.421875 \r\nQ 53.21875 48.921875 51.53125 44.890625 \r\nQ 49.859375 40.875 45.40625 35.40625 \r\nQ 44.1875 33.984375 37.640625 27.21875 \r\nQ 31.109375 20.453125 19.1875 8.296875 \r\nz\r\n\" id=\"DejaVuSans-50\"/>\r\n       <path d=\"M 31.78125 66.40625 \r\nQ 24.171875 66.40625 20.328125 58.90625 \r\nQ 16.5 51.421875 16.5 36.375 \r\nQ 16.5 21.390625 20.328125 13.890625 \r\nQ 24.171875 6.390625 31.78125 6.390625 \r\nQ 39.453125 6.390625 43.28125 13.890625 \r\nQ 47.125 21.390625 47.125 36.375 \r\nQ 47.125 51.421875 43.28125 58.90625 \r\nQ 39.453125 66.40625 31.78125 66.40625 \r\nz\r\nM 31.78125 74.21875 \r\nQ 44.046875 74.21875 50.515625 64.515625 \r\nQ 56.984375 54.828125 56.984375 36.375 \r\nQ 56.984375 17.96875 50.515625 8.265625 \r\nQ 44.046875 -1.421875 31.78125 -1.421875 \r\nQ 19.53125 -1.421875 13.0625 8.265625 \r\nQ 6.59375 17.96875 6.59375 36.375 \r\nQ 6.59375 54.828125 13.0625 64.515625 \r\nQ 19.53125 74.21875 31.78125 74.21875 \r\nz\r\n\" id=\"DejaVuSans-48\"/>\r\n       <path d=\"M 4.890625 31.390625 \r\nL 31.203125 31.390625 \r\nL 31.203125 23.390625 \r\nL 4.890625 23.390625 \r\nz\r\n\" id=\"DejaVuSans-45\"/>\r\n       <path d=\"M 40.578125 39.3125 \r\nQ 47.65625 37.796875 51.625 33 \r\nQ 55.609375 28.21875 55.609375 21.1875 \r\nQ 55.609375 10.40625 48.1875 4.484375 \r\nQ 40.765625 -1.421875 27.09375 -1.421875 \r\nQ 22.515625 -1.421875 17.65625 -0.515625 \r\nQ 12.796875 0.390625 7.625 2.203125 \r\nL 7.625 11.71875 \r\nQ 11.71875 9.328125 16.59375 8.109375 \r\nQ 21.484375 6.890625 26.8125 6.890625 \r\nQ 36.078125 6.890625 40.9375 10.546875 \r\nQ 45.796875 14.203125 45.796875 21.1875 \r\nQ 45.796875 27.640625 41.28125 31.265625 \r\nQ 36.765625 34.90625 28.71875 34.90625 \r\nL 20.21875 34.90625 \r\nL 20.21875 43.015625 \r\nL 29.109375 43.015625 \r\nQ 36.375 43.015625 40.234375 45.921875 \r\nQ 44.09375 48.828125 44.09375 54.296875 \r\nQ 44.09375 59.90625 40.109375 62.90625 \r\nQ 36.140625 65.921875 28.71875 65.921875 \r\nQ 24.65625 65.921875 20.015625 65.03125 \r\nQ 15.375 64.15625 9.8125 62.3125 \r\nL 9.8125 71.09375 \r\nQ 15.4375 72.65625 20.34375 73.4375 \r\nQ 25.25 74.21875 29.59375 74.21875 \r\nQ 40.828125 74.21875 47.359375 69.109375 \r\nQ 53.90625 64.015625 53.90625 55.328125 \r\nQ 53.90625 49.265625 50.4375 45.09375 \r\nQ 46.96875 40.921875 40.578125 39.3125 \r\nz\r\n\" id=\"DejaVuSans-51\"/>\r\n       <path d=\"M 10.984375 1.515625 \r\nL 10.984375 10.5 \r\nQ 14.703125 8.734375 18.5 7.8125 \r\nQ 22.3125 6.890625 25.984375 6.890625 \r\nQ 35.75 6.890625 40.890625 13.453125 \r\nQ 46.046875 20.015625 46.78125 33.40625 \r\nQ 43.953125 29.203125 39.59375 26.953125 \r\nQ 35.25 24.703125 29.984375 24.703125 \r\nQ 19.046875 24.703125 12.671875 31.3125 \r\nQ 6.296875 37.9375 6.296875 49.421875 \r\nQ 6.296875 60.640625 12.9375 67.421875 \r\nQ 19.578125 74.21875 30.609375 74.21875 \r\nQ 43.265625 74.21875 49.921875 64.515625 \r\nQ 56.59375 54.828125 56.59375 36.375 \r\nQ 56.59375 19.140625 48.40625 8.859375 \r\nQ 40.234375 -1.421875 26.421875 -1.421875 \r\nQ 22.703125 -1.421875 18.890625 -0.6875 \r\nQ 15.09375 0.046875 10.984375 1.515625 \r\nz\r\nM 30.609375 32.421875 \r\nQ 37.25 32.421875 41.125 36.953125 \r\nQ 45.015625 41.5 45.015625 49.421875 \r\nQ 45.015625 57.28125 41.125 61.84375 \r\nQ 37.25 66.40625 30.609375 66.40625 \r\nQ 23.96875 66.40625 20.09375 61.84375 \r\nQ 16.21875 57.28125 16.21875 49.421875 \r\nQ 16.21875 41.5 20.09375 36.953125 \r\nQ 23.96875 32.421875 30.609375 32.421875 \r\nz\r\n\" id=\"DejaVuSans-57\"/>\r\n      </defs>\r\n      <g transform=\"translate(46.365738 242.738437)scale(0.1 -0.1)\">\r\n       <use xlink:href=\"#DejaVuSans-50\"/>\r\n       <use x=\"63.623047\" xlink:href=\"#DejaVuSans-48\"/>\r\n       <use x=\"127.246094\" xlink:href=\"#DejaVuSans-50\"/>\r\n       <use x=\"190.869141\" xlink:href=\"#DejaVuSans-48\"/>\r\n       <use x=\"254.492188\" xlink:href=\"#DejaVuSans-45\"/>\r\n       <use x=\"290.576172\" xlink:href=\"#DejaVuSans-48\"/>\r\n       <use x=\"354.199219\" xlink:href=\"#DejaVuSans-51\"/>\r\n       <use x=\"417.822266\" xlink:href=\"#DejaVuSans-45\"/>\r\n       <use x=\"453.90625\" xlink:href=\"#DejaVuSans-50\"/>\r\n       <use x=\"517.529297\" xlink:href=\"#DejaVuSans-57\"/>\r\n      </g>\r\n     </g>\r\n    </g>\r\n    <g id=\"xtick_2\">\r\n     <g id=\"line2d_2\">\r\n      <g>\r\n       <use style=\"stroke:#000000;stroke-width:0.8;\" x=\"101.954572\" xlink:href=\"#mfa43ddf193\" y=\"228.14\"/>\r\n      </g>\r\n     </g>\r\n     <g id=\"text_2\">\r\n      <!-- 2020-04-01 -->\r\n      <defs>\r\n       <path d=\"M 37.796875 64.3125 \r\nL 12.890625 25.390625 \r\nL 37.796875 25.390625 \r\nz\r\nM 35.203125 72.90625 \r\nL 47.609375 72.90625 \r\nL 47.609375 25.390625 \r\nL 58.015625 25.390625 \r\nL 58.015625 17.1875 \r\nL 47.609375 17.1875 \r\nL 47.609375 0 \r\nL 37.796875 0 \r\nL 37.796875 17.1875 \r\nL 4.890625 17.1875 \r\nL 4.890625 26.703125 \r\nz\r\n\" id=\"DejaVuSans-52\"/>\r\n       <path d=\"M 12.40625 8.296875 \r\nL 28.515625 8.296875 \r\nL 28.515625 63.921875 \r\nL 10.984375 60.40625 \r\nL 10.984375 69.390625 \r\nL 28.421875 72.90625 \r\nL 38.28125 72.90625 \r\nL 38.28125 8.296875 \r\nL 54.390625 8.296875 \r\nL 54.390625 0 \r\nL 12.40625 0 \r\nz\r\n\" id=\"DejaVuSans-49\"/>\r\n      </defs>\r\n      <g transform=\"translate(72.896759 242.738437)scale(0.1 -0.1)\">\r\n       <use xlink:href=\"#DejaVuSans-50\"/>\r\n       <use x=\"63.623047\" xlink:href=\"#DejaVuSans-48\"/>\r\n       <use x=\"127.246094\" xlink:href=\"#DejaVuSans-50\"/>\r\n       <use x=\"190.869141\" xlink:href=\"#DejaVuSans-48\"/>\r\n       <use x=\"254.492188\" xlink:href=\"#DejaVuSans-45\"/>\r\n       <use x=\"290.576172\" xlink:href=\"#DejaVuSans-48\"/>\r\n       <use x=\"354.199219\" xlink:href=\"#DejaVuSans-52\"/>\r\n       <use x=\"417.822266\" xlink:href=\"#DejaVuSans-45\"/>\r\n       <use x=\"453.90625\" xlink:href=\"#DejaVuSans-48\"/>\r\n       <use x=\"517.529297\" xlink:href=\"#DejaVuSans-49\"/>\r\n      </g>\r\n     </g>\r\n    </g>\r\n    <g id=\"xtick_3\">\r\n     <g id=\"line2d_3\">\r\n      <g>\r\n       <use style=\"stroke:#000000;stroke-width:0.8;\" x=\"137.329268\" xlink:href=\"#mfa43ddf193\" y=\"228.14\"/>\r\n      </g>\r\n     </g>\r\n     <g id=\"text_3\">\r\n      <!-- 2020-04-05 -->\r\n      <defs>\r\n       <path d=\"M 10.796875 72.90625 \r\nL 49.515625 72.90625 \r\nL 49.515625 64.59375 \r\nL 19.828125 64.59375 \r\nL 19.828125 46.734375 \r\nQ 21.96875 47.46875 24.109375 47.828125 \r\nQ 26.265625 48.1875 28.421875 48.1875 \r\nQ 40.625 48.1875 47.75 41.5 \r\nQ 54.890625 34.8125 54.890625 23.390625 \r\nQ 54.890625 11.625 47.5625 5.09375 \r\nQ 40.234375 -1.421875 26.90625 -1.421875 \r\nQ 22.3125 -1.421875 17.546875 -0.640625 \r\nQ 12.796875 0.140625 7.71875 1.703125 \r\nL 7.71875 11.625 \r\nQ 12.109375 9.234375 16.796875 8.0625 \r\nQ 21.484375 6.890625 26.703125 6.890625 \r\nQ 35.15625 6.890625 40.078125 11.328125 \r\nQ 45.015625 15.765625 45.015625 23.390625 \r\nQ 45.015625 31 40.078125 35.4375 \r\nQ 35.15625 39.890625 26.703125 39.890625 \r\nQ 22.75 39.890625 18.8125 39.015625 \r\nQ 14.890625 38.140625 10.796875 36.28125 \r\nz\r\n\" id=\"DejaVuSans-53\"/>\r\n      </defs>\r\n      <g transform=\"translate(108.271455 242.738437)scale(0.1 -0.1)\">\r\n       <use xlink:href=\"#DejaVuSans-50\"/>\r\n       <use x=\"63.623047\" xlink:href=\"#DejaVuSans-48\"/>\r\n       <use x=\"127.246094\" xlink:href=\"#DejaVuSans-50\"/>\r\n       <use x=\"190.869141\" xlink:href=\"#DejaVuSans-48\"/>\r\n       <use x=\"254.492188\" xlink:href=\"#DejaVuSans-45\"/>\r\n       <use x=\"290.576172\" xlink:href=\"#DejaVuSans-48\"/>\r\n       <use x=\"354.199219\" xlink:href=\"#DejaVuSans-52\"/>\r\n       <use x=\"417.822266\" xlink:href=\"#DejaVuSans-45\"/>\r\n       <use x=\"453.90625\" xlink:href=\"#DejaVuSans-48\"/>\r\n       <use x=\"517.529297\" xlink:href=\"#DejaVuSans-53\"/>\r\n      </g>\r\n     </g>\r\n    </g>\r\n    <g id=\"xtick_4\">\r\n     <g id=\"line2d_4\">\r\n      <g>\r\n       <use style=\"stroke:#000000;stroke-width:0.8;\" x=\"172.703963\" xlink:href=\"#mfa43ddf193\" y=\"228.14\"/>\r\n      </g>\r\n     </g>\r\n     <g id=\"text_4\">\r\n      <!-- 2020-04-09 -->\r\n      <g transform=\"translate(143.646151 242.738437)scale(0.1 -0.1)\">\r\n       <use xlink:href=\"#DejaVuSans-50\"/>\r\n       <use x=\"63.623047\" xlink:href=\"#DejaVuSans-48\"/>\r\n       <use x=\"127.246094\" xlink:href=\"#DejaVuSans-50\"/>\r\n       <use x=\"190.869141\" xlink:href=\"#DejaVuSans-48\"/>\r\n       <use x=\"254.492188\" xlink:href=\"#DejaVuSans-45\"/>\r\n       <use x=\"290.576172\" xlink:href=\"#DejaVuSans-48\"/>\r\n       <use x=\"354.199219\" xlink:href=\"#DejaVuSans-52\"/>\r\n       <use x=\"417.822266\" xlink:href=\"#DejaVuSans-45\"/>\r\n       <use x=\"453.90625\" xlink:href=\"#DejaVuSans-48\"/>\r\n       <use x=\"517.529297\" xlink:href=\"#DejaVuSans-57\"/>\r\n      </g>\r\n     </g>\r\n    </g>\r\n    <g id=\"xtick_5\">\r\n     <g id=\"line2d_5\">\r\n      <g>\r\n       <use style=\"stroke:#000000;stroke-width:0.8;\" x=\"208.078659\" xlink:href=\"#mfa43ddf193\" y=\"228.14\"/>\r\n      </g>\r\n     </g>\r\n     <g id=\"text_5\">\r\n      <!-- 2020-04-13 -->\r\n      <g transform=\"translate(179.020847 242.738437)scale(0.1 -0.1)\">\r\n       <use xlink:href=\"#DejaVuSans-50\"/>\r\n       <use x=\"63.623047\" xlink:href=\"#DejaVuSans-48\"/>\r\n       <use x=\"127.246094\" xlink:href=\"#DejaVuSans-50\"/>\r\n       <use x=\"190.869141\" xlink:href=\"#DejaVuSans-48\"/>\r\n       <use x=\"254.492188\" xlink:href=\"#DejaVuSans-45\"/>\r\n       <use x=\"290.576172\" xlink:href=\"#DejaVuSans-48\"/>\r\n       <use x=\"354.199219\" xlink:href=\"#DejaVuSans-52\"/>\r\n       <use x=\"417.822266\" xlink:href=\"#DejaVuSans-45\"/>\r\n       <use x=\"453.90625\" xlink:href=\"#DejaVuSans-49\"/>\r\n       <use x=\"517.529297\" xlink:href=\"#DejaVuSans-51\"/>\r\n      </g>\r\n     </g>\r\n    </g>\r\n    <g id=\"xtick_6\">\r\n     <g id=\"line2d_6\">\r\n      <g>\r\n       <use style=\"stroke:#000000;stroke-width:0.8;\" x=\"243.453355\" xlink:href=\"#mfa43ddf193\" y=\"228.14\"/>\r\n      </g>\r\n     </g>\r\n     <g id=\"text_6\">\r\n      <!-- 2020-04-17 -->\r\n      <defs>\r\n       <path d=\"M 8.203125 72.90625 \r\nL 55.078125 72.90625 \r\nL 55.078125 68.703125 \r\nL 28.609375 0 \r\nL 18.3125 0 \r\nL 43.21875 64.59375 \r\nL 8.203125 64.59375 \r\nz\r\n\" id=\"DejaVuSans-55\"/>\r\n      </defs>\r\n      <g transform=\"translate(214.395542 242.738437)scale(0.1 -0.1)\">\r\n       <use xlink:href=\"#DejaVuSans-50\"/>\r\n       <use x=\"63.623047\" xlink:href=\"#DejaVuSans-48\"/>\r\n       <use x=\"127.246094\" xlink:href=\"#DejaVuSans-50\"/>\r\n       <use x=\"190.869141\" xlink:href=\"#DejaVuSans-48\"/>\r\n       <use x=\"254.492188\" xlink:href=\"#DejaVuSans-45\"/>\r\n       <use x=\"290.576172\" xlink:href=\"#DejaVuSans-48\"/>\r\n       <use x=\"354.199219\" xlink:href=\"#DejaVuSans-52\"/>\r\n       <use x=\"417.822266\" xlink:href=\"#DejaVuSans-45\"/>\r\n       <use x=\"453.90625\" xlink:href=\"#DejaVuSans-49\"/>\r\n       <use x=\"517.529297\" xlink:href=\"#DejaVuSans-55\"/>\r\n      </g>\r\n     </g>\r\n    </g>\r\n    <g id=\"xtick_7\">\r\n     <g id=\"line2d_7\">\r\n      <g>\r\n       <use style=\"stroke:#000000;stroke-width:0.8;\" x=\"278.828051\" xlink:href=\"#mfa43ddf193\" y=\"228.14\"/>\r\n      </g>\r\n     </g>\r\n     <g id=\"text_7\">\r\n      <!-- 2020-04-21 -->\r\n      <g transform=\"translate(249.770238 242.738437)scale(0.1 -0.1)\">\r\n       <use xlink:href=\"#DejaVuSans-50\"/>\r\n       <use x=\"63.623047\" xlink:href=\"#DejaVuSans-48\"/>\r\n       <use x=\"127.246094\" xlink:href=\"#DejaVuSans-50\"/>\r\n       <use x=\"190.869141\" xlink:href=\"#DejaVuSans-48\"/>\r\n       <use x=\"254.492188\" xlink:href=\"#DejaVuSans-45\"/>\r\n       <use x=\"290.576172\" xlink:href=\"#DejaVuSans-48\"/>\r\n       <use x=\"354.199219\" xlink:href=\"#DejaVuSans-52\"/>\r\n       <use x=\"417.822266\" xlink:href=\"#DejaVuSans-45\"/>\r\n       <use x=\"453.90625\" xlink:href=\"#DejaVuSans-50\"/>\r\n       <use x=\"517.529297\" xlink:href=\"#DejaVuSans-49\"/>\r\n      </g>\r\n     </g>\r\n    </g>\r\n    <g id=\"xtick_8\">\r\n     <g id=\"line2d_8\">\r\n      <g>\r\n       <use style=\"stroke:#000000;stroke-width:0.8;\" x=\"314.202746\" xlink:href=\"#mfa43ddf193\" y=\"228.14\"/>\r\n      </g>\r\n     </g>\r\n     <g id=\"text_8\">\r\n      <!-- 2020-04-25 -->\r\n      <g transform=\"translate(285.144934 242.738437)scale(0.1 -0.1)\">\r\n       <use xlink:href=\"#DejaVuSans-50\"/>\r\n       <use x=\"63.623047\" xlink:href=\"#DejaVuSans-48\"/>\r\n       <use x=\"127.246094\" xlink:href=\"#DejaVuSans-50\"/>\r\n       <use x=\"190.869141\" xlink:href=\"#DejaVuSans-48\"/>\r\n       <use x=\"254.492188\" xlink:href=\"#DejaVuSans-45\"/>\r\n       <use x=\"290.576172\" xlink:href=\"#DejaVuSans-48\"/>\r\n       <use x=\"354.199219\" xlink:href=\"#DejaVuSans-52\"/>\r\n       <use x=\"417.822266\" xlink:href=\"#DejaVuSans-45\"/>\r\n       <use x=\"453.90625\" xlink:href=\"#DejaVuSans-50\"/>\r\n       <use x=\"517.529297\" xlink:href=\"#DejaVuSans-53\"/>\r\n      </g>\r\n     </g>\r\n    </g>\r\n    <g id=\"xtick_9\">\r\n     <g id=\"line2d_9\">\r\n      <g>\r\n       <use style=\"stroke:#000000;stroke-width:0.8;\" x=\"349.577442\" xlink:href=\"#mfa43ddf193\" y=\"228.14\"/>\r\n      </g>\r\n     </g>\r\n     <g id=\"text_9\">\r\n      <!-- 2020-04-29 -->\r\n      <g transform=\"translate(320.51963 242.738437)scale(0.1 -0.1)\">\r\n       <use xlink:href=\"#DejaVuSans-50\"/>\r\n       <use x=\"63.623047\" xlink:href=\"#DejaVuSans-48\"/>\r\n       <use x=\"127.246094\" xlink:href=\"#DejaVuSans-50\"/>\r\n       <use x=\"190.869141\" xlink:href=\"#DejaVuSans-48\"/>\r\n       <use x=\"254.492188\" xlink:href=\"#DejaVuSans-45\"/>\r\n       <use x=\"290.576172\" xlink:href=\"#DejaVuSans-48\"/>\r\n       <use x=\"354.199219\" xlink:href=\"#DejaVuSans-52\"/>\r\n       <use x=\"417.822266\" xlink:href=\"#DejaVuSans-45\"/>\r\n       <use x=\"453.90625\" xlink:href=\"#DejaVuSans-50\"/>\r\n       <use x=\"517.529297\" xlink:href=\"#DejaVuSans-57\"/>\r\n      </g>\r\n     </g>\r\n    </g>\r\n    <g id=\"xtick_10\">\r\n     <g id=\"line2d_10\">\r\n      <g>\r\n       <use style=\"stroke:#000000;stroke-width:0.8;\" x=\"367.26479\" xlink:href=\"#mfa43ddf193\" y=\"228.14\"/>\r\n      </g>\r\n     </g>\r\n     <g id=\"text_10\">\r\n      <!-- 2020-05-01 -->\r\n      <g transform=\"translate(338.206977 242.738437)scale(0.1 -0.1)\">\r\n       <use xlink:href=\"#DejaVuSans-50\"/>\r\n       <use x=\"63.623047\" xlink:href=\"#DejaVuSans-48\"/>\r\n       <use x=\"127.246094\" xlink:href=\"#DejaVuSans-50\"/>\r\n       <use x=\"190.869141\" xlink:href=\"#DejaVuSans-48\"/>\r\n       <use x=\"254.492188\" xlink:href=\"#DejaVuSans-45\"/>\r\n       <use x=\"290.576172\" xlink:href=\"#DejaVuSans-48\"/>\r\n       <use x=\"354.199219\" xlink:href=\"#DejaVuSans-53\"/>\r\n       <use x=\"417.822266\" xlink:href=\"#DejaVuSans-45\"/>\r\n       <use x=\"453.90625\" xlink:href=\"#DejaVuSans-48\"/>\r\n       <use x=\"517.529297\" xlink:href=\"#DejaVuSans-49\"/>\r\n      </g>\r\n     </g>\r\n    </g>\r\n   </g>\r\n   <g id=\"matplotlib.axis_2\">\r\n    <g id=\"ytick_1\">\r\n     <g id=\"line2d_11\">\r\n      <defs>\r\n       <path d=\"M 0 0 \r\nL -3.5 0 \r\n\" id=\"m835dac6da7\" style=\"stroke:#000000;stroke-width:0.8;\"/>\r\n      </defs>\r\n      <g>\r\n       <use style=\"stroke:#000000;stroke-width:0.8;\" x=\"46.0125\" xlink:href=\"#m835dac6da7\" y=\"204.571447\"/>\r\n      </g>\r\n     </g>\r\n     <g id=\"text_11\">\r\n      <!-- 17000 -->\r\n      <g transform=\"translate(7.2 208.370665)scale(0.1 -0.1)\">\r\n       <use xlink:href=\"#DejaVuSans-49\"/>\r\n       <use x=\"63.623047\" xlink:href=\"#DejaVuSans-55\"/>\r\n       <use x=\"127.246094\" xlink:href=\"#DejaVuSans-48\"/>\r\n       <use x=\"190.869141\" xlink:href=\"#DejaVuSans-48\"/>\r\n       <use x=\"254.492188\" xlink:href=\"#DejaVuSans-48\"/>\r\n      </g>\r\n     </g>\r\n    </g>\r\n    <g id=\"ytick_2\">\r\n     <g id=\"line2d_12\">\r\n      <g>\r\n       <use style=\"stroke:#000000;stroke-width:0.8;\" x=\"46.0125\" xlink:href=\"#m835dac6da7\" y=\"167.471137\"/>\r\n      </g>\r\n     </g>\r\n     <g id=\"text_12\">\r\n      <!-- 18000 -->\r\n      <defs>\r\n       <path d=\"M 31.78125 34.625 \r\nQ 24.75 34.625 20.71875 30.859375 \r\nQ 16.703125 27.09375 16.703125 20.515625 \r\nQ 16.703125 13.921875 20.71875 10.15625 \r\nQ 24.75 6.390625 31.78125 6.390625 \r\nQ 38.8125 6.390625 42.859375 10.171875 \r\nQ 46.921875 13.96875 46.921875 20.515625 \r\nQ 46.921875 27.09375 42.890625 30.859375 \r\nQ 38.875 34.625 31.78125 34.625 \r\nz\r\nM 21.921875 38.8125 \r\nQ 15.578125 40.375 12.03125 44.71875 \r\nQ 8.5 49.078125 8.5 55.328125 \r\nQ 8.5 64.0625 14.71875 69.140625 \r\nQ 20.953125 74.21875 31.78125 74.21875 \r\nQ 42.671875 74.21875 48.875 69.140625 \r\nQ 55.078125 64.0625 55.078125 55.328125 \r\nQ 55.078125 49.078125 51.53125 44.71875 \r\nQ 48 40.375 41.703125 38.8125 \r\nQ 48.828125 37.15625 52.796875 32.3125 \r\nQ 56.78125 27.484375 56.78125 20.515625 \r\nQ 56.78125 9.90625 50.3125 4.234375 \r\nQ 43.84375 -1.421875 31.78125 -1.421875 \r\nQ 19.734375 -1.421875 13.25 4.234375 \r\nQ 6.78125 9.90625 6.78125 20.515625 \r\nQ 6.78125 27.484375 10.78125 32.3125 \r\nQ 14.796875 37.15625 21.921875 38.8125 \r\nz\r\nM 18.3125 54.390625 \r\nQ 18.3125 48.734375 21.84375 45.5625 \r\nQ 25.390625 42.390625 31.78125 42.390625 \r\nQ 38.140625 42.390625 41.71875 45.5625 \r\nQ 45.3125 48.734375 45.3125 54.390625 \r\nQ 45.3125 60.0625 41.71875 63.234375 \r\nQ 38.140625 66.40625 31.78125 66.40625 \r\nQ 25.390625 66.40625 21.84375 63.234375 \r\nQ 18.3125 60.0625 18.3125 54.390625 \r\nz\r\n\" id=\"DejaVuSans-56\"/>\r\n      </defs>\r\n      <g transform=\"translate(7.2 171.270356)scale(0.1 -0.1)\">\r\n       <use xlink:href=\"#DejaVuSans-49\"/>\r\n       <use x=\"63.623047\" xlink:href=\"#DejaVuSans-56\"/>\r\n       <use x=\"127.246094\" xlink:href=\"#DejaVuSans-48\"/>\r\n       <use x=\"190.869141\" xlink:href=\"#DejaVuSans-48\"/>\r\n       <use x=\"254.492188\" xlink:href=\"#DejaVuSans-48\"/>\r\n      </g>\r\n     </g>\r\n    </g>\r\n    <g id=\"ytick_3\">\r\n     <g id=\"line2d_13\">\r\n      <g>\r\n       <use style=\"stroke:#000000;stroke-width:0.8;\" x=\"46.0125\" xlink:href=\"#m835dac6da7\" y=\"130.370827\"/>\r\n      </g>\r\n     </g>\r\n     <g id=\"text_13\">\r\n      <!-- 19000 -->\r\n      <g transform=\"translate(7.2 134.170046)scale(0.1 -0.1)\">\r\n       <use xlink:href=\"#DejaVuSans-49\"/>\r\n       <use x=\"63.623047\" xlink:href=\"#DejaVuSans-57\"/>\r\n       <use x=\"127.246094\" xlink:href=\"#DejaVuSans-48\"/>\r\n       <use x=\"190.869141\" xlink:href=\"#DejaVuSans-48\"/>\r\n       <use x=\"254.492188\" xlink:href=\"#DejaVuSans-48\"/>\r\n      </g>\r\n     </g>\r\n    </g>\r\n    <g id=\"ytick_4\">\r\n     <g id=\"line2d_14\">\r\n      <g>\r\n       <use style=\"stroke:#000000;stroke-width:0.8;\" x=\"46.0125\" xlink:href=\"#m835dac6da7\" y=\"93.270518\"/>\r\n      </g>\r\n     </g>\r\n     <g id=\"text_14\">\r\n      <!-- 20000 -->\r\n      <g transform=\"translate(7.2 97.069737)scale(0.1 -0.1)\">\r\n       <use xlink:href=\"#DejaVuSans-50\"/>\r\n       <use x=\"63.623047\" xlink:href=\"#DejaVuSans-48\"/>\r\n       <use x=\"127.246094\" xlink:href=\"#DejaVuSans-48\"/>\r\n       <use x=\"190.869141\" xlink:href=\"#DejaVuSans-48\"/>\r\n       <use x=\"254.492188\" xlink:href=\"#DejaVuSans-48\"/>\r\n      </g>\r\n     </g>\r\n    </g>\r\n    <g id=\"ytick_5\">\r\n     <g id=\"line2d_15\">\r\n      <g>\r\n       <use style=\"stroke:#000000;stroke-width:0.8;\" x=\"46.0125\" xlink:href=\"#m835dac6da7\" y=\"56.170208\"/>\r\n      </g>\r\n     </g>\r\n     <g id=\"text_15\">\r\n      <!-- 21000 -->\r\n      <g transform=\"translate(7.2 59.969427)scale(0.1 -0.1)\">\r\n       <use xlink:href=\"#DejaVuSans-50\"/>\r\n       <use x=\"63.623047\" xlink:href=\"#DejaVuSans-49\"/>\r\n       <use x=\"127.246094\" xlink:href=\"#DejaVuSans-48\"/>\r\n       <use x=\"190.869141\" xlink:href=\"#DejaVuSans-48\"/>\r\n       <use x=\"254.492188\" xlink:href=\"#DejaVuSans-48\"/>\r\n      </g>\r\n     </g>\r\n    </g>\r\n    <g id=\"ytick_6\">\r\n     <g id=\"line2d_16\">\r\n      <g>\r\n       <use style=\"stroke:#000000;stroke-width:0.8;\" x=\"46.0125\" xlink:href=\"#m835dac6da7\" y=\"19.069899\"/>\r\n      </g>\r\n     </g>\r\n     <g id=\"text_16\">\r\n      <!-- 22000 -->\r\n      <g transform=\"translate(7.2 22.869118)scale(0.1 -0.1)\">\r\n       <use xlink:href=\"#DejaVuSans-50\"/>\r\n       <use x=\"63.623047\" xlink:href=\"#DejaVuSans-50\"/>\r\n       <use x=\"127.246094\" xlink:href=\"#DejaVuSans-48\"/>\r\n       <use x=\"190.869141\" xlink:href=\"#DejaVuSans-48\"/>\r\n       <use x=\"254.492188\" xlink:href=\"#DejaVuSans-48\"/>\r\n      </g>\r\n     </g>\r\n    </g>\r\n   </g>\r\n   <g id=\"line2d_17\">\r\n    <path clip-path=\"url(#p6c1cf68260)\" d=\"M 61.26753 75.040878 \r\nL 61.298238 73.46978 \r\nL 61.378076 61.795754 \r\nL 61.439491 64.757815 \r\nL 61.531612 78.796142 \r\nL 61.580744 85.025828 \r\nL 61.6483 83.376002 \r\nL 61.672866 80.152344 \r\nL 61.703573 83.606686 \r\nL 61.746563 83.38399 \r\nL 61.986079 110.869122 \r\nL 62.022928 106.124145 \r\nL 62.078201 97.678327 \r\nL 62.151898 102.154236 \r\nL 62.170322 104.060183 \r\nL 62.219454 97.691129 \r\nL 62.256302 91.649024 \r\nL 62.336141 94.647257 \r\nL 62.342283 94.670578 \r\nL 62.354565 94.440706 \r\nL 62.360707 94.284823 \r\nL 62.379131 96.292825 \r\nL 62.58794 106.371132 \r\nL 62.796749 119.073532 \r\nL 62.821315 116.539007 \r\nL 63.103821 92.922343 \r\nL 63.122245 98.13407 \r\nL 63.195943 111.035262 \r\nL 63.257357 106.629319 \r\nL 63.263499 106.590984 \r\nL 63.281923 107.125576 \r\nL 63.31263 107.987954 \r\nL 63.35562 106.949714 \r\nL 63.392469 107.370564 \r\nL 63.423176 104.631139 \r\nL 63.453883 102.441022 \r\nL 64.436514 102.245679 \r\nL 87.681865 112.570168 \r\nL 87.767845 135.853226 \r\nL 87.810835 127.809222 \r\nL 87.816977 127.804604 \r\nL 87.988937 112.775412 \r\nL 87.841542 128.163073 \r\nL 88.031927 113.074098 \r\nL 88.160897 116.492718 \r\nL 88.179322 115.634674 \r\nL 88.351282 105.976016 \r\nL 88.363565 107.203484 \r\nL 88.510959 112.056414 \r\nL 88.547808 114.769188 \r\nL 88.658354 113.858265 \r\nL 88.664495 113.704212 \r\nL 88.689061 115.534038 \r\nL 88.756617 119.777579 \r\nL 88.842597 118.642718 \r\nL 89.088255 123.686029 \r\nL 89.168093 129.71708 \r\nL 89.211084 128.001933 \r\nL 89.217225 127.905786 \r\nL 89.235649 129.027962 \r\nL 89.290922 129.897665 \r\nL 89.346195 129.529936 \r\nL 89.376902 128.219498 \r\nL 89.40761 133.215468 \r\nL 89.438317 135.673383 \r\nL 89.524297 134.001904 \r\nL 89.610277 131.574948 \r\nL 89.653267 132.797877 \r\nL 89.70854 136.947643 \r\nL 89.776096 144.111606 \r\nL 89.849793 142.131815 \r\nL 89.954198 139.442175 \r\nL 89.984905 140.052281 \r\nL 90.930687 140.055611 \r\nL 96.525539 143.16637 \r\nL 96.550105 146.726966 \r\nL 96.623802 138.942909 \r\nL 96.703641 135.915039 \r\nL 96.746631 136.768873 \r\nL 96.801904 131.107528 \r\nL 96.91245 133.051949 \r\nL 96.949298 133.958512 \r\nL 96.986147 132.070123 \r\nL 97.047561 126.409881 \r\nL 97.121259 129.946336 \r\nL 97.280936 136.814626 \r\nL 97.194956 129.889333 \r\nL 97.373058 134.87844 \r\nL 97.563442 127.489291 \r\nL 97.698554 124.469072 \r\nL 97.710837 123.413559 \r\nL 97.815241 123.828432 \r\nL 97.827524 123.969076 \r\nL 97.858231 123.011897 \r\nL 97.888939 121.926031 \r\nL 97.956494 123.589722 \r\nL 98.017909 128.706943 \r\nL 98.103889 127.420831 \r\nL 98.11003 127.39688 \r\nL 98.116172 127.501924 \r\nL 98.232859 129.556799 \r\nL 98.251284 128.873956 \r\nL 98.324981 123.239635 \r\nL 98.349547 121.486358 \r\nL 98.423244 123.956795 \r\nL 98.429385 123.696079 \r\nL 98.44781 123.516064 \r\nL 98.478517 124.488998 \r\nL 98.496941 125.241599 \r\nL 98.527648 122.769138 \r\nL 98.601346 116.930255 \r\nL 98.66276 119.168119 \r\nL 98.828579 131.709972 \r\nL 99.792785 131.66131 \r\nL 105.369213 132.70595 \r\nL 105.473617 145.103248 \r\nL 105.516607 143.621678 \r\nL 105.780689 152.603842 \r\nL 105.792972 152.468102 \r\nL 105.872811 151.095346 \r\nL 105.897377 153.014806 \r\nL 106.032488 163.542636 \r\nL 106.075478 162.332571 \r\nL 106.106186 162.687688 \r\nL 106.143034 162.386127 \r\nL 106.222873 161.520563 \r\nL 106.25358 162.36139 \r\nL 106.29657 162.447234 \r\nL 106.321136 162.264871 \r\nL 106.33956 162.306742 \r\nL 106.351843 162.155967 \r\nL 106.376409 161.691643 \r\nL 106.474672 161.706361 \r\nL 106.505379 162.486914 \r\nL 106.548369 160.69026 \r\nL 106.701905 157.959517 \r\nL 106.794027 166.83123 \r\nL 106.867724 164.808332 \r\nL 106.941421 163.775616 \r\nL 106.990553 164.694021 \r\nL 107.002836 164.915246 \r\nL 107.088816 164.625465 \r\nL 107.101099 164.469663 \r\nL 107.119523 165.887793 \r\nL 107.254635 169.075737 \r\nL 107.273059 168.958772 \r\nL 107.297625 167.589363 \r\nL 107.328332 165.784546 \r\nL 107.420454 165.913832 \r\nL 107.432737 165.897329 \r\nL 107.44502 165.832689 \r\nL 107.457302 165.590905 \r\nL 107.494151 167.723369 \r\nL 107.506434 167.734209 \r\nL 107.512575 167.649193 \r\nL 107.61698 162.459493 \r\nL 107.672253 163.742055 \r\nL 109.207613 163.738681 \r\nL 123.056561 168.996064 \r\nL 123.148682 195.713338 \r\nL 123.197814 186.774535 \r\nL 123.22238 186.262356 \r\nL 123.246945 187.037263 \r\nL 123.271511 188.260814 \r\nL 123.30836 186.5381 \r\nL 123.455754 182.002588 \r\nL 123.474179 182.126201 \r\nL 123.805816 188.122813 \r\nL 123.824241 187.821913 \r\nL 123.916362 185.453014 \r\nL 123.959352 186.007392 \r\nL 123.983918 185.862998 \r\nL 124.002342 186.200749 \r\nL 124.112888 186.814732 \r\nL 124.125171 186.665627 \r\nL 124.229576 186.29493 \r\nL 124.235717 186.397994 \r\nL 124.413819 189.365381 \r\nL 124.41996 189.35545 \r\nL 124.46295 189.567804 \r\nL 124.475233 189.981037 \r\nL 124.542789 188.337853 \r\nL 124.567355 187.324631 \r\nL 124.653335 188.121367 \r\nL 124.690184 190.061495 \r\nL 124.745457 187.690749 \r\nL 124.75774 187.991867 \r\nL 124.763881 187.841537 \r\nL 124.776164 189.319901 \r\nL 124.9297 198.034352 \r\nL 124.935841 197.977823 \r\nL 124.941983 198.02042 \r\nL 124.97269 197.465006 \r\nL 124.978831 197.358357 \r\nL 125.003397 198.485285 \r\nL 125.070953 202.06287 \r\nL 125.14465 200.977502 \r\nL 125.175357 200.586709 \r\nL 125.193782 199.95354 \r\nL 125.292045 200.139803 \r\nL 125.304328 200.286994 \r\nL 125.347318 199.443793 \r\nL 125.353459 199.48896 \r\nL 125.359601 199.306417 \r\nL 126.194837 199.307667 \r\nL 158.431256 210.482652 \r\nL 158.455822 218.256364 \r\nL 158.523378 196.953929 \r\nL 158.676914 158.357153 \r\nL 158.683055 158.433573 \r\nL 158.990127 169.83764 \r\nL 159.00241 169.789375 \r\nL 159.069966 167.669498 \r\nL 159.131381 168.831907 \r\nL 159.143663 169.006853 \r\nL 159.174371 167.463586 \r\nL 159.377038 159.828054 \r\nL 159.38318 159.852993 \r\nL 159.407745 159.789948 \r\nL 159.420028 159.990219 \r\nL 159.475301 162.043135 \r\nL 159.542857 161.249849 \r\nL 159.68411 157.269298 \r\nL 159.819222 149.054416 \r\nL 159.862212 150.084575 \r\nL 159.886778 150.876355 \r\nL 159.935909 148.832111 \r\nL 159.985041 143.504516 \r\nL 160.064879 146.001252 \r\nL 160.089445 147.029821 \r\nL 160.138577 142.882044 \r\nL 160.304396 133.602252 \r\nL 160.316678 133.664005 \r\nL 160.32282 133.681269 \r\nL 160.341244 133.452364 \r\nL 160.488639 129.73313 \r\nL 160.531629 129.910641 \r\nL 160.574619 130.198903 \r\nL 160.642175 128.310097 \r\nL 160.734296 125.043586 \r\nL 161.606381 125.060696 \r\nL 167.27493 133.978269 \r\nL 167.348628 158.843127 \r\nL 167.403901 150.002669 \r\nL 167.422325 150.03934 \r\nL 167.446891 148.020985 \r\nL 167.78467 101.230842 \r\nL 167.496022 148.839214 \r\nL 167.87065 104.252978 \r\nL 168.067176 111.121258 \r\nL 168.0856 109.335337 \r\nL 168.110166 106.789585 \r\nL 168.147015 112.376222 \r\nL 168.232995 135.835082 \r\nL 168.300551 132.249099 \r\nL 168.312834 132.561088 \r\nL 168.337399 131.459754 \r\nL 168.50936 125.204938 \r\nL 168.521643 125.092784 \r\nL 168.533926 126.13439 \r\nL 168.712027 140.233169 \r\nL 168.773442 137.588212 \r\nL 168.822573 130.395425 \r\nL 168.89627 135.665528 \r\nL 169.049806 142.856565 \r\nL 169.154211 147.382588 \r\nL 169.172635 146.754047 \r\nL 169.27704 140.615551 \r\nL 169.301606 143.309246 \r\nL 169.307747 143.663819 \r\nL 169.356879 140.379676 \r\nL 169.436717 136.034776 \r\nL 169.49199 137.365626 \r\nL 169.498132 137.470369 \r\nL 169.541122 136.651476 \r\nL 169.565687 136.817563 \r\nL 169.571829 136.757891 \r\nL 170.413206 136.737948 \r\nL 176.118604 141.672874 \r\nL 176.149311 150.26838 \r\nL 176.210726 135.456423 \r\nL 176.321272 109.755435 \r\nL 176.35812 114.916541 \r\nL 176.376545 115.523481 \r\nL 176.462525 114.640669 \r\nL 176.603778 111.113302 \r\nL 176.609919 111.119866 \r\nL 176.659051 110.864467 \r\nL 176.634485 111.52577 \r\nL 176.665192 110.896626 \r\nL 176.775738 128.885344 \r\nL 176.923133 127.870264 \r\nL 177.009113 130.985846 \r\nL 176.941557 127.820092 \r\nL 177.027537 128.612302 \r\nL 177.156508 113.039628 \r\nL 177.181073 117.126316 \r\nL 177.224063 119.212322 \r\nL 177.291619 117.975806 \r\nL 177.610974 111.015303 \r\nL 177.690813 106.798967 \r\nL 177.746086 108.183261 \r\nL 177.875056 116.184585 \r\nL 177.936471 116.162614 \r\nL 178.004026 113.580294 \r\nL 178.077724 114.734753 \r\nL 178.102289 114.837303 \r\nL 178.114572 114.877425 \r\nL 178.132997 114.512108 \r\nL 178.31724 107.402178 \r\nL 178.347947 104.264154 \r\nL 178.421644 105.661256 \r\nL 179.533245 105.551014 \r\nL 211.4933 106.905412 \r\nL 211.628412 120.180578 \r\nL 211.683685 119.957418 \r\nL 211.843362 123.732383 \r\nL 211.880211 121.699667 \r\nL 211.941625 120.120712 \r\nL 212.009181 120.899281 \r\nL 212.04603 122.433166 \r\nL 212.08902 119.8547 \r\nL 212.13201 116.954819 \r\nL 212.230273 117.613444 \r\nL 212.242556 118.051191 \r\nL 212.285546 115.718374 \r\nL 212.310111 116.137029 \r\nL 212.353102 116.941401 \r\nL 212.396092 120.120207 \r\nL 212.445223 115.943823 \r\nL 212.494355 107.119828 \r\nL 212.586476 108.238908 \r\nL 212.654032 107.578248 \r\nL 212.617183 108.382867 \r\nL 212.660174 108.377532 \r\nL 212.740012 114.598709 \r\nL 212.789144 112.910246 \r\nL 212.838275 111.567343 \r\nL 212.8567 110.997827 \r\nL 212.881265 111.858672 \r\nL 212.936538 111.748852 \r\nL 212.979528 116.261731 \r\nL 213.034801 119.262804 \r\nL 213.108499 117.857237 \r\nL 213.120782 117.888393 \r\nL 213.126923 117.809894 \r\nL 213.151489 117.79433 \r\nL 213.249752 117.089597 \r\nL 213.280459 117.097698 \r\nL 213.2866 117.088089 \r\nL 213.298883 117.251306 \r\nL 213.440136 122.175812 \r\nL 213.458561 121.392594 \r\nL 213.544541 114.585681 \r\nL 213.648945 114.924027 \r\nL 213.784057 113.540733 \r\nL 213.790199 113.551442 \r\nL 213.79634 113.520813 \r\nL 214.932506 113.53162 \r\nL 229.180648 117.011356 \r\nL 229.211355 120.790026 \r\nL 229.266628 113.018158 \r\nL 229.407881 102.644455 \r\nL 229.420164 103.065501 \r\nL 229.463154 102.092483 \r\nL 229.53071 95.35194 \r\nL 229.5737 92.42191 \r\nL 229.671963 93.432774 \r\nL 229.684246 93.523801 \r\nL 229.764085 93.689675 \r\nL 229.727236 92.785056 \r\nL 229.78865 93.468201 \r\nL 229.819358 92.452899 \r\nL 229.868489 94.558559 \r\nL 229.966752 93.195442 \r\nL 229.991318 94.22839 \r\nL 230.175561 99.537839 \r\nL 230.206268 98.18777 \r\nL 230.365946 96.148222 \r\nL 230.286107 98.351807 \r\nL 230.38437 97.349229 \r\nL 230.746715 111.701903 \r\nL 230.814271 110.523072 \r\nL 230.820412 110.514788 \r\nL 230.826554 110.542504 \r\nL 230.844978 113.450038 \r\nL 231.084494 145.143985 \r\nL 231.133626 141.465274 \r\nL 231.182757 140.39226 \r\nL 231.348576 134.188204 \r\nL 231.367001 134.277102 \r\nL 231.379283 133.896743 \r\nL 231.483688 132.660323 \r\nL 232.337348 132.08712 \r\nL 238.024322 133.879335 \r\nL 238.116443 146.399334 \r\nL 238.202423 144.995367 \r\nL 238.239272 141.004536 \r\nL 238.288404 136.69973 \r\nL 238.362101 138.33362 \r\nL 238.405091 138.443438 \r\nL 238.466505 136.674227 \r\nL 238.626183 134.028807 \r\nL 238.650749 134.592684 \r\nL 238.675314 135.046441 \r\nL 238.718304 133.668462 \r\nL 238.933255 123.391497 \r\nL 238.988528 124.091148 \r\nL 239.068367 125.370887 \r\nL 239.111357 124.944481 \r\nL 239.240327 118.074016 \r\nL 239.277176 120.991228 \r\nL 239.436853 128.781351 \r\nL 239.479843 125.644582 \r\nL 239.516692 123.690294 \r\nL 239.602672 124.123196 \r\nL 239.608813 124.112695 \r\nL 239.614955 124.163363 \r\nL 239.621096 124.151664 \r\nL 239.639521 124.734629 \r\nL 239.713218 123.143749 \r\nL 239.743925 121.27079 \r\nL 239.829905 122.235605 \r\nL 239.89132 123.11525 \r\nL 239.909744 122.207224 \r\nL 240.044856 118.94703 \r\nL 240.075563 119.21018 \r\nL 240.100129 119.29585 \r\nL 240.112411 118.799191 \r\nL 240.124694 118.037209 \r\nL 240.19225 120.121221 \r\nL 240.210674 120.083883 \r\nL 240.229099 119.742841 \r\nL 240.259806 120.114247 \r\nL 240.27823 119.81071 \r\nL 240.32122 116.12684 \r\nL 241.13189 115.761264 \r\nL 246.867996 125.708938 \r\nL 246.892561 131.861499 \r\nL 246.953976 115.978349 \r\nL 246.984683 82.79894 \r\nL 247.119795 84.169819 \r\nL 247.48214 102.294999 \r\nL 247.574261 100.900369 \r\nL 247.69709 95.344339 \r\nL 247.727797 97.04908 \r\nL 247.936606 105.900032 \r\nL 247.942748 105.82372 \r\nL 247.955031 105.69777 \r\nL 248.034869 104.201226 \r\nL 248.059435 102.52565 \r\nL 248.151557 103.629078 \r\nL 248.194547 104.477941 \r\nL 248.243678 103.248426 \r\nL 248.311234 99.416898 \r\nL 248.354224 102.716979 \r\nL 248.384931 104.027083 \r\nL 248.470912 103.114653 \r\nL 248.649013 98.588242 \r\nL 248.673579 98.675315 \r\nL 248.679721 98.74511 \r\nL 248.710428 97.844086 \r\nL 248.870105 88.889164 \r\nL 248.925378 90.104795 \r\nL 248.93152 90.163248 \r\nL 248.949944 89.465046 \r\nL 249.078914 81.734564 \r\nL 249.171036 64.762028 \r\nL 250.067686 65.235627 \r\nL 273.399017 65.202546 \r\nL 273.405159 65.038863 \r\nL 273.45429 66.576117 \r\nL 273.601685 71.023165 \r\nL 273.644675 69.400928 \r\nL 273.730655 68.468691 \r\nL 273.669241 69.426946 \r\nL 273.767504 68.880933 \r\nL 273.87805 71.765173 \r\nL 273.902616 70.497113 \r\nL 274.080717 61.278501 \r\nL 274.093 61.512361 \r\nL 274.314092 73.368373 \r\nL 274.350941 72.428662 \r\nL 274.357082 72.405816 \r\nL 274.375506 72.705843 \r\nL 274.381648 72.505244 \r\nL 274.498335 69.042417 \r\nL 274.522901 69.050008 \r\nL 274.535184 69.008654 \r\nL 274.578174 67.535129 \r\nL 274.639588 69.087427 \r\nL 274.719427 72.950675 \r\nL 274.836114 71.543751 \r\nL 274.977368 68.150672 \r\nL 275.020358 67.507874 \r\nL 275.112479 67.85254 \r\nL 275.173894 70.10032 \r\nL 275.24145 69.273355 \r\nL 275.394986 62.875978 \r\nL 275.278298 70.047519 \r\nL 275.431834 65.255195 \r\nL 275.517814 79.920612 \r\nL 275.609936 78.681674 \r\nL 275.62836 78.630176 \r\nL 275.665209 78.656516 \r\nL 275.702058 77.250088 \r\nL 276.574142 76.843871 \r\nL 282.242691 87.3424 \r\nL 282.328672 120.934532 \r\nL 282.377803 108.696175 \r\nL 282.506773 107.076994 \r\nL 282.543622 107.270501 \r\nL 282.568188 106.543551 \r\nL 282.598895 106.144261 \r\nL 282.623461 107.445158 \r\nL 282.795421 110.426041 \r\nL 282.862977 110.325146 \r\nL 282.905967 109.040414 \r\nL 282.924391 108.328811 \r\nL 282.991947 109.726069 \r\nL 283.145483 112.291087 \r\nL 283.163907 112.200444 \r\nL 283.170049 112.180453 \r\nL 283.194615 112.414825 \r\nL 283.231463 112.932869 \r\nL 283.26217 111.603835 \r\nL 283.299019 109.801357 \r\nL 283.378858 111.238509 \r\nL 283.808759 124.046509 \r\nL 283.827183 123.839359 \r\nL 284.035992 120.916347 \r\nL 283.876314 124.307923 \r\nL 284.048275 120.961466 \r\nL 284.078982 120.749261 \r\nL 284.097406 121.370064 \r\nL 284.115831 121.987949 \r\nL 284.183386 120.429307 \r\nL 284.238659 118.03502 \r\nL 284.28165 120.877583 \r\nL 284.300074 121.956137 \r\nL 284.392195 120.889955 \r\nL 284.398337 120.912241 \r\nL 284.404478 120.742978 \r\nL 284.4966 118.21325 \r\nL 284.527307 119.579972 \r\nL 284.545731 121.033202 \r\nL 285.761737 121.031329 \r\nL 291.086365 122.564012 \r\nL 291.196911 127.729126 \r\nL 291.209194 127.216796 \r\nL 291.23376 126.615385 \r\nL 291.282891 129.300956 \r\nL 291.313599 130.293733 \r\nL 291.356589 129.160242 \r\nL 291.424145 129.89 \r\nL 291.442569 130.220853 \r\nL 291.516266 129.844078 \r\nL 291.528549 129.939158 \r\nL 291.565398 129.426525 \r\nL 291.577681 130.011878 \r\nL 291.614529 131.95964 \r\nL 291.663661 126.301854 \r\nL 291.749641 117.67821 \r\nL 291.823338 117.982724 \r\nL 291.82948 118.03049 \r\nL 291.847904 117.333208 \r\nL 291.878611 115.731541 \r\nL 291.927743 117.355358 \r\nL 291.964591 120.307075 \r\nL 292.050571 118.845125 \r\nL 292.075137 117.399624 \r\nL 292.08742 116.253986 \r\nL 292.185683 116.916353 \r\nL 292.228673 115.519206 \r\nL 292.240956 115.117785 \r\nL 292.339219 115.257599 \r\nL 292.394492 115.011698 \r\nL 292.443624 114.455633 \r\nL 292.486614 115.40888 \r\nL 292.511179 114.632456 \r\nL 292.670857 121.920062 \r\nL 292.719988 124.696558 \r\nL 292.793686 123.40755 \r\nL 292.799827 123.402275 \r\nL 292.81211 124.096537 \r\nL 292.873524 121.377957 \r\nL 293.002495 114.032414 \r\nL 293.211304 105.012407 \r\nL 293.223587 105.581637 \r\nL 293.272718 108.633817 \r\nL 293.346415 107.306876 \r\nL 293.389405 105.938416 \r\nL 294.329046 105.962471 \r\nL 299.930039 106.658252 \r\nL 300.003737 107.256772 \r\nL 300.040585 107.040915 \r\nL 300.310809 99.002976 \r\nL 300.329233 99.134977 \r\nL 300.35994 99.540223 \r\nL 300.384506 99.043617 \r\nL 300.544183 96.123356 \r\nL 300.556466 96.293492 \r\nL 300.740709 100.765626 \r\nL 300.752992 100.501337 \r\nL 300.808265 95.968268 \r\nL 300.943377 93.078032 \r\nL 301.053923 91.530567 \r\nL 301.072347 92.069803 \r\nL 301.08463 92.195391 \r\nL 301.12762 91.347135 \r\nL 301.25659 90.072444 \r\nL 301.281156 90.230329 \r\nL 301.643501 99.348025 \r\nL 301.674208 96.949126 \r\nL 301.840027 90.170254 \r\nL 301.85231 90.580309 \r\nL 301.962856 92.142297 \r\nL 301.98128 91.363555 \r\nL 302.061119 85.947658 \r\nL 302.122533 87.689538 \r\nL 302.233079 89.618119 \r\nL 303.227993 89.639694 \r\nL 308.773713 96.2799 \r\nL 308.865835 122.371131 \r\nL 308.908825 114.085697 \r\nL 308.939532 113.886763 \r\nL 309.09921 108.632892 \r\nL 309.22818 108.840179 \r\nL 309.320301 111.184789 \r\nL 309.381716 110.710893 \r\nL 309.393999 110.773927 \r\nL 309.424706 110.260934 \r\nL 309.436989 109.828327 \r\nL 309.473837 110.275616 \r\nL 309.535252 110.02841 \r\nL 309.565959 110.214749 \r\nL 309.608949 109.869791 \r\nL 309.621232 109.784751 \r\nL 309.639656 110.420762 \r\nL 309.701071 112.19822 \r\nL 309.762485 111.628064 \r\nL 309.90988 109.667366 \r\nL 309.965153 110.968426 \r\nL 310.002001 108.972042 \r\nL 310.118689 104.05584 \r\nL 310.180103 106.353629 \r\nL 310.247659 107.155291 \r\nL 310.278366 106.285606 \r\nL 310.333639 103.015023 \r\nL 310.419619 104.515044 \r\nL 310.72055 116.760237 \r\nL 310.769681 116.392186 \r\nL 310.972349 113.318699 \r\nL 310.984632 113.37964 \r\nL 311.02148 113.633473 \r\nL 311.039905 113.211939 \r\nL 311.076753 112.575951 \r\nL 312.108515 112.461246 \r\nL 335.304735 114.573335 \r\nL 335.335442 117.933572 \r\nL 335.396857 109.944246 \r\nL 335.501261 96.662755 \r\nL 335.550393 97.913863 \r\nL 335.617948 99.476772 \r\nL 335.660939 97.971872 \r\nL 335.937303 88.689166 \r\nL 335.955728 89.329043 \r\nL 336.041708 90.442695 \r\nL 336.084698 90.161535 \r\nL 336.158395 90.593338 \r\nL 336.133829 89.923613 \r\nL 336.207527 90.37269 \r\nL 336.275083 89.518103 \r\nL 336.281224 89.280512 \r\nL 336.330355 91.464613 \r\nL 336.361063 92.213357 \r\nL 336.440901 91.52885 \r\nL 336.471609 90.468467 \r\nL 336.551447 89.029623 \r\nL 336.594437 89.225736 \r\nL 336.698842 88.792055 \r\nL 336.704983 89.048891 \r\nL 336.741832 89.88162 \r\nL 336.797105 88.514228 \r\nL 336.821671 86.986059 \r\nL 336.907651 88.351173 \r\nL 336.926075 88.40172 \r\nL 337.018197 92.497756 \r\nL 337.067328 91.83647 \r\nL 337.141026 90.962873 \r\nL 337.091894 92.191796 \r\nL 337.184016 91.634443 \r\nL 337.294562 93.198869 \r\nL 337.312986 92.670382 \r\nL 337.448098 91.246652 \r\nL 337.472663 89.826635 \r\nL 337.607775 90.119969 \r\nL 338.461435 90.103268 \r\nL 344.148409 93.370769 \r\nL 344.185258 96.752927 \r\nL 344.234389 90.735143 \r\nL 344.283521 78.558564 \r\nL 344.381784 81.558015 \r\nL 344.529178 83.933692 \r\nL 344.572168 84.029089 \r\nL 344.584451 83.576411 \r\nL 344.873099 79.340133 \r\nL 344.928372 79.526015 \r\nL 344.977503 79.850839 \r\nL 345.008211 79.577919 \r\nL 345.161747 77.43914 \r\nL 345.174029 77.569049 \r\nL 345.321424 80.974226 \r\nL 345.370556 80.896492 \r\nL 345.376697 80.889839 \r\nL 345.401263 81.005941 \r\nL 345.413546 81.15747 \r\nL 345.481101 80.376522 \r\nL 345.493384 80.279858 \r\nL 345.548657 78.077104 \r\nL 345.622355 79.455373 \r\nL 345.653062 79.959022 \r\nL 345.683769 78.793735 \r\nL 345.769749 73.139281 \r\nL 345.843446 73.372152 \r\nL 345.868012 73.668377 \r\nL 345.929427 73.05202 \r\nL 346.101387 71.490956 \r\nL 346.119811 71.743596 \r\nL 346.175084 73.197805 \r\nL 346.248781 72.859894 \r\nL 346.451449 69.733235 \r\nL 347.415655 69.728492 \r\nL 352.992083 70.266403 \r\nL 353.071922 73.274724 \r\nL 353.114912 72.623927 \r\nL 353.200892 68.03364 \r\nL 353.280731 68.578044 \r\nL 353.489539 70.044698 \r\nL 353.507964 69.945436 \r\nL 353.716773 67.686371 \r\nL 353.729056 68.118418 \r\nL 353.74748 68.401952 \r\nL 353.802753 67.213854 \r\nL 353.845743 65.427356 \r\nL 353.944006 66.089181 \r\nL 353.956289 66.248917 \r\nL 354.029986 65.699261 \r\nL 354.048411 65.343057 \r\nL 354.140532 65.615954 \r\nL 354.275644 66.358596 \r\nL 354.183522 65.538628 \r\nL 354.312492 65.98303 \r\nL 354.453746 64.117431 \r\nL 354.47217 63.938073 \r\nL 354.496736 64.409813 \r\nL 354.60114 64.985017 \r\nL 354.613423 64.923553 \r\nL 354.650272 64.379341 \r\nL 354.693262 64.977062 \r\nL 354.717828 64.930727 \r\nL 354.834515 66.211327 \r\nL 354.846798 65.902463 \r\nL 355.11088 52.824183 \r\nL 355.141587 49.731613 \r\nL 355.215284 53.322197 \r\nL 355.295123 58.87807 \r\nL 356.271612 58.777062 \r\nL 361.835757 62.919841 \r\nL 361.872605 68.985268 \r\nL 361.921737 58.374848 \r\nL 362.06299 28.879671 \r\nL 362.093697 28.903187 \r\nL 362.10598 28.938319 \r\nL 362.271799 24.011118 \r\nL 362.155112 30.051552 \r\nL 362.327072 25.04648 \r\nL 362.357779 25.280448 \r\nL 362.413052 24.76655 \r\nL 362.523598 24.437797 \r\nL 362.437618 24.794119 \r\nL 362.52974 24.727437 \r\nL 362.560447 25.728144 \r\nL 362.61572 24.109354 \r\nL 362.65871 22.083646 \r\nL 362.732407 23.82984 \r\nL 362.971923 21.964183 \r\nL 363.033338 22.080744 \r\nL 363.174591 31.778367 \r\nL 363.291278 38.774191 \r\nL 363.3834 37.527436 \r\nL 363.414107 34.706007 \r\nL 363.506229 36.333319 \r\nL 363.51237 36.390405 \r\nL 363.536936 35.755213 \r\nL 363.622916 35.823399 \r\nL 363.678189 34.115739 \r\nL 363.690472 33.947204 \r\nL 363.721179 34.808552 \r\nL 364.009827 42.855452 \r\nL 364.040534 42.262475 \r\nL 364.132655 36.741405 \r\nL 365.594318 36.697998 \r\nL 365.594318 36.697998 \r\n\" style=\"fill:none;stroke:#1f77b4;stroke-linecap:square;stroke-width:1.5;\"/>\r\n   </g>\r\n   <g id=\"line2d_18\">\r\n    <path clip-path=\"url(#p6c1cf68260)\" d=\"M 61.230682 67.491487 \r\nL 61.328945 57.699041 \r\nL 61.408784 59.833813 \r\nL 61.586885 70.976573 \r\nL 61.500905 58.118338 \r\nL 61.593027 70.883304 \r\nL 61.629875 66.024484 \r\nL 61.685148 72.958821 \r\nL 61.930806 102.696936 \r\nL 61.979938 97.895201 \r\nL 62.041352 92.691038 \r\nL 62.108908 96.53321 \r\nL 62.121191 96.649245 \r\nL 62.133474 96.099388 \r\nL 62.231737 84.024679 \r\nL 62.274727 89.1923 \r\nL 62.526526 98.177557 \r\nL 62.655496 105.600118 \r\nL 62.741476 112.338328 \r\nL 62.784466 108.081157 \r\nL 62.870446 98.604561 \r\nL 62.944144 100.634824 \r\nL 62.987134 96.128386 \r\nL 63.091538 86.829106 \r\nL 63.116104 89.575285 \r\nL 63.337196 103.826739 \r\nL 63.343337 103.937213 \r\nL 63.367903 102.879637 \r\nL 63.429317 99.299122 \r\nL 63.453883 99.408086 \r\nL 64.436514 99.465311 \r\nL 87.681865 109.371506 \r\nL 87.761704 122.218161 \r\nL 87.810835 119.053078 \r\nL 87.995078 108.214677 \r\nL 88.007361 108.538708 \r\nL 88.111766 113.169436 \r\nL 88.160897 110.002628 \r\nL 88.320575 103.199055 \r\nL 88.326716 103.497522 \r\nL 88.517101 109.202334 \r\nL 88.603081 112.021691 \r\nL 88.63993 110.404573 \r\nL 88.658354 109.945124 \r\nL 88.670637 111.131616 \r\nL 88.799607 116.930933 \r\nL 88.805748 116.784313 \r\nL 88.85488 115.831003 \r\nL 88.910153 117.071683 \r\nL 89.051406 120.445601 \r\nL 89.057548 120.363025 \r\nL 89.082113 120.313162 \r\nL 89.174235 125.910104 \r\nL 89.211084 124.998757 \r\nL 89.229508 125.92822 \r\nL 89.266356 127.504076 \r\nL 89.327771 125.745712 \r\nL 89.352337 124.862811 \r\nL 89.383044 127.019941 \r\nL 89.456741 131.662604 \r\nL 89.505873 131.089048 \r\nL 89.634843 127.798931 \r\nL 89.659409 128.76109 \r\nL 89.683974 129.071441 \r\nL 89.812945 139.561862 \r\nL 89.892783 137.128136 \r\nL 89.923491 136.737331 \r\nL 89.972622 137.944824 \r\nL 89.984905 138.451876 \r\nL 90.930687 138.548038 \r\nL 96.525539 133.817956 \r\nL 96.593095 126.407022 \r\nL 96.642226 130.011092 \r\nL 96.685216 132.779585 \r\nL 96.740489 129.138572 \r\nL 96.795762 126.637162 \r\nL 96.851035 128.862485 \r\nL 96.887884 131.000329 \r\nL 96.943157 127.107433 \r\nL 97.022995 124.073261 \r\nL 97.078268 125.292573 \r\nL 97.29936 133.935597 \r\nL 97.317785 133.802484 \r\nL 97.710837 119.704508 \r\nL 97.747685 121.122722 \r\nL 97.772251 121.908024 \r\nL 97.833666 120.337627 \r\nL 97.858231 119.537604 \r\nL 97.931929 120.969269 \r\nL 98.140738 126.088739 \r\nL 98.183728 126.560862 \r\nL 98.208293 126.099887 \r\nL 98.349547 118.826387 \r\nL 98.355688 118.776066 \r\nL 98.380254 119.481296 \r\nL 98.423244 121.787231 \r\nL 98.478517 118.999502 \r\nL 98.570638 114.404893 \r\nL 98.625911 115.751032 \r\nL 98.656619 117.006396 \r\nL 98.828579 129.089088 \r\nL 105.369213 130.415436 \r\nL 105.541173 142.829885 \r\nL 105.786831 150.619938 \r\nL 105.792972 150.012821 \r\nL 105.811396 149.706076 \r\nL 105.848245 150.041285 \r\nL 105.878952 149.790156 \r\nL 106.044771 160.741116 \r\nL 106.057054 160.678643 \r\nL 106.087761 161.001379 \r\nL 106.12461 160.628384 \r\nL 106.161459 160.681921 \r\nL 106.216732 159.529005 \r\nL 106.265863 160.655701 \r\nL 106.308853 161.070001 \r\nL 106.345702 160.56645 \r\nL 106.388692 160.920399 \r\nL 106.413258 160.95861 \r\nL 106.419399 160.71097 \r\nL 106.566794 155.825285 \r\nL 106.572935 155.862141 \r\nL 106.615925 156.941244 \r\nL 106.683481 156.040667 \r\nL 106.695764 155.918243 \r\nL 106.701905 155.940175 \r\nL 106.812451 163.089868 \r\nL 106.855441 163.020013 \r\nL 106.898431 162.444529 \r\nL 106.965987 162.917862 \r\nL 107.008977 163.875786 \r\nL 107.076533 163.301977 \r\nL 107.094957 163.124534 \r\nL 107.10724 163.660712 \r\nL 107.199362 166.861546 \r\nL 107.236211 166.052567 \r\nL 107.303766 163.784874 \r\nL 107.365181 164.729252 \r\nL 107.561707 160.387302 \r\nL 107.653829 161.717259 \r\nL 107.672253 162.141683 \r\nL 109.207613 162.274598 \r\nL 123.056561 164.892501 \r\nL 123.167107 184.434048 \r\nL 123.203955 184.191945 \r\nL 123.22238 184.458665 \r\nL 123.240804 183.743686 \r\nL 123.345208 178.008664 \r\nL 123.406623 179.833923 \r\nL 123.474179 178.510837 \r\nL 123.511027 179.709195 \r\nL 123.658422 185.141321 \r\nL 123.713695 186.537879 \r\nL 123.787392 185.512096 \r\nL 123.879514 183.26895 \r\nL 123.934787 184.677658 \r\nL 124.063757 185.713519 \r\nL 124.07604 185.51385 \r\nL 124.131313 184.437222 \r\nL 124.241859 185.057669 \r\nL 124.41996 189.074862 \r\nL 124.444526 188.955947 \r\nL 124.46295 188.557407 \r\nL 124.542789 185.457389 \r\nL 124.585779 185.806772 \r\nL 124.647194 187.121341 \r\nL 124.659477 185.133055 \r\nL 124.745457 182.63701 \r\nL 124.770022 184.943109 \r\nL 124.935841 195.691764 \r\nL 124.991114 195.58397 \r\nL 125.046387 197.917421 \r\nL 125.10166 199.511227 \r\nL 125.163075 198.720566 \r\nL 125.175357 198.673243 \r\nL 125.199923 198.9756 \r\nL 125.218348 199.089095 \r\nL 125.279762 198.801913 \r\nL 125.359601 197.103756 \r\nL 126.194837 197.001009 \r\nL 158.431256 181.234703 \r\nL 158.498812 162.242455 \r\nL 158.560227 162.871877 \r\nL 158.65849 155.814725 \r\nL 158.726045 158.208495 \r\nL 158.775177 160.29505 \r\nL 158.996269 167.747285 \r\nL 159.076108 165.594936 \r\nL 159.08839 165.513713 \r\nL 159.241926 158.795236 \r\nL 159.291058 157.538053 \r\nL 159.358614 158.486613 \r\nL 159.401604 157.380602 \r\nL 159.444594 159.090775 \r\nL 159.506008 160.338211 \r\nL 159.542857 158.707795 \r\nL 159.628837 153.268936 \r\nL 159.788515 145.899361 \r\nL 159.81308 146.423001 \r\nL 159.843788 147.5256 \r\nL 159.874495 145.50896 \r\nL 159.985041 142.257487 \r\nL 160.034172 142.716904 \r\nL 160.040314 142.699792 \r\nL 160.212274 128.33649 \r\nL 160.310537 128.983658 \r\nL 160.45179 127.681828 \r\nL 160.464073 127.974021 \r\nL 160.470214 128.128412 \r\nL 160.531629 127.213535 \r\nL 160.543912 127.218665 \r\nL 160.648316 123.517014 \r\nL 160.734296 124.085916 \r\nL 161.606381 124.116218 \r\nL 167.27493 132.206271 \r\nL 167.342486 144.82981 \r\nL 167.403901 141.410828 \r\nL 167.502164 125.096764 \r\nL 167.760104 86.274532 \r\nL 167.790811 91.10319 \r\nL 167.968913 106.34893 \r\nL 167.981196 106.315647 \r\nL 167.987337 106.346223 \r\nL 167.99962 106.58245 \r\nL 168.036469 106.288148 \r\nL 168.104025 101.297913 \r\nL 168.140873 105.355032 \r\nL 168.282126 127.021716 \r\nL 168.318975 123.092473 \r\nL 168.386531 121.700125 \r\nL 168.441804 122.441029 \r\nL 168.460228 122.548374 \r\nL 168.613764 132.688637 \r\nL 168.669037 135.545884 \r\nL 168.705886 131.519326 \r\nL 168.785725 126.643288 \r\nL 168.840998 128.273816 \r\nL 168.951543 133.877251 \r\nL 169.111221 142.389851 \r\nL 169.14807 138.41313 \r\nL 169.209484 136.377666 \r\nL 169.258615 138.420034 \r\nL 169.270898 138.475379 \r\nL 169.283181 137.750794 \r\nL 169.369161 131.964151 \r\nL 169.40601 132.956099 \r\nL 169.553405 135.378926 \r\nL 169.571829 134.92336 \r\nL 170.413206 134.872215 \r\nL 176.118604 129.288182 \r\nL 176.265999 106.613583 \r\nL 176.302847 105.055085 \r\nL 176.339696 107.880016 \r\nL 176.413393 111.891194 \r\nL 176.462525 109.580338 \r\nL 176.487091 109.19731 \r\nL 176.603778 108.304998 \r\nL 176.616061 107.991146 \r\nL 176.671334 109.560216 \r\nL 176.800304 123.0241 \r\nL 176.818728 122.361431 \r\nL 176.880143 121.191001 \r\nL 176.892426 122.379928 \r\nL 176.941557 124.964976 \r\nL 176.978406 120.565915 \r\nL 177.144225 109.214517 \r\nL 177.150366 109.23279 \r\nL 177.242488 115.393022 \r\nL 177.297761 113.579251 \r\nL 177.310044 113.813657 \r\nL 177.359175 113.247693 \r\nL 177.684671 102.808841 \r\nL 177.739944 105.103578 \r\nL 177.887339 113.53377 \r\nL 177.973319 111.966989 \r\nL 177.985602 111.941115 \r\nL 178.047016 112.727813 \r\nL 178.053158 112.915582 \r\nL 178.108431 111.453594 \r\nL 178.261967 104.34718 \r\nL 178.341806 100.608004 \r\nL 178.40322 103.132421 \r\nL 178.421644 103.54675 \r\nL 179.533245 103.688203 \r\nL 211.4933 105.425288 \r\nL 211.683685 116.934198 \r\nL 211.794231 120.759165 \r\nL 211.831079 118.465007 \r\nL 211.880211 117.264358 \r\nL 211.935484 118.801053 \r\nL 211.941625 118.764026 \r\nL 211.953908 119.196818 \r\nL 211.972332 119.536169 \r\nL 212.021464 117.995184 \r\nL 212.107444 113.706034 \r\nL 212.138151 115.536799 \r\nL 212.162717 115.969136 \r\nL 212.224131 115.031389 \r\nL 212.285546 112.406852 \r\nL 212.334677 114.514002 \r\nL 212.34696 114.643815 \r\nL 212.353102 114.386069 \r\nL 212.494355 103.276148 \r\nL 212.746154 111.132472 \r\nL 212.807568 109.309891 \r\nL 212.838275 108.463324 \r\nL 212.905831 109.703391 \r\nL 212.911973 109.607684 \r\nL 212.930397 109.50352 \r\nL 212.94268 109.708291 \r\nL 213.077792 115.883019 \r\nL 213.108499 116.204292 \r\nL 213.120782 115.841015 \r\nL 213.206762 114.999485 \r\nL 213.145347 115.94429 \r\nL 213.237469 115.535653 \r\nL 213.384864 119.038019 \r\nL 213.415571 117.854838 \r\nL 213.550682 110.467769 \r\nL 213.587531 110.674912 \r\nL 213.618238 112.539242 \r\nL 213.636663 113.199379 \r\nL 213.728784 112.676971 \r\nL 213.79634 111.631371 \r\nL 214.932506 111.54518 \r\nL 229.180648 106.346159 \r\nL 229.248204 97.480491 \r\nL 229.303477 100.418517 \r\nL 229.346467 101.070269 \r\nL 229.383315 99.80834 \r\nL 229.555276 89.164328 \r\nL 229.5737 90.08264 \r\nL 229.635114 91.334112 \r\nL 229.684246 90.486487 \r\nL 229.727236 91.223947 \r\nL 229.751802 90.321664 \r\nL 229.800933 88.359495 \r\nL 229.850065 91.454003 \r\nL 229.893055 92.52122 \r\nL 229.936045 90.885494 \r\nL 229.966752 90.558916 \r\nL 230.003601 92.099672 \r\nL 230.193985 96.897958 \r\nL 230.200127 96.883749 \r\nL 230.353663 93.445203 \r\nL 230.378229 94.657289 \r\nL 230.550189 100.19442 \r\nL 230.703725 105.839131 \r\nL 230.771281 108.751238 \r\nL 230.826554 108.001426 \r\nL 230.838837 110.446753 \r\nL 231.10906 137.580672 \r\nL 231.164333 134.34437 \r\nL 231.250313 130.97897 \r\nL 231.287162 132.151993 \r\nL 231.317869 132.533769 \r\nL 231.342435 132.003128 \r\nL 231.483688 129.501393 \r\nL 232.337348 129.417593 \r\nL 238.024322 132.69652 \r\nL 238.128726 140.413224 \r\nL 238.171716 137.47466 \r\nL 238.257696 129.883922 \r\nL 238.306828 133.679185 \r\nL 238.374384 136.183767 \r\nL 238.423515 134.370839 \r\nL 238.509496 130.92164 \r\nL 238.577051 132.453464 \r\nL 238.601617 133.146092 \r\nL 238.65689 131.701162 \r\nL 238.884123 119.317128 \r\nL 238.908689 119.431694 \r\nL 238.914831 119.408332 \r\nL 238.927113 119.515149 \r\nL 239.031518 123.170379 \r\nL 239.074508 121.570068 \r\nL 239.148205 117.848833 \r\nL 239.203478 115.709682 \r\nL 239.264893 117.186886 \r\nL 239.400004 124.999841 \r\nL 239.430712 122.543805 \r\nL 239.492126 119.798267 \r\nL 239.547399 122.140752 \r\nL 239.559682 122.234327 \r\nL 239.608813 121.755638 \r\nL 239.713218 118.101288 \r\nL 239.774632 120.458863 \r\nL 239.842188 121.072936 \r\nL 239.866754 119.880003 \r\nL 240.008007 116.541408 \r\nL 240.112411 114.629548 \r\nL 240.044856 117.286306 \r\nL 240.161543 115.868374 \r\nL 240.204533 117.507215 \r\nL 240.253665 115.636783 \r\nL 240.32122 112.028619 \r\nL 241.13189 111.931314 \r\nL 246.867996 100.163665 \r\nL 246.984683 80.881428 \r\nL 247.009249 81.243107 \r\nL 247.021532 81.018538 \r\nL 247.064522 81.867674 \r\nL 247.107512 81.476007 \r\nL 247.463715 96.247569 \r\nL 247.506705 98.333409 \r\nL 247.56812 96.18805 \r\nL 247.672524 91.042393 \r\nL 247.74008 94.241365 \r\nL 247.967313 103.43257 \r\nL 247.985738 102.537449 \r\nL 248.059435 99.436851 \r\nL 248.126991 101.687176 \r\nL 248.145415 102.073908 \r\nL 248.176122 100.342261 \r\nL 248.280527 96.142835 \r\nL 248.3358 98.63619 \r\nL 248.403356 101.350583 \r\nL 248.446346 99.493077 \r\nL 248.630589 95.804342 \r\nL 248.734993 91.89094 \r\nL 248.913095 84.851392 \r\nL 249.035924 73.054667 \r\nL 249.128046 62.475481 \r\nL 249.171036 62.767215 \r\nL 250.067686 62.693847 \r\nL 273.405159 61.924641 \r\nL 273.442008 63.684499 \r\nL 273.49728 60.985315 \r\nL 273.534129 59.026189 \r\nL 273.570978 62.752592 \r\nL 273.626251 67.120104 \r\nL 273.706089 65.930743 \r\nL 273.822777 67.908435 \r\nL 273.847343 66.631676 \r\nL 273.988596 60.279626 \r\nL 274.074576 58.379416 \r\nL 274.129849 59.868407 \r\nL 274.301809 70.157414 \r\nL 274.332516 70.687968 \r\nL 274.350941 69.727989 \r\nL 274.535184 66.375129 \r\nL 274.55975 66.734528 \r\nL 274.608881 65.045177 \r\nL 274.627305 65.380355 \r\nL 274.768559 70.434027 \r\nL 274.786983 69.878182 \r\nL 274.98965 64.222432 \r\nL 274.995792 64.180524 \r\nL 275.008075 64.610981 \r\nL 275.192318 68.078494 \r\nL 275.198459 68.066517 \r\nL 275.272157 63.842131 \r\nL 275.358137 59.900212 \r\nL 275.401127 60.089723 \r\nL 275.487107 70.420241 \r\nL 275.603794 76.334305 \r\nL 275.640643 75.878147 \r\nL 275.689775 74.21976 \r\nL 275.702058 74.490501 \r\nL 276.574142 74.519832 \r\nL 282.242691 83.688582 \r\nL 282.396227 106.141317 \r\nL 282.555905 103.981926 \r\nL 282.574329 104.287098 \r\nL 282.617319 105.881243 \r\nL 282.801562 108.945319 \r\nL 282.826128 108.397515 \r\nL 282.905967 106.956913 \r\nL 282.973523 107.572828 \r\nL 283.1332 110.858359 \r\nL 283.170049 111.247095 \r\nL 283.200756 110.652471 \r\nL 283.299019 107.638526 \r\nL 283.335868 108.27528 \r\nL 283.378858 109.56879 \r\nL 283.679788 120.214613 \r\nL 283.710496 120.019338 \r\nL 283.716637 120.015681 \r\nL 283.722778 120.136857 \r\nL 283.808759 122.312474 \r\nL 283.741203 120.101937 \r\nL 283.864032 120.843603 \r\nL 283.937729 119.294985 \r\nL 283.98686 119.650866 \r\nL 284.023709 119.867942 \r\nL 284.177245 115.736392 \r\nL 284.232518 114.050483 \r\nL 284.275508 116.08346 \r\nL 284.349205 119.182954 \r\nL 284.404478 118.282292 \r\nL 284.472034 117.307735 \r\nL 284.527307 118.097055 \r\nL 284.545731 118.731391 \r\nL 285.761737 118.811786 \r\nL 291.086365 120.302192 \r\nL 291.215336 123.947014 \r\nL 291.44871 128.836514 \r\nL 291.522408 127.652406 \r\nL 291.87247 110.955325 \r\nL 291.927743 113.757449 \r\nL 292.00144 116.573033 \r\nL 292.050571 114.736007 \r\nL 292.118127 115.317454 \r\nL 292.21639 113.159132 \r\nL 292.234815 113.568785 \r\nL 292.296229 113.959509 \r\nL 292.333078 113.252531 \r\nL 292.369926 112.90918 \r\nL 292.406775 113.349885 \r\nL 292.419058 113.505797 \r\nL 292.468189 112.853242 \r\nL 292.505038 110.969228 \r\nL 292.572594 114.26733 \r\nL 292.750696 121.591795 \r\nL 292.775261 121.148033 \r\nL 292.94108 111.883856 \r\nL 293.174455 102.111712 \r\nL 293.192879 101.336416 \r\nL 293.235869 104.107771 \r\nL 293.303425 106.036109 \r\nL 293.358698 104.801114 \r\nL 293.389405 104.394862 \r\nL 294.329046 104.341737 \r\nL 299.930039 104.710052 \r\nL 299.942322 104.96227 \r\nL 300.003737 103.444403 \r\nL 300.507335 94.619003 \r\nL 300.544183 94.973963 \r\nL 300.691578 98.11789 \r\nL 300.722285 95.932532 \r\nL 300.974084 90.276766 \r\nL 301.047781 90.636976 \r\nL 301.060064 90.21731 \r\nL 301.201317 88.404917 \r\nL 301.262732 87.716569 \r\nL 301.281156 88.892055 \r\nL 301.588228 96.298452 \r\nL 301.612794 95.717874 \r\nL 301.741764 88.883364 \r\nL 301.76633 89.074997 \r\nL 301.840027 87.137476 \r\nL 301.876876 88.9822 \r\nL 301.913724 89.199945 \r\nL 301.93829 88.024949 \r\nL 302.06726 84.001391 \r\nL 302.079543 84.060032 \r\nL 302.233079 88.12377 \r\nL 303.227993 88.227217 \r\nL 308.773713 95.219214 \r\nL 308.908825 111.281769 \r\nL 308.921108 111.143376 \r\nL 309.09921 105.14101 \r\nL 309.154482 107.574499 \r\nL 309.166765 107.757192 \r\nL 309.222038 107.140659 \r\nL 309.22818 106.650733 \r\nL 309.301877 109.064478 \r\nL 309.320301 109.574398 \r\nL 309.393999 108.472626 \r\nL 309.412423 108.159792 \r\nL 309.473837 109.070939 \r\nL 309.479979 109.030779 \r\nL 309.498403 109.110693 \r\nL 309.522969 108.974997 \r\nL 309.627373 107.682654 \r\nL 309.639656 108.085651 \r\nL 309.719495 110.669136 \r\nL 309.756344 109.458876 \r\nL 309.817758 109.602348 \r\nL 309.922162 106.500067 \r\nL 310.063416 100.861008 \r\nL 310.118689 101.967982 \r\nL 310.186244 104.440031 \r\nL 310.241517 102.603197 \r\nL 310.290649 101.181584 \r\nL 310.364346 101.477536 \r\nL 310.536307 107.775322 \r\nL 310.573155 110.788457 \r\nL 310.708267 114.417499 \r\nL 310.751257 113.626228 \r\nL 310.867944 111.4927 \r\nL 310.929359 112.062157 \r\nL 310.97849 112.405794 \r\nL 311.076753 110.083919 \r\nL 312.108515 110.001985 \r\nL 335.304735 107.338151 \r\nL 335.445988 94.805919 \r\nL 335.476695 93.939962 \r\nL 335.525827 95.680385 \r\nL 335.574958 96.442214 \r\nL 335.599524 95.218177 \r\nL 335.75306 87.821147 \r\nL 335.894313 86.474205 \r\nL 335.912738 86.58923 \r\nL 336.158395 89.443779 \r\nL 336.207527 89.019765 \r\nL 336.250517 88.557507 \r\nL 336.293507 88.698985 \r\nL 336.373346 90.658468 \r\nL 336.410194 89.79767 \r\nL 336.526882 87.744161 \r\nL 336.582155 88.372419 \r\nL 336.588296 88.404665 \r\nL 336.64971 88.203179 \r\nL 336.6927 88.279993 \r\nL 336.729549 86.563613 \r\nL 336.790964 85.676076 \r\nL 336.846236 86.453834 \r\nL 336.969065 88.864757 \r\nL 337.055045 90.739028 \r\nL 337.085753 89.361461 \r\nL 337.141026 88.351417 \r\nL 337.184016 89.681881 \r\nL 337.233147 91.556291 \r\nL 337.282279 89.548626 \r\nL 337.312986 89.030706 \r\nL 337.355976 90.152696 \r\nL 337.380542 90.065571 \r\nL 337.466522 88.692024 \r\nL 337.527936 89.098965 \r\nL 337.595492 89.558572 \r\nL 337.607775 89.550949 \r\nL 338.461435 89.565559 \r\nL 344.148409 85.890568 \r\nL 344.252813 76.651627 \r\nL 344.314228 78.279845 \r\nL 344.467764 81.764572 \r\nL 344.516895 82.40529 \r\nL 344.559885 81.635931 \r\nL 344.866957 78.036435 \r\nL 344.627441 81.95602 \r\nL 344.873099 78.069645 \r\nL 344.92223 78.599779 \r\nL 344.959079 77.833186 \r\nL 345.106474 76.879237 \r\nL 345.155605 76.821718 \r\nL 345.174029 77.047821 \r\nL 345.358273 80.00878 \r\nL 345.382838 79.819519 \r\nL 345.671486 73.885577 \r\nL 345.751325 71.306337 \r\nL 345.800456 72.323086 \r\nL 345.837305 72.6228 \r\nL 345.855729 72.141884 \r\nL 346.02769 69.942915 \r\nL 346.033831 69.943452 \r\nL 346.046114 69.893006 \r\nL 346.058397 70.062073 \r\nL 346.175084 71.832058 \r\nL 346.211933 71.404317 \r\nL 346.439166 67.424351 \r\nL 346.451449 67.051259 \r\nL 347.415655 67.010247 \r\nL 352.992083 69.258536 \r\nL 353.059639 70.690061 \r\nL 353.090346 69.061573 \r\nL 353.23774 66.907378 \r\nL 353.305296 67.520128 \r\nL 353.336003 68.167651 \r\nL 353.403559 67.426859 \r\nL 353.428125 68.148477 \r\nL 353.501822 69.041385 \r\nL 353.569378 68.673566 \r\nL 353.710631 66.924005 \r\nL 353.722914 66.432124 \r\nL 353.821177 64.624037 \r\nL 353.864167 64.786761 \r\nL 353.925582 65.477758 \r\nL 353.980855 64.96457 \r\nL 354.029986 64.55407 \r\nL 354.085259 64.992414 \r\nL 354.109825 65.10057 \r\nL 354.165098 64.756389 \r\nL 354.183522 64.766666 \r\nL 354.232654 65.604722 \r\nL 354.275644 64.604004 \r\nL 354.404614 63.466647 \r\nL 354.435321 63.325577 \r\nL 354.441463 63.288374 \r\nL 354.484453 63.690853 \r\nL 354.55815 64.244288 \r\nL 354.582716 63.581318 \r\nL 354.637989 63.361323 \r\nL 354.668696 63.85562 \r\nL 354.760818 64.886142 \r\nL 354.791525 64.576554 \r\nL 355.123163 45.13602 \r\nL 355.209143 50.019633 \r\nL 355.295123 55.190481 \r\nL 356.271612 55.405462 \r\nL 361.835757 47.786029 \r\nL 362.007717 27.581078 \r\nL 362.222667 22.921873 \r\nL 362.069131 27.720266 \r\nL 362.27794 23.140426 \r\nL 362.363921 24.362661 \r\nL 362.425335 24.08793 \r\nL 362.449901 23.879689 \r\nL 362.523598 23.912858 \r\nL 362.628003 20.951105 \r\nL 362.646427 21.246448 \r\nL 362.689417 21.921614 \r\nL 362.763114 22.853763 \r\nL 362.812246 22.367316 \r\nL 362.898226 20.896126 \r\nL 362.947357 21.248132 \r\nL 362.953499 21.268243 \r\nL 362.978065 21.144668 \r\nL 363.021055 20.583636 \r\nL 363.033338 20.693785 \r\nL 363.162308 27.888738 \r\nL 363.34041 35.884924 \r\nL 363.352692 34.697235 \r\nL 363.432531 31.64757 \r\nL 363.481663 32.790254 \r\nL 363.51237 34.275782 \r\nL 363.592209 33.042284 \r\nL 363.678189 30.065892 \r\nL 363.708896 32.158437 \r\nL 363.954554 40.04991 \r\nL 364.003685 38.317701 \r\nL 364.0651 35.766507 \r\nL 364.132655 36.370479 \r\nL 365.594318 36.381654 \r\nL 365.594318 36.381654 \r\n\" style=\"fill:none;stroke:#ff7f0e;stroke-linecap:square;stroke-width:1.5;\"/>\r\n   </g>\r\n   <g id=\"patch_3\">\r\n    <path d=\"M 46.0125 228.14 \r\nL 46.0125 10.7 \r\n\" style=\"fill:none;stroke:#000000;stroke-linecap:square;stroke-linejoin:miter;stroke-width:0.8;\"/>\r\n   </g>\r\n   <g id=\"patch_4\">\r\n    <path d=\"M 380.8125 228.14 \r\nL 380.8125 10.7 \r\n\" style=\"fill:none;stroke:#000000;stroke-linecap:square;stroke-linejoin:miter;stroke-width:0.8;\"/>\r\n   </g>\r\n   <g id=\"patch_5\">\r\n    <path d=\"M 46.0125 228.14 \r\nL 380.8125 228.14 \r\n\" style=\"fill:none;stroke:#000000;stroke-linecap:square;stroke-linejoin:miter;stroke-width:0.8;\"/>\r\n   </g>\r\n   <g id=\"patch_6\">\r\n    <path d=\"M 46.0125 10.7 \r\nL 380.8125 10.7 \r\n\" style=\"fill:none;stroke:#000000;stroke-linecap:square;stroke-linejoin:miter;stroke-width:0.8;\"/>\r\n   </g>\r\n  </g>\r\n </g>\r\n <defs>\r\n  <clipPath id=\"p6c1cf68260\">\r\n   <rect height=\"217.44\" width=\"334.8\" x=\"46.0125\" y=\"10.7\"/>\r\n  </clipPath>\r\n </defs>\r\n</svg>\r\n",
      "image/png": "[encoded data removed]"
     },
     "metadata": {
      "needs_background": "light"
     }
    }
   ],
   "source": [
    "\n",
    "\n",
    "#plt.plot(data_backtesting.index[100:200], ta.volatility.bollinger_hband_indicator(data_backtesting[\"Close\"][100:200], 20, 2))\n",
    "plt.plot(data_backtesting.index, ta.volatility.bollinger_lband(data_backtesting[\"Close\"], 20, 2))\n",
    "#plt.plot(data_backtesting.index[100:200], ta.volatility.bollinger_mavg(data_backtesting[\"Close\"][100:200], 20))\n",
    "#plt.plot(data_backtesting.index[100:200], data_backtesting[\"Close\"][100:200])\n",
    "\n",
    "plt.plot(data_backtesting.index, ta.volume.volume_weighted_average_price(data_backtesting[\"High\"],data_backtesting[\"Low\"],data_backtesting[\"Close\"], data_backtesting[\"Volume\"], 14))\n",
    "plt.show()"
   ]
  },
  {
   "cell_type": "code",
   "execution_count": 5,
   "metadata": {},
   "outputs": [],
   "source": [
    "\n",
    "def SMA(values, n):\n",
    "    \"\"\"\n",
    "    Return simple moving average of `values`, at\n",
    "    each step taking into account `n` previous values.\n",
    "    \"\"\"\n",
    "    return pd.Series(values).rolling(n).mean()\n",
    "\n",
    "class SmaCross(Strategy):\n",
    "    # Define the two MA lags as *class variables*\n",
    "    # for later optimization\n",
    "    n1 = 13\n",
    "    n2 = 32\n",
    "    \n",
    "    def init(self):\n",
    "        # Precompute the two moving averages\n",
    "        self.sma1 = self.I(SMA, self.data.Close, self.n1)\n",
    "        self.sma2 = self.I(SMA, self.data.Close, self.n2)\n",
    "    \n",
    "    def next(self):\n",
    "        # If sma1 crosses above sma2, close any existing\n",
    "        # short trades, and buy the asset\n",
    "        if crossover(self.sma1, self.sma2):\n",
    "            self.position.close()\n",
    "            self.buy()\n",
    "\n",
    "        # Else, if sma1 crosses below sma2, close any existing\n",
    "        # long trades, and sell the asset\n",
    "        elif crossover(self.sma2, self.sma1):\n",
    "            self.position.close()\n",
    "            self.sell()\n",
    "\n"
   ]
  },
  {
   "cell_type": "code",
   "execution_count": null,
   "metadata": {},
   "outputs": [],
   "source": [
    "class SmaCrossSignalTrail(SignalStrategy,\n",
    "               TrailingStrategy):\n",
    "    n1 = 10\n",
    "    n2 = 25\n",
    "    \n",
    "    def init(self):\n",
    "        # In init() and in next() it is important to call the\n",
    "        # super method to properly initialize the parent classes\n",
    "        super().init()\n",
    "        \n",
    "        # Precompute the two moving averages\n",
    "        sma1 = self.I(SMA, self.data.Close, self.n1)\n",
    "        sma2 = self.I(SMA, self.data.Close, self.n2)\n",
    "        \n",
    "        # Where sma1 crosses sma2 upwards. Diff gives us [-1,0, *1*]\n",
    "        signal = (pd.Series(sma1) > sma2).astype(int).diff().fillna(0)\n",
    "        signal = signal.replace(-1, 0)  # Upwards/long only\n",
    "        \n",
    "        # Use 95% of available liquidity (at the time) on each order.\n",
    "        # (Leaving a value of 1. would instead buy a single share.)\n",
    "        entry_size = signal * .95\n",
    "                \n",
    "        # Set order entry sizes using the method provided by \n",
    "        # `SignalStrategy`. See the docs.\n",
    "        self.set_signal(entry_size=entry_size)\n",
    "        \n",
    "        # Set trailing stop-loss to 2x ATR using\n",
    "        # the method provided by `TrailingStrategy`\n",
    "        self.set_trailing_sl(2)\n"
   ]
  },
  {
   "cell_type": "code",
   "execution_count": null,
   "metadata": {},
   "outputs": [],
   "source": [
    "from backtesting.test import GOOG\n",
    "\n",
    "GOOG.head()"
   ]
  },
  {
   "cell_type": "code",
   "execution_count": null,
   "metadata": {},
   "outputs": [],
   "source": [
    "\n",
    "bt = Backtest(GOOG, SmaCross, cash=10000, commission=.002)\n",
    "stats = bt.run()\n",
    "stats"
   ]
  },
  {
   "cell_type": "code",
   "execution_count": 6,
   "metadata": {
    "tags": []
   },
   "outputs": [
    {
     "output_type": "stream",
     "name": "stdout",
     "text": "Start                     2020-01-01 09:16:00\nEnd                       2020-01-30 19:10:00\nDuration                     29 days 09:54:00\nExposure Time [%]                     99.0226\nEquity Final [$]                      59647.8\nEquity Peak [$]                        100000\nReturn [%]                           -40.3522\nBuy & Hold Return [%]                 5.57261\nMax. Drawdown [%]                    -40.3661\nAvg. Drawdown [%]                    -40.3661\nMax. Drawdown Duration       29 days 08:37:00\nAvg. Drawdown Duration       29 days 08:37:00\n# Trades                                  301\nWin Rate [%]                          12.6246\nBest Trade [%]                       0.864226\nWorst Trade [%]                       -1.8407\nAvg. Trade [%]                      -0.216793\nMax. Trade Duration           2 days 18:39:00\nAvg. Trade Duration           0 days 02:20:00\nProfit Factor                        0.120486\nExpectancy [%]                       0.275713\nSQN                                  -13.5343\nSharpe Ratio                        -0.792033\nSortino Ratio                        -1.02361\nCalmar Ratio                      -0.00537068\n_strategy                            SmaCross\n_equity_curve                             ...\n_trades                        Size  Entry...\ndtype: object\n"
    }
   ],
   "source": [
    "bt_banknifty = Backtest(data_backtesting, SmaCross, cash=100000, commission=.002)\n",
    "banknifty_stats = bt_banknifty.run()\n",
    "\n",
    "print(banknifty_stats)"
   ]
  },
  {
   "cell_type": "code",
   "execution_count": 8,
   "metadata": {},
   "outputs": [
    {
     "output_type": "execute_result",
     "data": {
      "text/plain": "-40.352237700000146"
     },
     "metadata": {},
     "execution_count": 8
    }
   ],
   "source": [
    "banknifty_stats[\"Return [%]\"]"
   ]
  },
  {
   "cell_type": "code",
   "execution_count": null,
   "metadata": {},
   "outputs": [],
   "source": [
    "\n",
    "bt_banknifty.plot()"
   ]
  },
  {
   "cell_type": "code",
   "execution_count": null,
   "metadata": {},
   "outputs": [],
   "source": [
    "bt.plot()"
   ]
  },
  {
   "cell_type": "code",
   "execution_count": null,
   "metadata": {
    "tags": []
   },
   "outputs": [],
   "source": [
    "%%time\n",
    "\n",
    "stats = bt_banknifty.optimize(n1=range(8, 15, 1),\n",
    "                    n2=range(20, 35, 1),\n",
    "                    maximize='Equity Final [$]',\n",
    "                    constraint=lambda param: param.n1 < param.n2)\n",
    "print(stats)"
   ]
  },
  {
   "cell_type": "code",
   "execution_count": null,
   "metadata": {
    "tags": []
   },
   "outputs": [],
   "source": [
    "print(stats._strategy)\n",
    "stats.tail()"
   ]
  },
  {
   "cell_type": "code",
   "execution_count": null,
   "metadata": {},
   "outputs": [],
   "source": [
    "bt_banknifty.plot(plot_volume=False, plot_pl=False)"
   ]
  },
  {
   "cell_type": "code",
   "execution_count": null,
   "metadata": {},
   "outputs": [],
   "source": [
    "bt_banknifty._strategy.__name__"
   ]
  },
  {
   "cell_type": "code",
   "execution_count": null,
   "metadata": {},
   "outputs": [],
   "source": []
  }
 ],
 "metadata": {
  "kernelspec": {
   "display_name": "Python 3",
   "language": "python",
   "name": "python3"
  },
  "language_info": {
   "codemirror_mode": {
    "name": "ipython",
    "version": 3
   },
   "file_extension": ".py",
   "mimetype": "text/x-python",
   "name": "python",
   "nbconvert_exporter": "python",
   "pygments_lexer": "ipython3",
   "version": "3.6.7-final"
  },
  "toc": {
   "base_numbering": 1,
   "nav_menu": {},
   "number_sections": true,
   "sideBar": true,
   "skip_h1_title": false,
   "title_cell": "Table of Contents",
   "title_sidebar": "Contents",
   "toc_cell": false,
   "toc_position": {},
   "toc_section_display": true,
   "toc_window_display": false
  },
  "varInspector": {
   "cols": {
    "lenName": 16,
    "lenType": 16,
    "lenVar": 40
   },
   "kernels_config": {
    "python": {
     "delete_cmd_postfix": "",
     "delete_cmd_prefix": "del ",
     "library": "var_list.py",
     "varRefreshCmd": "print(var_dic_list())"
    },
    "r": {
     "delete_cmd_postfix": ") ",
     "delete_cmd_prefix": "rm(",
     "library": "var_list.r",
     "varRefreshCmd": "cat(var_dic_list()) "
    }
   },
   "types_to_exclude": [
    "module",
    "function",
    "builtin_function_or_method",
    "instance",
    "_Feature"
   ],
   "window_display": false
  }
 },
 "nbformat": 4,
 "nbformat_minor": 2
}