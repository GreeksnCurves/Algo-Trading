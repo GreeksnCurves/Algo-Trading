{
 "cells": [
  {
   "cell_type": "code",
   "execution_count": 1,
   "metadata": {
    "ExecuteTime": {
     "end_time": "2020-07-22T07:04:50.315985Z",
     "start_time": "2020-07-22T07:04:42.872888Z"
    },
    "tags": []
   },
   "outputs": [
    {
     "output_type": "display_data",
     "data": {
      "text/html": "\n    <div class=\"bk-root\">\n        <a href=\"https://bokeh.org\" target=\"_blank\" class=\"bk-logo bk-logo-small bk-logo-notebook\"></a>\n        <span id=\"1001\">Loading BokehJS ...</span>\n    </div>"
     },
     "metadata": {}
    },
    {
     "output_type": "display_data",
     "data": {
      "application/javascript": "\n(function(root) {\n  function now() {\n    return new Date();\n  }\n\n  var force = true;\n\n  if (typeof root._bokeh_onload_callbacks === \"undefined\" || force === true) {\n    root._bokeh_onload_callbacks = [];\n    root._bokeh_is_loading = undefined;\n  }\n\n  var JS_MIME_TYPE = 'application/javascript';\n  var HTML_MIME_TYPE = 'text/html';\n  var EXEC_MIME_TYPE = 'application/vnd.bokehjs_exec.v0+json';\n  var CLASS_NAME = 'output_bokeh rendered_html';\n\n  /**\n   * Render data to the DOM node\n   */\n  function render(props, node) {\n    var script = document.createElement(\"script\");\n    node.appendChild(script);\n  }\n\n  /**\n   * Handle when an output is cleared or removed\n   */\n  function handleClearOutput(event, handle) {\n    var cell = handle.cell;\n\n    var id = cell.output_area._bokeh_element_id;\n    var server_id = cell.output_area._bokeh_server_id;\n    // Clean up Bokeh references\n    if (id != null && id in Bokeh.index) {\n      Bokeh.index[id].model.document.clear();\n      delete Bokeh.index[id];\n    }\n\n    if (server_id !== undefined) {\n      // Clean up Bokeh references\n      var cmd = \"from bokeh.io.state import curstate; print(curstate().uuid_to_server['\" + server_id + \"'].get_sessions()[0].document.roots[0]._id)\";\n      cell.notebook.kernel.execute(cmd, {\n        iopub: {\n          output: function(msg) {\n            var id = msg.content.text.trim();\n            if (id in Bokeh.index) {\n              Bokeh.index[id].model.document.clear();\n              delete Bokeh.index[id];\n            }\n          }\n        }\n      });\n      // Destroy server and session\n      var cmd = \"import bokeh.io.notebook as ion; ion.destroy_server('\" + server_id + \"')\";\n      cell.notebook.kernel.execute(cmd);\n    }\n  }\n\n  /**\n   * Handle when a new output is added\n   */\n  function handleAddOutput(event, handle) {\n    var output_area = handle.output_area;\n    var output = handle.output;\n\n    // limit handleAddOutput to display_data with EXEC_MIME_TYPE content only\n    if ((output.output_type != \"display_data\") || (!output.data.hasOwnProperty(EXEC_MIME_TYPE))) {\n      return\n    }\n\n    var toinsert = output_area.element.find(\".\" + CLASS_NAME.split(' ')[0]);\n\n    if (output.metadata[EXEC_MIME_TYPE][\"id\"] !== undefined) {\n      toinsert[toinsert.length - 1].firstChild.textContent = output.data[JS_MIME_TYPE];\n      // store reference to embed id on output_area\n      output_area._bokeh_element_id = output.metadata[EXEC_MIME_TYPE][\"id\"];\n    }\n    if (output.metadata[EXEC_MIME_TYPE][\"server_id\"] !== undefined) {\n      var bk_div = document.createElement(\"div\");\n      bk_div.innerHTML = output.data[HTML_MIME_TYPE];\n      var script_attrs = bk_div.children[0].attributes;\n      for (var i = 0; i < script_attrs.length; i++) {\n        toinsert[toinsert.length - 1].firstChild.setAttribute(script_attrs[i].name, script_attrs[i].value);\n        toinsert[toinsert.length - 1].firstChild.textContent = bk_div.children[0].textContent\n      }\n      // store reference to server id on output_area\n      output_area._bokeh_server_id = output.metadata[EXEC_MIME_TYPE][\"server_id\"];\n    }\n  }\n\n  function register_renderer(events, OutputArea) {\n\n    function append_mime(data, metadata, element) {\n      // create a DOM node to render to\n      var toinsert = this.create_output_subarea(\n        metadata,\n        CLASS_NAME,\n        EXEC_MIME_TYPE\n      );\n      this.keyboard_manager.register_events(toinsert);\n      // Render to node\n      var props = {data: data, metadata: metadata[EXEC_MIME_TYPE]};\n      render(props, toinsert[toinsert.length - 1]);\n      element.append(toinsert);\n      return toinsert\n    }\n\n    /* Handle when an output is cleared or removed */\n    events.on('clear_output.CodeCell', handleClearOutput);\n    events.on('delete.Cell', handleClearOutput);\n\n    /* Handle when a new output is added */\n    events.on('output_added.OutputArea', handleAddOutput);\n\n    /**\n     * Register the mime type and append_mime function with output_area\n     */\n    OutputArea.prototype.register_mime_type(EXEC_MIME_TYPE, append_mime, {\n      /* Is output safe? */\n      safe: true,\n      /* Index of renderer in `output_area.display_order` */\n      index: 0\n    });\n  }\n\n  // register the mime type if in Jupyter Notebook environment and previously unregistered\n  if (root.Jupyter !== undefined) {\n    var events = require('base/js/events');\n    var OutputArea = require('notebook/js/outputarea').OutputArea;\n\n    if (OutputArea.prototype.mime_types().indexOf(EXEC_MIME_TYPE) == -1) {\n      register_renderer(events, OutputArea);\n    }\n  }\n\n  \n  if (typeof (root._bokeh_timeout) === \"undefined\" || force === true) {\n    root._bokeh_timeout = Date.now() + 5000;\n    root._bokeh_failed_load = false;\n  }\n\n  var NB_LOAD_WARNING = {'data': {'text/html':\n     \"<div style='background-color: #fdd'>\\n\"+\n     \"<p>\\n\"+\n     \"BokehJS does not appear to have successfully loaded. If loading BokehJS from CDN, this \\n\"+\n     \"may be due to a slow or bad network connection. Possible fixes:\\n\"+\n     \"</p>\\n\"+\n     \"<ul>\\n\"+\n     \"<li>re-rerun `output_notebook()` to attempt to load from CDN again, or</li>\\n\"+\n     \"<li>use INLINE resources instead, as so:</li>\\n\"+\n     \"</ul>\\n\"+\n     \"<code>\\n\"+\n     \"from bokeh.resources import INLINE\\n\"+\n     \"output_notebook(resources=INLINE)\\n\"+\n     \"</code>\\n\"+\n     \"</div>\"}};\n\n  function display_loaded() {\n    var el = document.getElementById(\"1001\");\n    if (el != null) {\n      el.textContent = \"BokehJS is loading...\";\n    }\n    if (root.Bokeh !== undefined) {\n      if (el != null) {\n        el.textContent = \"BokehJS \" + root.Bokeh.version + \" successfully loaded.\";\n      }\n    } else if (Date.now() < root._bokeh_timeout) {\n      setTimeout(display_loaded, 100)\n    }\n  }\n\n\n  function run_callbacks() {\n    try {\n      root._bokeh_onload_callbacks.forEach(function(callback) {\n        if (callback != null)\n          callback();\n      });\n    } finally {\n      delete root._bokeh_onload_callbacks\n    }\n    console.debug(\"Bokeh: all callbacks have finished\");\n  }\n\n  function load_libs(css_urls, js_urls, callback) {\n    if (css_urls == null) css_urls = [];\n    if (js_urls == null) js_urls = [];\n\n    root._bokeh_onload_callbacks.push(callback);\n    if (root._bokeh_is_loading > 0) {\n      console.debug(\"Bokeh: BokehJS is being loaded, scheduling callback at\", now());\n      return null;\n    }\n    if (js_urls == null || js_urls.length === 0) {\n      run_callbacks();\n      return null;\n    }\n    console.debug(\"Bokeh: BokehJS not loaded, scheduling load and callback at\", now());\n    root._bokeh_is_loading = css_urls.length + js_urls.length;\n\n    function on_load() {\n      root._bokeh_is_loading--;\n      if (root._bokeh_is_loading === 0) {\n        console.debug(\"Bokeh: all BokehJS libraries/stylesheets loaded\");\n        run_callbacks()\n      }\n    }\n\n    function on_error() {\n      console.error(\"failed to load \" + url);\n    }\n\n    for (var i = 0; i < css_urls.length; i++) {\n      var url = css_urls[i];\n      const element = document.createElement(\"link\");\n      element.onload = on_load;\n      element.onerror = on_error;\n      element.rel = \"stylesheet\";\n      element.type = \"text/css\";\n      element.href = url;\n      console.debug(\"Bokeh: injecting link tag for BokehJS stylesheet: \", url);\n      document.body.appendChild(element);\n    }\n\n    const hashes = {\"https://cdn.bokeh.org/bokeh/release/bokeh-2.2.0.min.js\": \"jtq3UzIrk2TfDZfSNGEN0ICKrRWmtzZSQm6i1Xnd3hY3UfU9m98vuEL7JUv7Iway\", \"https://cdn.bokeh.org/bokeh/release/bokeh-widgets-2.2.0.min.js\": \"rRlSZb4FImflqQNhKcvkZq8b+FqcNFxP9CmCO8Vgo9uNXe6wk6yNMlKMrXn+TjeM\", \"https://cdn.bokeh.org/bokeh/release/bokeh-tables-2.2.0.min.js\": \"MJyUmyL5f4wPlABPEp4CF5HzMeAPMvzucE8gEGNH15tAWgHFb2hsPNIEkva89XtP\"};\n\n    for (var i = 0; i < js_urls.length; i++) {\n      var url = js_urls[i];\n      var element = document.createElement('script');\n      element.onload = on_load;\n      element.onerror = on_error;\n      element.async = false;\n      element.src = url;\n      if (url in hashes) {\n        element.crossOrigin = \"anonymous\";\n        element.integrity = \"sha384-\" + hashes[url];\n      }\n      console.debug(\"Bokeh: injecting script tag for BokehJS library: \", url);\n      document.head.appendChild(element);\n    }\n  };\n\n  function inject_raw_css(css) {\n    const element = document.createElement(\"style\");\n    element.appendChild(document.createTextNode(css));\n    document.body.appendChild(element);\n  }\n\n  \n  var js_urls = [\"https://cdn.bokeh.org/bokeh/release/bokeh-2.2.0.min.js\", \"https://cdn.bokeh.org/bokeh/release/bokeh-widgets-2.2.0.min.js\", \"https://cdn.bokeh.org/bokeh/release/bokeh-tables-2.2.0.min.js\"];\n  var css_urls = [];\n  \n\n  var inline_js = [\n    function(Bokeh) {\n      Bokeh.set_log_level(\"info\");\n    },\n    function(Bokeh) {\n    \n    \n    }\n  ];\n\n  function run_inline_js() {\n    \n    if (root.Bokeh !== undefined || force === true) {\n      \n    for (var i = 0; i < inline_js.length; i++) {\n      inline_js[i].call(root, root.Bokeh);\n    }\n    if (force === true) {\n        display_loaded();\n      }} else if (Date.now() < root._bokeh_timeout) {\n      setTimeout(run_inline_js, 100);\n    } else if (!root._bokeh_failed_load) {\n      console.log(\"Bokeh: BokehJS failed to load within specified timeout.\");\n      root._bokeh_failed_load = true;\n    } else if (force !== true) {\n      var cell = $(document.getElementById(\"1001\")).parents('.cell').data().cell;\n      cell.output_area.append_execute_result(NB_LOAD_WARNING)\n    }\n\n  }\n\n  if (root._bokeh_is_loading === 0) {\n    console.debug(\"Bokeh: BokehJS loaded, going straight to plotting\");\n    run_inline_js();\n  } else {\n    load_libs(css_urls, js_urls, function() {\n      console.debug(\"Bokeh: BokehJS plotting callback run at\", now());\n      run_inline_js();\n    });\n  }\n}(window));",
      "application/vnd.bokehjs_load.v0+json": "\n(function(root) {\n  function now() {\n    return new Date();\n  }\n\n  var force = true;\n\n  if (typeof root._bokeh_onload_callbacks === \"undefined\" || force === true) {\n    root._bokeh_onload_callbacks = [];\n    root._bokeh_is_loading = undefined;\n  }\n\n  \n\n  \n  if (typeof (root._bokeh_timeout) === \"undefined\" || force === true) {\n    root._bokeh_timeout = Date.now() + 5000;\n    root._bokeh_failed_load = false;\n  }\n\n  var NB_LOAD_WARNING = {'data': {'text/html':\n     \"<div style='background-color: #fdd'>\\n\"+\n     \"<p>\\n\"+\n     \"BokehJS does not appear to have successfully loaded. If loading BokehJS from CDN, this \\n\"+\n     \"may be due to a slow or bad network connection. Possible fixes:\\n\"+\n     \"</p>\\n\"+\n     \"<ul>\\n\"+\n     \"<li>re-rerun `output_notebook()` to attempt to load from CDN again, or</li>\\n\"+\n     \"<li>use INLINE resources instead, as so:</li>\\n\"+\n     \"</ul>\\n\"+\n     \"<code>\\n\"+\n     \"from bokeh.resources import INLINE\\n\"+\n     \"output_notebook(resources=INLINE)\\n\"+\n     \"</code>\\n\"+\n     \"</div>\"}};\n\n  function display_loaded() {\n    var el = document.getElementById(\"1001\");\n    if (el != null) {\n      el.textContent = \"BokehJS is loading...\";\n    }\n    if (root.Bokeh !== undefined) {\n      if (el != null) {\n        el.textContent = \"BokehJS \" + root.Bokeh.version + \" successfully loaded.\";\n      }\n    } else if (Date.now() < root._bokeh_timeout) {\n      setTimeout(display_loaded, 100)\n    }\n  }\n\n\n  function run_callbacks() {\n    try {\n      root._bokeh_onload_callbacks.forEach(function(callback) {\n        if (callback != null)\n          callback();\n      });\n    } finally {\n      delete root._bokeh_onload_callbacks\n    }\n    console.debug(\"Bokeh: all callbacks have finished\");\n  }\n\n  function load_libs(css_urls, js_urls, callback) {\n    if (css_urls == null) css_urls = [];\n    if (js_urls == null) js_urls = [];\n\n    root._bokeh_onload_callbacks.push(callback);\n    if (root._bokeh_is_loading > 0) {\n      console.debug(\"Bokeh: BokehJS is being loaded, scheduling callback at\", now());\n      return null;\n    }\n    if (js_urls == null || js_urls.length === 0) {\n      run_callbacks();\n      return null;\n    }\n    console.debug(\"Bokeh: BokehJS not loaded, scheduling load and callback at\", now());\n    root._bokeh_is_loading = css_urls.length + js_urls.length;\n\n    function on_load() {\n      root._bokeh_is_loading--;\n      if (root._bokeh_is_loading === 0) {\n        console.debug(\"Bokeh: all BokehJS libraries/stylesheets loaded\");\n        run_callbacks()\n      }\n    }\n\n    function on_error() {\n      console.error(\"failed to load \" + url);\n    }\n\n    for (var i = 0; i < css_urls.length; i++) {\n      var url = css_urls[i];\n      const element = document.createElement(\"link\");\n      element.onload = on_load;\n      element.onerror = on_error;\n      element.rel = \"stylesheet\";\n      element.type = \"text/css\";\n      element.href = url;\n      console.debug(\"Bokeh: injecting link tag for BokehJS stylesheet: \", url);\n      document.body.appendChild(element);\n    }\n\n    const hashes = {\"https://cdn.bokeh.org/bokeh/release/bokeh-2.2.0.min.js\": \"jtq3UzIrk2TfDZfSNGEN0ICKrRWmtzZSQm6i1Xnd3hY3UfU9m98vuEL7JUv7Iway\", \"https://cdn.bokeh.org/bokeh/release/bokeh-widgets-2.2.0.min.js\": \"rRlSZb4FImflqQNhKcvkZq8b+FqcNFxP9CmCO8Vgo9uNXe6wk6yNMlKMrXn+TjeM\", \"https://cdn.bokeh.org/bokeh/release/bokeh-tables-2.2.0.min.js\": \"MJyUmyL5f4wPlABPEp4CF5HzMeAPMvzucE8gEGNH15tAWgHFb2hsPNIEkva89XtP\"};\n\n    for (var i = 0; i < js_urls.length; i++) {\n      var url = js_urls[i];\n      var element = document.createElement('script');\n      element.onload = on_load;\n      element.onerror = on_error;\n      element.async = false;\n      element.src = url;\n      if (url in hashes) {\n        element.crossOrigin = \"anonymous\";\n        element.integrity = \"sha384-\" + hashes[url];\n      }\n      console.debug(\"Bokeh: injecting script tag for BokehJS library: \", url);\n      document.head.appendChild(element);\n    }\n  };\n\n  function inject_raw_css(css) {\n    const element = document.createElement(\"style\");\n    element.appendChild(document.createTextNode(css));\n    document.body.appendChild(element);\n  }\n\n  \n  var js_urls = [\"https://cdn.bokeh.org/bokeh/release/bokeh-2.2.0.min.js\", \"https://cdn.bokeh.org/bokeh/release/bokeh-widgets-2.2.0.min.js\", \"https://cdn.bokeh.org/bokeh/release/bokeh-tables-2.2.0.min.js\"];\n  var css_urls = [];\n  \n\n  var inline_js = [\n    function(Bokeh) {\n      Bokeh.set_log_level(\"info\");\n    },\n    function(Bokeh) {\n    \n    \n    }\n  ];\n\n  function run_inline_js() {\n    \n    if (root.Bokeh !== undefined || force === true) {\n      \n    for (var i = 0; i < inline_js.length; i++) {\n      inline_js[i].call(root, root.Bokeh);\n    }\n    if (force === true) {\n        display_loaded();\n      }} else if (Date.now() < root._bokeh_timeout) {\n      setTimeout(run_inline_js, 100);\n    } else if (!root._bokeh_failed_load) {\n      console.log(\"Bokeh: BokehJS failed to load within specified timeout.\");\n      root._bokeh_failed_load = true;\n    } else if (force !== true) {\n      var cell = $(document.getElementById(\"1001\")).parents('.cell').data().cell;\n      cell.output_area.append_execute_result(NB_LOAD_WARNING)\n    }\n\n  }\n\n  if (root._bokeh_is_loading === 0) {\n    console.debug(\"Bokeh: BokehJS loaded, going straight to plotting\");\n    run_inline_js();\n  } else {\n    load_libs(css_urls, js_urls, function() {\n      console.debug(\"Bokeh: BokehJS plotting callback run at\", now());\n      run_inline_js();\n    });\n  }\n}(window));"
     },
     "metadata": {}
    }
   ],
   "source": [
    "from datetime import datetime\n",
    "import numpy as np\n",
    "import pandas as pd\n",
    "import matplotlib.pyplot as plt\n",
    "#import indicators\n",
    "from db import timscale_setup\n",
    "from db import dbscrape\n",
    "from backtesting import Backtest\n",
    "#from backtesting.test import SMA\n",
    "from backtesting import Strategy\n",
    "from backtesting.lib import crossover\n",
    "import ta\n"
   ]
  },
  {
   "cell_type": "code",
   "execution_count": null,
   "metadata": {},
   "outputs": [],
   "source": [
    "import PyAlgoTrade\n",
    "import pandas_datareader\n",
    "import pytz\n",
    "import pyfolio as pf\n",
    "from collections import OrderedDict\n",
    "\n",
    "#quandl.ApiConfig.api_key = \"1dkdmifTyDZVCKaXnKTD\"\n"
   ]
  },
  {
   "cell_type": "code",
   "execution_count": null,
   "metadata": {
    "tags": []
   },
   "outputs": [],
   "source": [
    "print(\"Fetching Data\")\n",
    "data = timscale_setup.get_full_table(\"BANKNIFTY_F1\")\n",
    "data.describe()\n",
    "data.head()"
   ]
  },
  {
   "cell_type": "code",
   "execution_count": null,
   "metadata": {},
   "outputs": [],
   "source": []
  },
  {
   "cell_type": "code",
   "execution_count": 4,
   "metadata": {
    "tags": []
   },
   "outputs": [
    {
     "output_type": "stream",
     "name": "stdout",
     "text": "Fetching using dbscrape\n"
    },
    {
     "output_type": "execute_result",
     "data": {
      "text/plain": "             datetime       internalname      open     high       low  \\\n0 2020-03-27 09:16:00  BANKNIFTY APR FUT  20251.00  20849.9  20251.00   \n1 2020-03-27 09:17:00  BANKNIFTY APR FUT  20742.05  20900.0  20742.05   \n2 2020-03-27 09:18:00  BANKNIFTY APR FUT  20817.60  20819.7  20702.35   \n3 2020-03-27 09:19:00  BANKNIFTY APR FUT  20731.10  20739.7  20613.00   \n4 2020-03-27 09:20:00  BANKNIFTY APR FUT  20635.95  20726.5  20618.15   \n\n      close  volume  unknown          expirydate exchange  \n0  20740.00   56800   731520 2020-04-30 23:59:00      NSE  \n1  20806.10   47140   731520 2020-04-30 23:59:00      NSE  \n2  20734.10   41260   757480 2020-04-30 23:59:00      NSE  \n3  20625.15   24980   757480 2020-04-30 23:59:00      NSE  \n4  20634.60   21920   757480 2020-04-30 23:59:00      NSE  ",
      "text/html": "<div>\n<style scoped>\n    .dataframe tbody tr th:only-of-type {\n        vertical-align: middle;\n    }\n\n    .dataframe tbody tr th {\n        vertical-align: top;\n    }\n\n    .dataframe thead th {\n        text-align: right;\n    }\n</style>\n<table border=\"1\" class=\"dataframe\">\n  <thead>\n    <tr style=\"text-align: right;\">\n      <th></th>\n      <th>datetime</th>\n      <th>internalname</th>\n      <th>open</th>\n      <th>high</th>\n      <th>low</th>\n      <th>close</th>\n      <th>volume</th>\n      <th>unknown</th>\n      <th>expirydate</th>\n      <th>exchange</th>\n    </tr>\n  </thead>\n  <tbody>\n    <tr>\n      <th>0</th>\n      <td>2020-03-27 09:16:00</td>\n      <td>BANKNIFTY APR FUT</td>\n      <td>20251.00</td>\n      <td>20849.9</td>\n      <td>20251.00</td>\n      <td>20740.00</td>\n      <td>56800</td>\n      <td>731520</td>\n      <td>2020-04-30 23:59:00</td>\n      <td>NSE</td>\n    </tr>\n    <tr>\n      <th>1</th>\n      <td>2020-03-27 09:17:00</td>\n      <td>BANKNIFTY APR FUT</td>\n      <td>20742.05</td>\n      <td>20900.0</td>\n      <td>20742.05</td>\n      <td>20806.10</td>\n      <td>47140</td>\n      <td>731520</td>\n      <td>2020-04-30 23:59:00</td>\n      <td>NSE</td>\n    </tr>\n    <tr>\n      <th>2</th>\n      <td>2020-03-27 09:18:00</td>\n      <td>BANKNIFTY APR FUT</td>\n      <td>20817.60</td>\n      <td>20819.7</td>\n      <td>20702.35</td>\n      <td>20734.10</td>\n      <td>41260</td>\n      <td>757480</td>\n      <td>2020-04-30 23:59:00</td>\n      <td>NSE</td>\n    </tr>\n    <tr>\n      <th>3</th>\n      <td>2020-03-27 09:19:00</td>\n      <td>BANKNIFTY APR FUT</td>\n      <td>20731.10</td>\n      <td>20739.7</td>\n      <td>20613.00</td>\n      <td>20625.15</td>\n      <td>24980</td>\n      <td>757480</td>\n      <td>2020-04-30 23:59:00</td>\n      <td>NSE</td>\n    </tr>\n    <tr>\n      <th>4</th>\n      <td>2020-03-27 09:20:00</td>\n      <td>BANKNIFTY APR FUT</td>\n      <td>20635.95</td>\n      <td>20726.5</td>\n      <td>20618.15</td>\n      <td>20634.60</td>\n      <td>21920</td>\n      <td>757480</td>\n      <td>2020-04-30 23:59:00</td>\n      <td>NSE</td>\n    </tr>\n  </tbody>\n</table>\n</div>"
     },
     "metadata": {},
     "execution_count": 4
    }
   ],
   "source": [
    "print(\"Fetching using dbscrape\")\n",
    "banknifty_table = \"BANKNIFTY_F1\"\n",
    "\n",
    "startdate = \"2020-02-02 09:30:00\"\n",
    "enddate = \"2020-02-29 15:30:00\"\n",
    "\n",
    "#data = dbscrape.gettablerange(*(timscale_setup.get_config()), banknifty_table, startdate, enddate)\n",
    "rawdata = dbscrape.expirymonth(*(timscale_setup.get_config()), banknifty_table, 4, 2020)\n",
    "rawdata.head()\n"
   ]
  },
  {
   "cell_type": "code",
   "execution_count": null,
   "metadata": {},
   "outputs": [],
   "source": [
    "data.tail()"
   ]
  },
  {
   "cell_type": "code",
   "execution_count": 5,
   "metadata": {},
   "outputs": [
    {
     "output_type": "execute_result",
     "data": {
      "text/plain": "               open          high           low         close         volume  \\\ncount   7914.000000   7914.000000   7914.000000   7914.000000    7914.000000   \nmean   19628.214114  19649.991521  19607.129069  19628.138331   16757.629644   \nstd      937.283609    936.813407    938.567366    937.644220   13248.512327   \nmin    17097.950000  17120.000000  17075.000000  17097.900000       1.000000   \n25%    19162.112500  19190.000000  19136.162500  19164.150000    8160.000000   \n50%    19589.950000  19610.000000  19570.000000  19588.875000   12680.000000   \n75%    20137.900000  20151.625000  20123.037500  20136.837500   20720.000000   \nmax    21984.700000  21984.850000  21960.400000  21980.900000  130240.000000   \n\n            unknown  \ncount  7.914000e+03  \nmean   1.188380e+06  \nstd    2.580834e+05  \nmin    2.266400e+05  \n25%    1.021960e+06  \n50%    1.213660e+06  \n75%    1.396180e+06  \nmax    1.648400e+06  ",
      "text/html": "<div>\n<style scoped>\n    .dataframe tbody tr th:only-of-type {\n        vertical-align: middle;\n    }\n\n    .dataframe tbody tr th {\n        vertical-align: top;\n    }\n\n    .dataframe thead th {\n        text-align: right;\n    }\n</style>\n<table border=\"1\" class=\"dataframe\">\n  <thead>\n    <tr style=\"text-align: right;\">\n      <th></th>\n      <th>open</th>\n      <th>high</th>\n      <th>low</th>\n      <th>close</th>\n      <th>volume</th>\n      <th>unknown</th>\n    </tr>\n  </thead>\n  <tbody>\n    <tr>\n      <th>count</th>\n      <td>7914.000000</td>\n      <td>7914.000000</td>\n      <td>7914.000000</td>\n      <td>7914.000000</td>\n      <td>7914.000000</td>\n      <td>7.914000e+03</td>\n    </tr>\n    <tr>\n      <th>mean</th>\n      <td>19628.214114</td>\n      <td>19649.991521</td>\n      <td>19607.129069</td>\n      <td>19628.138331</td>\n      <td>16757.629644</td>\n      <td>1.188380e+06</td>\n    </tr>\n    <tr>\n      <th>std</th>\n      <td>937.283609</td>\n      <td>936.813407</td>\n      <td>938.567366</td>\n      <td>937.644220</td>\n      <td>13248.512327</td>\n      <td>2.580834e+05</td>\n    </tr>\n    <tr>\n      <th>min</th>\n      <td>17097.950000</td>\n      <td>17120.000000</td>\n      <td>17075.000000</td>\n      <td>17097.900000</td>\n      <td>1.000000</td>\n      <td>2.266400e+05</td>\n    </tr>\n    <tr>\n      <th>25%</th>\n      <td>19162.112500</td>\n      <td>19190.000000</td>\n      <td>19136.162500</td>\n      <td>19164.150000</td>\n      <td>8160.000000</td>\n      <td>1.021960e+06</td>\n    </tr>\n    <tr>\n      <th>50%</th>\n      <td>19589.950000</td>\n      <td>19610.000000</td>\n      <td>19570.000000</td>\n      <td>19588.875000</td>\n      <td>12680.000000</td>\n      <td>1.213660e+06</td>\n    </tr>\n    <tr>\n      <th>75%</th>\n      <td>20137.900000</td>\n      <td>20151.625000</td>\n      <td>20123.037500</td>\n      <td>20136.837500</td>\n      <td>20720.000000</td>\n      <td>1.396180e+06</td>\n    </tr>\n    <tr>\n      <th>max</th>\n      <td>21984.700000</td>\n      <td>21984.850000</td>\n      <td>21960.400000</td>\n      <td>21980.900000</td>\n      <td>130240.000000</td>\n      <td>1.648400e+06</td>\n    </tr>\n  </tbody>\n</table>\n</div>"
     },
     "metadata": {},
     "execution_count": 5
    }
   ],
   "source": [
    "rawdata.describe()"
   ]
  },
  {
   "cell_type": "code",
   "execution_count": 7,
   "metadata": {},
   "outputs": [
    {
     "output_type": "execute_result",
     "data": {
      "text/plain": "                         Open     High       Low     Close  Volume\n2020-03-27 09:16:00  20251.00  20849.9  20251.00  20740.00   56800\n2020-03-27 09:17:00  20742.05  20900.0  20742.05  20806.10   47140\n2020-03-27 09:18:00  20817.60  20819.7  20702.35  20734.10   41260\n2020-03-27 09:19:00  20731.10  20739.7  20613.00  20625.15   24980\n2020-03-27 09:20:00  20635.95  20726.5  20618.15  20634.60   21920",
      "text/html": "<div>\n<style scoped>\n    .dataframe tbody tr th:only-of-type {\n        vertical-align: middle;\n    }\n\n    .dataframe tbody tr th {\n        vertical-align: top;\n    }\n\n    .dataframe thead th {\n        text-align: right;\n    }\n</style>\n<table border=\"1\" class=\"dataframe\">\n  <thead>\n    <tr style=\"text-align: right;\">\n      <th></th>\n      <th>Open</th>\n      <th>High</th>\n      <th>Low</th>\n      <th>Close</th>\n      <th>Volume</th>\n    </tr>\n  </thead>\n  <tbody>\n    <tr>\n      <th>2020-03-27 09:16:00</th>\n      <td>20251.00</td>\n      <td>20849.9</td>\n      <td>20251.00</td>\n      <td>20740.00</td>\n      <td>56800</td>\n    </tr>\n    <tr>\n      <th>2020-03-27 09:17:00</th>\n      <td>20742.05</td>\n      <td>20900.0</td>\n      <td>20742.05</td>\n      <td>20806.10</td>\n      <td>47140</td>\n    </tr>\n    <tr>\n      <th>2020-03-27 09:18:00</th>\n      <td>20817.60</td>\n      <td>20819.7</td>\n      <td>20702.35</td>\n      <td>20734.10</td>\n      <td>41260</td>\n    </tr>\n    <tr>\n      <th>2020-03-27 09:19:00</th>\n      <td>20731.10</td>\n      <td>20739.7</td>\n      <td>20613.00</td>\n      <td>20625.15</td>\n      <td>24980</td>\n    </tr>\n    <tr>\n      <th>2020-03-27 09:20:00</th>\n      <td>20635.95</td>\n      <td>20726.5</td>\n      <td>20618.15</td>\n      <td>20634.60</td>\n      <td>21920</td>\n    </tr>\n  </tbody>\n</table>\n</div>"
     },
     "metadata": {},
     "execution_count": 7
    }
   ],
   "source": [
    "datetime_index = pd.DatetimeIndex(pd.to_datetime(rawdata[\"datetime\"]).values)\n",
    "data_backtesting = rawdata.set_index(datetime_index)\n",
    "#data_backtesting.drop([\"datetime\", \"internalname\", \"unknown\", \"expirydate\", \"exchange\"], axis=1, inplace=True)\n",
    "data_backtesting.drop([\"datetime\", \"internalname\", \"unknown\", \"expirydate\", \"exchange\"], axis=1, inplace=True)\n",
    "data_backtesting.rename(columns = {'open':'Open', 'high':'High', 'low':'Low', 'close':'Close', 'volume':'Volume'}, inplace = True)\n",
    "\n",
    "data_backtesting.head()"
   ]
  },
  {
   "cell_type": "code",
   "execution_count": 8,
   "metadata": {},
   "outputs": [
    {
     "output_type": "execute_result",
     "data": {
      "text/plain": "2020-03-27 09:16:00             NaN\n2020-03-27 09:17:00             NaN\n2020-03-27 09:18:00             NaN\n2020-03-27 09:19:00             NaN\n2020-03-27 09:20:00             NaN\n                           ...     \n2020-04-30 15:27:00    21558.079761\n2020-04-30 15:28:00    21550.470075\n2020-04-30 15:29:00    21542.249257\n2020-04-30 15:30:00    21541.496941\n2020-04-30 19:28:00    21541.281955\nName: hband, Length: 7914, dtype: float64"
     },
     "metadata": {},
     "execution_count": 8
    }
   ],
   "source": [
    "ta.volatility.bollinger_hband(data_backtesting[\"Close\"], 20, 2)"
   ]
  },
  {
   "cell_type": "code",
   "execution_count": 24,
   "metadata": {},
   "outputs": [
    {
     "output_type": "execute_result",
     "data": {
      "text/plain": "8287"
     },
     "metadata": {},
     "execution_count": 24
    }
   ],
   "source": [
    "len(ta.volatility.bollinger_hband_indicator(data_backtesting[\"Close\"], 20, 2))"
   ]
  },
  {
   "cell_type": "code",
   "execution_count": 11,
   "metadata": {},
   "outputs": [
    {
     "output_type": "display_data",
     "data": {
      "text/plain": "<Figure size 432x288 with 1 Axes>",
      "image/svg+xml": "<?xml version=\"1.0\" encoding=\"utf-8\" standalone=\"no\"?>\r\n<!DOCTYPE svg PUBLIC \"-//W3C//DTD SVG 1.1//EN\"\r\n  \"http://www.w3.org/Graphics/SVG/1.1/DTD/svg11.dtd\">\r\n<!-- Created with matplotlib (https://matplotlib.org/) -->\r\n<svg height=\"252.018125pt\" version=\"1.1\" viewBox=\"0 0 391.5125 252.018125\" width=\"391.5125pt\" xmlns=\"http://www.w3.org/2000/svg\" xmlns:xlink=\"http://www.w3.org/1999/xlink\">\r\n <defs>\r\n  <style type=\"text/css\">\r\n*{stroke-linecap:butt;stroke-linejoin:round;}\r\n  </style>\r\n </defs>\r\n <g id=\"figure_1\">\r\n  <g id=\"patch_1\">\r\n   <path d=\"M 0 252.018125 \r\nL 391.5125 252.018125 \r\nL 391.5125 0 \r\nL 0 0 \r\nz\r\n\" style=\"fill:none;\"/>\r\n  </g>\r\n  <g id=\"axes_1\">\r\n   <g id=\"patch_2\">\r\n    <path d=\"M 46.0125 228.14 \r\nL 380.8125 228.14 \r\nL 380.8125 10.7 \r\nL 46.0125 10.7 \r\nz\r\n\" style=\"fill:#ffffff;\"/>\r\n   </g>\r\n   <g id=\"matplotlib.axis_1\">\r\n    <g id=\"xtick_1\">\r\n     <g id=\"line2d_1\">\r\n      <defs>\r\n       <path d=\"M 0 0 \r\nL 0 3.5 \r\n\" id=\"me7301a0726\" style=\"stroke:#000000;stroke-width:0.8;\"/>\r\n      </defs>\r\n      <g>\r\n       <use style=\"stroke:#000000;stroke-width:0.8;\" x=\"73.528203\" xlink:href=\"#me7301a0726\" y=\"228.14\"/>\r\n      </g>\r\n     </g>\r\n     <g id=\"text_1\">\r\n      <!-- 27 11:00 -->\r\n      <defs>\r\n       <path d=\"M 19.1875 8.296875 \r\nL 53.609375 8.296875 \r\nL 53.609375 0 \r\nL 7.328125 0 \r\nL 7.328125 8.296875 \r\nQ 12.9375 14.109375 22.625 23.890625 \r\nQ 32.328125 33.6875 34.8125 36.53125 \r\nQ 39.546875 41.84375 41.421875 45.53125 \r\nQ 43.3125 49.21875 43.3125 52.78125 \r\nQ 43.3125 58.59375 39.234375 62.25 \r\nQ 35.15625 65.921875 28.609375 65.921875 \r\nQ 23.96875 65.921875 18.8125 64.3125 \r\nQ 13.671875 62.703125 7.8125 59.421875 \r\nL 7.8125 69.390625 \r\nQ 13.765625 71.78125 18.9375 73 \r\nQ 24.125 74.21875 28.421875 74.21875 \r\nQ 39.75 74.21875 46.484375 68.546875 \r\nQ 53.21875 62.890625 53.21875 53.421875 \r\nQ 53.21875 48.921875 51.53125 44.890625 \r\nQ 49.859375 40.875 45.40625 35.40625 \r\nQ 44.1875 33.984375 37.640625 27.21875 \r\nQ 31.109375 20.453125 19.1875 8.296875 \r\nz\r\n\" id=\"DejaVuSans-50\"/>\r\n       <path d=\"M 8.203125 72.90625 \r\nL 55.078125 72.90625 \r\nL 55.078125 68.703125 \r\nL 28.609375 0 \r\nL 18.3125 0 \r\nL 43.21875 64.59375 \r\nL 8.203125 64.59375 \r\nz\r\n\" id=\"DejaVuSans-55\"/>\r\n       <path id=\"DejaVuSans-32\"/>\r\n       <path d=\"M 12.40625 8.296875 \r\nL 28.515625 8.296875 \r\nL 28.515625 63.921875 \r\nL 10.984375 60.40625 \r\nL 10.984375 69.390625 \r\nL 28.421875 72.90625 \r\nL 38.28125 72.90625 \r\nL 38.28125 8.296875 \r\nL 54.390625 8.296875 \r\nL 54.390625 0 \r\nL 12.40625 0 \r\nz\r\n\" id=\"DejaVuSans-49\"/>\r\n       <path d=\"M 11.71875 12.40625 \r\nL 22.015625 12.40625 \r\nL 22.015625 0 \r\nL 11.71875 0 \r\nz\r\nM 11.71875 51.703125 \r\nL 22.015625 51.703125 \r\nL 22.015625 39.3125 \r\nL 11.71875 39.3125 \r\nz\r\n\" id=\"DejaVuSans-58\"/>\r\n       <path d=\"M 31.78125 66.40625 \r\nQ 24.171875 66.40625 20.328125 58.90625 \r\nQ 16.5 51.421875 16.5 36.375 \r\nQ 16.5 21.390625 20.328125 13.890625 \r\nQ 24.171875 6.390625 31.78125 6.390625 \r\nQ 39.453125 6.390625 43.28125 13.890625 \r\nQ 47.125 21.390625 47.125 36.375 \r\nQ 47.125 51.421875 43.28125 58.90625 \r\nQ 39.453125 66.40625 31.78125 66.40625 \r\nz\r\nM 31.78125 74.21875 \r\nQ 44.046875 74.21875 50.515625 64.515625 \r\nQ 56.984375 54.828125 56.984375 36.375 \r\nQ 56.984375 17.96875 50.515625 8.265625 \r\nQ 44.046875 -1.421875 31.78125 -1.421875 \r\nQ 19.53125 -1.421875 13.0625 8.265625 \r\nQ 6.59375 17.96875 6.59375 36.375 \r\nQ 6.59375 54.828125 13.0625 64.515625 \r\nQ 19.53125 74.21875 31.78125 74.21875 \r\nz\r\n\" id=\"DejaVuSans-48\"/>\r\n      </defs>\r\n      <g transform=\"translate(51.167265 242.738437)scale(0.1 -0.1)\">\r\n       <use xlink:href=\"#DejaVuSans-50\"/>\r\n       <use x=\"63.623047\" xlink:href=\"#DejaVuSans-55\"/>\r\n       <use x=\"127.246094\" xlink:href=\"#DejaVuSans-32\"/>\r\n       <use x=\"159.033203\" xlink:href=\"#DejaVuSans-49\"/>\r\n       <use x=\"222.65625\" xlink:href=\"#DejaVuSans-49\"/>\r\n       <use x=\"286.279297\" xlink:href=\"#DejaVuSans-58\"/>\r\n       <use x=\"319.970703\" xlink:href=\"#DejaVuSans-48\"/>\r\n       <use x=\"383.59375\" xlink:href=\"#DejaVuSans-48\"/>\r\n      </g>\r\n     </g>\r\n    </g>\r\n    <g id=\"xtick_2\">\r\n     <g id=\"line2d_2\">\r\n      <g>\r\n       <use style=\"stroke:#000000;stroke-width:0.8;\" x=\"119.643905\" xlink:href=\"#me7301a0726\" y=\"228.14\"/>\r\n      </g>\r\n     </g>\r\n     <g id=\"text_2\">\r\n      <!-- 27 11:15 -->\r\n      <defs>\r\n       <path d=\"M 10.796875 72.90625 \r\nL 49.515625 72.90625 \r\nL 49.515625 64.59375 \r\nL 19.828125 64.59375 \r\nL 19.828125 46.734375 \r\nQ 21.96875 47.46875 24.109375 47.828125 \r\nQ 26.265625 48.1875 28.421875 48.1875 \r\nQ 40.625 48.1875 47.75 41.5 \r\nQ 54.890625 34.8125 54.890625 23.390625 \r\nQ 54.890625 11.625 47.5625 5.09375 \r\nQ 40.234375 -1.421875 26.90625 -1.421875 \r\nQ 22.3125 -1.421875 17.546875 -0.640625 \r\nQ 12.796875 0.140625 7.71875 1.703125 \r\nL 7.71875 11.625 \r\nQ 12.109375 9.234375 16.796875 8.0625 \r\nQ 21.484375 6.890625 26.703125 6.890625 \r\nQ 35.15625 6.890625 40.078125 11.328125 \r\nQ 45.015625 15.765625 45.015625 23.390625 \r\nQ 45.015625 31 40.078125 35.4375 \r\nQ 35.15625 39.890625 26.703125 39.890625 \r\nQ 22.75 39.890625 18.8125 39.015625 \r\nQ 14.890625 38.140625 10.796875 36.28125 \r\nz\r\n\" id=\"DejaVuSans-53\"/>\r\n      </defs>\r\n      <g transform=\"translate(97.282968 242.738437)scale(0.1 -0.1)\">\r\n       <use xlink:href=\"#DejaVuSans-50\"/>\r\n       <use x=\"63.623047\" xlink:href=\"#DejaVuSans-55\"/>\r\n       <use x=\"127.246094\" xlink:href=\"#DejaVuSans-32\"/>\r\n       <use x=\"159.033203\" xlink:href=\"#DejaVuSans-49\"/>\r\n       <use x=\"222.65625\" xlink:href=\"#DejaVuSans-49\"/>\r\n       <use x=\"286.279297\" xlink:href=\"#DejaVuSans-58\"/>\r\n       <use x=\"319.970703\" xlink:href=\"#DejaVuSans-49\"/>\r\n       <use x=\"383.59375\" xlink:href=\"#DejaVuSans-53\"/>\r\n      </g>\r\n     </g>\r\n    </g>\r\n    <g id=\"xtick_3\">\r\n     <g id=\"line2d_3\">\r\n      <g>\r\n       <use style=\"stroke:#000000;stroke-width:0.8;\" x=\"165.759607\" xlink:href=\"#me7301a0726\" y=\"228.14\"/>\r\n      </g>\r\n     </g>\r\n     <g id=\"text_3\">\r\n      <!-- 27 11:30 -->\r\n      <defs>\r\n       <path d=\"M 40.578125 39.3125 \r\nQ 47.65625 37.796875 51.625 33 \r\nQ 55.609375 28.21875 55.609375 21.1875 \r\nQ 55.609375 10.40625 48.1875 4.484375 \r\nQ 40.765625 -1.421875 27.09375 -1.421875 \r\nQ 22.515625 -1.421875 17.65625 -0.515625 \r\nQ 12.796875 0.390625 7.625 2.203125 \r\nL 7.625 11.71875 \r\nQ 11.71875 9.328125 16.59375 8.109375 \r\nQ 21.484375 6.890625 26.8125 6.890625 \r\nQ 36.078125 6.890625 40.9375 10.546875 \r\nQ 45.796875 14.203125 45.796875 21.1875 \r\nQ 45.796875 27.640625 41.28125 31.265625 \r\nQ 36.765625 34.90625 28.71875 34.90625 \r\nL 20.21875 34.90625 \r\nL 20.21875 43.015625 \r\nL 29.109375 43.015625 \r\nQ 36.375 43.015625 40.234375 45.921875 \r\nQ 44.09375 48.828125 44.09375 54.296875 \r\nQ 44.09375 59.90625 40.109375 62.90625 \r\nQ 36.140625 65.921875 28.71875 65.921875 \r\nQ 24.65625 65.921875 20.015625 65.03125 \r\nQ 15.375 64.15625 9.8125 62.3125 \r\nL 9.8125 71.09375 \r\nQ 15.4375 72.65625 20.34375 73.4375 \r\nQ 25.25 74.21875 29.59375 74.21875 \r\nQ 40.828125 74.21875 47.359375 69.109375 \r\nQ 53.90625 64.015625 53.90625 55.328125 \r\nQ 53.90625 49.265625 50.4375 45.09375 \r\nQ 46.96875 40.921875 40.578125 39.3125 \r\nz\r\n\" id=\"DejaVuSans-51\"/>\r\n      </defs>\r\n      <g transform=\"translate(143.39867 242.738437)scale(0.1 -0.1)\">\r\n       <use xlink:href=\"#DejaVuSans-50\"/>\r\n       <use x=\"63.623047\" xlink:href=\"#DejaVuSans-55\"/>\r\n       <use x=\"127.246094\" xlink:href=\"#DejaVuSans-32\"/>\r\n       <use x=\"159.033203\" xlink:href=\"#DejaVuSans-49\"/>\r\n       <use x=\"222.65625\" xlink:href=\"#DejaVuSans-49\"/>\r\n       <use x=\"286.279297\" xlink:href=\"#DejaVuSans-58\"/>\r\n       <use x=\"319.970703\" xlink:href=\"#DejaVuSans-51\"/>\r\n       <use x=\"383.59375\" xlink:href=\"#DejaVuSans-48\"/>\r\n      </g>\r\n     </g>\r\n    </g>\r\n    <g id=\"xtick_4\">\r\n     <g id=\"line2d_4\">\r\n      <g>\r\n       <use style=\"stroke:#000000;stroke-width:0.8;\" x=\"211.87531\" xlink:href=\"#me7301a0726\" y=\"228.14\"/>\r\n      </g>\r\n     </g>\r\n     <g id=\"text_4\">\r\n      <!-- 27 11:45 -->\r\n      <defs>\r\n       <path d=\"M 37.796875 64.3125 \r\nL 12.890625 25.390625 \r\nL 37.796875 25.390625 \r\nz\r\nM 35.203125 72.90625 \r\nL 47.609375 72.90625 \r\nL 47.609375 25.390625 \r\nL 58.015625 25.390625 \r\nL 58.015625 17.1875 \r\nL 47.609375 17.1875 \r\nL 47.609375 0 \r\nL 37.796875 0 \r\nL 37.796875 17.1875 \r\nL 4.890625 17.1875 \r\nL 4.890625 26.703125 \r\nz\r\n\" id=\"DejaVuSans-52\"/>\r\n      </defs>\r\n      <g transform=\"translate(189.514373 242.738437)scale(0.1 -0.1)\">\r\n       <use xlink:href=\"#DejaVuSans-50\"/>\r\n       <use x=\"63.623047\" xlink:href=\"#DejaVuSans-55\"/>\r\n       <use x=\"127.246094\" xlink:href=\"#DejaVuSans-32\"/>\r\n       <use x=\"159.033203\" xlink:href=\"#DejaVuSans-49\"/>\r\n       <use x=\"222.65625\" xlink:href=\"#DejaVuSans-49\"/>\r\n       <use x=\"286.279297\" xlink:href=\"#DejaVuSans-58\"/>\r\n       <use x=\"319.970703\" xlink:href=\"#DejaVuSans-52\"/>\r\n       <use x=\"383.59375\" xlink:href=\"#DejaVuSans-53\"/>\r\n      </g>\r\n     </g>\r\n    </g>\r\n    <g id=\"xtick_5\">\r\n     <g id=\"line2d_5\">\r\n      <g>\r\n       <use style=\"stroke:#000000;stroke-width:0.8;\" x=\"257.991013\" xlink:href=\"#me7301a0726\" y=\"228.14\"/>\r\n      </g>\r\n     </g>\r\n     <g id=\"text_5\">\r\n      <!-- 27 12:00 -->\r\n      <g transform=\"translate(235.630075 242.738437)scale(0.1 -0.1)\">\r\n       <use xlink:href=\"#DejaVuSans-50\"/>\r\n       <use x=\"63.623047\" xlink:href=\"#DejaVuSans-55\"/>\r\n       <use x=\"127.246094\" xlink:href=\"#DejaVuSans-32\"/>\r\n       <use x=\"159.033203\" xlink:href=\"#DejaVuSans-49\"/>\r\n       <use x=\"222.65625\" xlink:href=\"#DejaVuSans-50\"/>\r\n       <use x=\"286.279297\" xlink:href=\"#DejaVuSans-58\"/>\r\n       <use x=\"319.970703\" xlink:href=\"#DejaVuSans-48\"/>\r\n       <use x=\"383.59375\" xlink:href=\"#DejaVuSans-48\"/>\r\n      </g>\r\n     </g>\r\n    </g>\r\n    <g id=\"xtick_6\">\r\n     <g id=\"line2d_6\">\r\n      <g>\r\n       <use style=\"stroke:#000000;stroke-width:0.8;\" x=\"304.106715\" xlink:href=\"#me7301a0726\" y=\"228.14\"/>\r\n      </g>\r\n     </g>\r\n     <g id=\"text_6\">\r\n      <!-- 27 12:15 -->\r\n      <g transform=\"translate(281.745778 242.738437)scale(0.1 -0.1)\">\r\n       <use xlink:href=\"#DejaVuSans-50\"/>\r\n       <use x=\"63.623047\" xlink:href=\"#DejaVuSans-55\"/>\r\n       <use x=\"127.246094\" xlink:href=\"#DejaVuSans-32\"/>\r\n       <use x=\"159.033203\" xlink:href=\"#DejaVuSans-49\"/>\r\n       <use x=\"222.65625\" xlink:href=\"#DejaVuSans-50\"/>\r\n       <use x=\"286.279297\" xlink:href=\"#DejaVuSans-58\"/>\r\n       <use x=\"319.970703\" xlink:href=\"#DejaVuSans-49\"/>\r\n       <use x=\"383.59375\" xlink:href=\"#DejaVuSans-53\"/>\r\n      </g>\r\n     </g>\r\n    </g>\r\n    <g id=\"xtick_7\">\r\n     <g id=\"line2d_7\">\r\n      <g>\r\n       <use style=\"stroke:#000000;stroke-width:0.8;\" x=\"350.222418\" xlink:href=\"#me7301a0726\" y=\"228.14\"/>\r\n      </g>\r\n     </g>\r\n     <g id=\"text_7\">\r\n      <!-- 27 12:30 -->\r\n      <g transform=\"translate(327.86148 242.738437)scale(0.1 -0.1)\">\r\n       <use xlink:href=\"#DejaVuSans-50\"/>\r\n       <use x=\"63.623047\" xlink:href=\"#DejaVuSans-55\"/>\r\n       <use x=\"127.246094\" xlink:href=\"#DejaVuSans-32\"/>\r\n       <use x=\"159.033203\" xlink:href=\"#DejaVuSans-49\"/>\r\n       <use x=\"222.65625\" xlink:href=\"#DejaVuSans-50\"/>\r\n       <use x=\"286.279297\" xlink:href=\"#DejaVuSans-58\"/>\r\n       <use x=\"319.970703\" xlink:href=\"#DejaVuSans-51\"/>\r\n       <use x=\"383.59375\" xlink:href=\"#DejaVuSans-48\"/>\r\n      </g>\r\n     </g>\r\n    </g>\r\n   </g>\r\n   <g id=\"matplotlib.axis_2\">\r\n    <g id=\"ytick_1\">\r\n     <g id=\"line2d_8\">\r\n      <defs>\r\n       <path d=\"M 0 0 \r\nL -3.5 0 \r\n\" id=\"ma4164f9203\" style=\"stroke:#000000;stroke-width:0.8;\"/>\r\n      </defs>\r\n      <g>\r\n       <use style=\"stroke:#000000;stroke-width:0.8;\" x=\"46.0125\" xlink:href=\"#ma4164f9203\" y=\"218.256364\"/>\r\n      </g>\r\n     </g>\r\n     <g id=\"text_8\">\r\n      <!-- 0 -->\r\n      <g transform=\"translate(32.65 222.055582)scale(0.1 -0.1)\">\r\n       <use xlink:href=\"#DejaVuSans-48\"/>\r\n      </g>\r\n     </g>\r\n    </g>\r\n    <g id=\"ytick_2\">\r\n     <g id=\"line2d_9\">\r\n      <g>\r\n       <use style=\"stroke:#000000;stroke-width:0.8;\" x=\"46.0125\" xlink:href=\"#ma4164f9203\" y=\"193.802446\"/>\r\n      </g>\r\n     </g>\r\n     <g id=\"text_9\">\r\n      <!-- 2500 -->\r\n      <g transform=\"translate(13.5625 197.601665)scale(0.1 -0.1)\">\r\n       <use xlink:href=\"#DejaVuSans-50\"/>\r\n       <use x=\"63.623047\" xlink:href=\"#DejaVuSans-53\"/>\r\n       <use x=\"127.246094\" xlink:href=\"#DejaVuSans-48\"/>\r\n       <use x=\"190.869141\" xlink:href=\"#DejaVuSans-48\"/>\r\n      </g>\r\n     </g>\r\n    </g>\r\n    <g id=\"ytick_3\">\r\n     <g id=\"line2d_10\">\r\n      <g>\r\n       <use style=\"stroke:#000000;stroke-width:0.8;\" x=\"46.0125\" xlink:href=\"#ma4164f9203\" y=\"169.348529\"/>\r\n      </g>\r\n     </g>\r\n     <g id=\"text_10\">\r\n      <!-- 5000 -->\r\n      <g transform=\"translate(13.5625 173.147748)scale(0.1 -0.1)\">\r\n       <use xlink:href=\"#DejaVuSans-53\"/>\r\n       <use x=\"63.623047\" xlink:href=\"#DejaVuSans-48\"/>\r\n       <use x=\"127.246094\" xlink:href=\"#DejaVuSans-48\"/>\r\n       <use x=\"190.869141\" xlink:href=\"#DejaVuSans-48\"/>\r\n      </g>\r\n     </g>\r\n    </g>\r\n    <g id=\"ytick_4\">\r\n     <g id=\"line2d_11\">\r\n      <g>\r\n       <use style=\"stroke:#000000;stroke-width:0.8;\" x=\"46.0125\" xlink:href=\"#ma4164f9203\" y=\"144.894612\"/>\r\n      </g>\r\n     </g>\r\n     <g id=\"text_11\">\r\n      <!-- 7500 -->\r\n      <g transform=\"translate(13.5625 148.69383)scale(0.1 -0.1)\">\r\n       <use xlink:href=\"#DejaVuSans-55\"/>\r\n       <use x=\"63.623047\" xlink:href=\"#DejaVuSans-53\"/>\r\n       <use x=\"127.246094\" xlink:href=\"#DejaVuSans-48\"/>\r\n       <use x=\"190.869141\" xlink:href=\"#DejaVuSans-48\"/>\r\n      </g>\r\n     </g>\r\n    </g>\r\n    <g id=\"ytick_5\">\r\n     <g id=\"line2d_12\">\r\n      <g>\r\n       <use style=\"stroke:#000000;stroke-width:0.8;\" x=\"46.0125\" xlink:href=\"#ma4164f9203\" y=\"120.440694\"/>\r\n      </g>\r\n     </g>\r\n     <g id=\"text_12\">\r\n      <!-- 10000 -->\r\n      <g transform=\"translate(7.2 124.239913)scale(0.1 -0.1)\">\r\n       <use xlink:href=\"#DejaVuSans-49\"/>\r\n       <use x=\"63.623047\" xlink:href=\"#DejaVuSans-48\"/>\r\n       <use x=\"127.246094\" xlink:href=\"#DejaVuSans-48\"/>\r\n       <use x=\"190.869141\" xlink:href=\"#DejaVuSans-48\"/>\r\n       <use x=\"254.492188\" xlink:href=\"#DejaVuSans-48\"/>\r\n      </g>\r\n     </g>\r\n    </g>\r\n    <g id=\"ytick_6\">\r\n     <g id=\"line2d_13\">\r\n      <g>\r\n       <use style=\"stroke:#000000;stroke-width:0.8;\" x=\"46.0125\" xlink:href=\"#ma4164f9203\" y=\"95.986777\"/>\r\n      </g>\r\n     </g>\r\n     <g id=\"text_13\">\r\n      <!-- 12500 -->\r\n      <g transform=\"translate(7.2 99.785996)scale(0.1 -0.1)\">\r\n       <use xlink:href=\"#DejaVuSans-49\"/>\r\n       <use x=\"63.623047\" xlink:href=\"#DejaVuSans-50\"/>\r\n       <use x=\"127.246094\" xlink:href=\"#DejaVuSans-53\"/>\r\n       <use x=\"190.869141\" xlink:href=\"#DejaVuSans-48\"/>\r\n       <use x=\"254.492188\" xlink:href=\"#DejaVuSans-48\"/>\r\n      </g>\r\n     </g>\r\n    </g>\r\n    <g id=\"ytick_7\">\r\n     <g id=\"line2d_14\">\r\n      <g>\r\n       <use style=\"stroke:#000000;stroke-width:0.8;\" x=\"46.0125\" xlink:href=\"#ma4164f9203\" y=\"71.53286\"/>\r\n      </g>\r\n     </g>\r\n     <g id=\"text_14\">\r\n      <!-- 15000 -->\r\n      <g transform=\"translate(7.2 75.332078)scale(0.1 -0.1)\">\r\n       <use xlink:href=\"#DejaVuSans-49\"/>\r\n       <use x=\"63.623047\" xlink:href=\"#DejaVuSans-53\"/>\r\n       <use x=\"127.246094\" xlink:href=\"#DejaVuSans-48\"/>\r\n       <use x=\"190.869141\" xlink:href=\"#DejaVuSans-48\"/>\r\n       <use x=\"254.492188\" xlink:href=\"#DejaVuSans-48\"/>\r\n      </g>\r\n     </g>\r\n    </g>\r\n    <g id=\"ytick_8\">\r\n     <g id=\"line2d_15\">\r\n      <g>\r\n       <use style=\"stroke:#000000;stroke-width:0.8;\" x=\"46.0125\" xlink:href=\"#ma4164f9203\" y=\"47.078942\"/>\r\n      </g>\r\n     </g>\r\n     <g id=\"text_15\">\r\n      <!-- 17500 -->\r\n      <g transform=\"translate(7.2 50.878161)scale(0.1 -0.1)\">\r\n       <use xlink:href=\"#DejaVuSans-49\"/>\r\n       <use x=\"63.623047\" xlink:href=\"#DejaVuSans-55\"/>\r\n       <use x=\"127.246094\" xlink:href=\"#DejaVuSans-53\"/>\r\n       <use x=\"190.869141\" xlink:href=\"#DejaVuSans-48\"/>\r\n       <use x=\"254.492188\" xlink:href=\"#DejaVuSans-48\"/>\r\n      </g>\r\n     </g>\r\n    </g>\r\n    <g id=\"ytick_9\">\r\n     <g id=\"line2d_16\">\r\n      <g>\r\n       <use style=\"stroke:#000000;stroke-width:0.8;\" x=\"46.0125\" xlink:href=\"#ma4164f9203\" y=\"22.625025\"/>\r\n      </g>\r\n     </g>\r\n     <g id=\"text_16\">\r\n      <!-- 20000 -->\r\n      <g transform=\"translate(7.2 26.424244)scale(0.1 -0.1)\">\r\n       <use xlink:href=\"#DejaVuSans-50\"/>\r\n       <use x=\"63.623047\" xlink:href=\"#DejaVuSans-48\"/>\r\n       <use x=\"127.246094\" xlink:href=\"#DejaVuSans-48\"/>\r\n       <use x=\"190.869141\" xlink:href=\"#DejaVuSans-48\"/>\r\n       <use x=\"254.492188\" xlink:href=\"#DejaVuSans-48\"/>\r\n      </g>\r\n     </g>\r\n    </g>\r\n   </g>\r\n   <g id=\"line2d_17\">\r\n    <path clip-path=\"url(#p20f431815c)\" d=\"M 61.230682 218.256364 \r\nL 64.305062 218.256364 \r\nL 67.379442 218.256364 \r\nL 70.453822 218.256364 \r\nL 73.528203 218.256364 \r\nL 76.602583 218.256364 \r\nL 79.676963 218.256364 \r\nL 82.751343 218.256364 \r\nL 85.825723 218.256364 \r\nL 88.900103 218.256364 \r\nL 91.974483 218.256364 \r\nL 95.048864 218.256364 \r\nL 98.123244 218.256364 \r\nL 101.197624 218.256364 \r\nL 104.272004 218.256364 \r\nL 107.346385 218.256364 \r\nL 110.420764 218.256364 \r\nL 113.495144 218.256364 \r\nL 116.569525 218.256364 \r\nL 119.643905 218.256364 \r\nL 122.718285 218.256364 \r\nL 125.792665 218.256364 \r\nL 128.867045 218.256364 \r\nL 131.941425 218.256364 \r\nL 135.015806 218.256364 \r\nL 138.090186 218.256364 \r\nL 141.164566 218.256364 \r\nL 144.238946 218.256364 \r\nL 147.313326 218.256364 \r\nL 150.387707 218.256364 \r\nL 153.462087 218.256364 \r\nL 156.536467 218.256364 \r\nL 159.610847 218.246582 \r\nL 162.685227 218.256364 \r\nL 165.759607 218.256364 \r\nL 168.833988 218.256364 \r\nL 171.908368 218.256364 \r\nL 174.982748 218.256364 \r\nL 178.057128 218.256364 \r\nL 181.131508 218.256364 \r\nL 184.205888 218.256364 \r\nL 187.280269 218.256364 \r\nL 190.354649 218.256364 \r\nL 193.429029 218.256364 \r\nL 196.503409 218.256364 \r\nL 199.577789 218.256364 \r\nL 202.65217 218.256364 \r\nL 205.72655 218.256364 \r\nL 208.80093 218.256364 \r\nL 211.87531 218.256364 \r\nL 214.94969 218.256364 \r\nL 218.02407 218.256364 \r\nL 221.098451 218.256364 \r\nL 224.172831 218.256364 \r\nL 227.247211 218.256364 \r\nL 230.321591 218.256364 \r\nL 233.395971 218.256364 \r\nL 236.470352 218.256364 \r\nL 239.544732 218.256364 \r\nL 242.619112 218.256364 \r\nL 245.693492 218.256364 \r\nL 248.767872 218.246582 \r\nL 251.842252 218.246582 \r\nL 254.916633 218.246582 \r\nL 257.991013 218.246582 \r\nL 261.065392 218.246582 \r\nL 264.139773 218.256364 \r\nL 267.214153 218.256364 \r\nL 270.288533 218.256364 \r\nL 273.362914 218.256364 \r\nL 276.437294 218.256364 \r\nL 279.511673 218.256364 \r\nL 282.586054 218.256364 \r\nL 285.660434 218.256364 \r\nL 288.734815 218.256364 \r\nL 291.809195 218.256364 \r\nL 294.883574 218.256364 \r\nL 297.957955 218.256364 \r\nL 301.032335 218.256364 \r\nL 304.106715 218.256364 \r\nL 307.181096 218.256364 \r\nL 310.255476 218.256364 \r\nL 313.329855 218.256364 \r\nL 316.404236 218.256364 \r\nL 319.478616 218.256364 \r\nL 322.552996 218.256364 \r\nL 325.627377 218.256364 \r\nL 328.701756 218.256364 \r\nL 331.776137 218.256364 \r\nL 334.850517 218.256364 \r\nL 337.924897 218.256364 \r\nL 340.999278 218.256364 \r\nL 344.073658 218.256364 \r\nL 347.148037 218.256364 \r\nL 350.222418 218.256364 \r\nL 353.296798 218.256364 \r\nL 356.371178 218.256364 \r\nL 359.445559 218.256364 \r\nL 362.519938 218.256364 \r\nL 365.594318 218.256364 \r\n\" style=\"fill:none;stroke:#1f77b4;stroke-linecap:square;stroke-width:1.5;\"/>\r\n   </g>\r\n   <g id=\"line2d_18\">\r\n    <path clip-path=\"url(#p20f431815c)\" d=\"M 119.643905 23.532608 \r\nL 122.718285 23.689944 \r\nL 125.792665 23.869876 \r\nL 128.867045 24.006158 \r\nL 131.941425 24.116885 \r\nL 135.015806 24.167456 \r\nL 138.090186 24.294567 \r\nL 141.164566 24.346238 \r\nL 144.238946 24.395953 \r\nL 147.313326 24.43997 \r\nL 150.387707 24.590826 \r\nL 153.462087 24.70686 \r\nL 156.536467 24.744275 \r\nL 159.610847 24.66321 \r\nL 162.685227 24.591438 \r\nL 165.759607 24.567522 \r\nL 168.833988 24.495896 \r\nL 171.908368 24.409452 \r\nL 174.982748 24.225632 \r\nL 178.057128 24.055775 \r\nL 181.131508 23.866917 \r\nL 184.205888 23.758978 \r\nL 187.280269 23.617658 \r\nL 190.354649 23.438436 \r\nL 193.429029 23.323453 \r\nL 196.503409 23.170396 \r\nL 199.577789 23.020543 \r\nL 202.65217 22.958356 \r\nL 205.72655 22.901305 \r\nL 208.80093 22.922482 \r\nL 211.87531 22.860369 \r\nL 214.94969 22.770086 \r\nL 218.02407 22.748493 \r\nL 221.098451 22.863206 \r\nL 224.172831 22.952267 \r\nL 227.247211 23.004696 \r\nL 230.321591 23.066467 \r\nL 233.395971 23.089136 \r\nL 236.470352 23.141883 \r\nL 239.544732 23.171643 \r\nL 242.619112 23.166019 \r\nL 245.693492 23.14291 \r\nL 248.767872 23.022548 \r\nL 251.842252 22.904264 \r\nL 254.916633 22.762065 \r\nL 257.991013 22.607491 \r\nL 261.065392 22.436999 \r\nL 264.139773 22.259072 \r\nL 267.214153 22.068503 \r\nL 270.288533 21.890747 \r\nL 273.362914 21.746445 \r\nL 276.437294 21.638798 \r\nL 279.511673 21.548172 \r\nL 282.586054 21.412331 \r\nL 285.660434 21.301065 \r\nL 288.734815 21.142139 \r\nL 291.809195 20.980817 \r\nL 294.883574 20.870359 \r\nL 297.957955 20.727499 \r\nL 301.032335 20.618532 \r\nL 304.106715 20.58481 \r\nL 307.181096 20.583636 \r\nL 310.255476 20.658294 \r\nL 313.329855 20.790052 \r\nL 316.404236 20.874809 \r\nL 319.478616 20.988422 \r\nL 322.552996 21.118297 \r\nL 325.627377 21.236874 \r\nL 328.701756 21.34342 \r\nL 331.776137 21.436051 \r\nL 334.850517 21.538782 \r\nL 337.924897 21.608451 \r\nL 340.999278 21.624322 \r\nL 344.073658 21.626009 \r\nL 347.148037 21.614516 \r\nL 350.222418 21.64298 \r\nL 353.296798 21.703455 \r\nL 356.371178 21.755468 \r\nL 359.445559 21.883484 \r\nL 362.519938 22.020989 \r\nL 365.594318 22.108142 \r\n\" style=\"fill:none;stroke:#ff7f0e;stroke-linecap:square;stroke-width:1.5;\"/>\r\n   </g>\r\n   <g id=\"patch_3\">\r\n    <path d=\"M 46.0125 228.14 \r\nL 46.0125 10.7 \r\n\" style=\"fill:none;stroke:#000000;stroke-linecap:square;stroke-linejoin:miter;stroke-width:0.8;\"/>\r\n   </g>\r\n   <g id=\"patch_4\">\r\n    <path d=\"M 380.8125 228.14 \r\nL 380.8125 10.7 \r\n\" style=\"fill:none;stroke:#000000;stroke-linecap:square;stroke-linejoin:miter;stroke-width:0.8;\"/>\r\n   </g>\r\n   <g id=\"patch_5\">\r\n    <path d=\"M 46.0125 228.14 \r\nL 380.8125 228.14 \r\n\" style=\"fill:none;stroke:#000000;stroke-linecap:square;stroke-linejoin:miter;stroke-width:0.8;\"/>\r\n   </g>\r\n   <g id=\"patch_6\">\r\n    <path d=\"M 46.0125 10.7 \r\nL 380.8125 10.7 \r\n\" style=\"fill:none;stroke:#000000;stroke-linecap:square;stroke-linejoin:miter;stroke-width:0.8;\"/>\r\n   </g>\r\n  </g>\r\n </g>\r\n <defs>\r\n  <clipPath id=\"p20f431815c\">\r\n   <rect height=\"217.44\" width=\"334.8\" x=\"46.0125\" y=\"10.7\"/>\r\n  </clipPath>\r\n </defs>\r\n</svg>\r\n",
      "image/png": "[encoded data removed]"
     },
     "metadata": {
      "needs_background": "light"
     }
    }
   ],
   "source": [
    "#plt.plot(data_backtesting.index[100:200], ta.volatility.bollinger_hband_indicator(data_backtesting[\"Close\"][100:200], 20, 2))\n",
    "#plt.plot(data_backtesting.index[100:200], ta.volatility.bollinger_lband(data_backtesting[\"Close\"][100:200], 20, 2))\n",
    "plt.plot(data_backtesting.index[100:200], ta.volatility.bollinger_mavg(data_backtesting[\"Close\"][100:200], 20))\n",
    "#plt.plot(data_backtesting.index[100:200], data_backtesting[\"Close\"][100:200], 20))\n",
    "\n",
    "#plt.plot(data_backtesting.index[100:200], ta.volume.volume_weighted_average_price(data_backtesting[\"High\"][100:200],data_backtesting[\"Low\"][100:200],data_backtesting[\"Close\"][100:200], data_backtesting[\"Volume\"][100:200], 14))\n",
    "plt.show()"
   ]
  },
  {
   "cell_type": "code",
   "execution_count": 5,
   "metadata": {},
   "outputs": [],
   "source": [
    "\n",
    "def SMA(values, n):\n",
    "    \"\"\"\n",
    "    Return simple moving average of `values`, at\n",
    "    each step taking into account `n` previous values.\n",
    "    \"\"\"\n",
    "    return pd.Series(values).rolling(n).mean()\n",
    "\n",
    "class SmaCross(Strategy):\n",
    "    # Define the two MA lags as *class variables*\n",
    "    # for later optimization\n",
    "    n1 = 13\n",
    "    n2 = 32\n",
    "    \n",
    "    def init(self):\n",
    "        # Precompute the two moving averages\n",
    "        self.sma1 = self.I(SMA, self.data.Close, self.n1)\n",
    "        self.sma2 = self.I(SMA, self.data.Close, self.n2)\n",
    "    \n",
    "    def next(self):\n",
    "        # If sma1 crosses above sma2, close any existing\n",
    "        # short trades, and buy the asset\n",
    "        if crossover(self.sma1, self.sma2):\n",
    "            self.position.close()\n",
    "            self.buy()\n",
    "\n",
    "        # Else, if sma1 crosses below sma2, close any existing\n",
    "        # long trades, and sell the asset\n",
    "        elif crossover(self.sma2, self.sma1):\n",
    "            self.position.close()\n",
    "            self.sell()\n",
    "\n"
   ]
  },
  {
   "cell_type": "code",
   "execution_count": null,
   "metadata": {},
   "outputs": [],
   "source": [
    "class SmaCrossSignalTrail(SignalStrategy,\n",
    "               TrailingStrategy):\n",
    "    n1 = 10\n",
    "    n2 = 25\n",
    "    \n",
    "    def init(self):\n",
    "        # In init() and in next() it is important to call the\n",
    "        # super method to properly initialize the parent classes\n",
    "        super().init()\n",
    "        \n",
    "        # Precompute the two moving averages\n",
    "        sma1 = self.I(SMA, self.data.Close, self.n1)\n",
    "        sma2 = self.I(SMA, self.data.Close, self.n2)\n",
    "        \n",
    "        # Where sma1 crosses sma2 upwards. Diff gives us [-1,0, *1*]\n",
    "        signal = (pd.Series(sma1) > sma2).astype(int).diff().fillna(0)\n",
    "        signal = signal.replace(-1, 0)  # Upwards/long only\n",
    "        \n",
    "        # Use 95% of available liquidity (at the time) on each order.\n",
    "        # (Leaving a value of 1. would instead buy a single share.)\n",
    "        entry_size = signal * .95\n",
    "                \n",
    "        # Set order entry sizes using the method provided by \n",
    "        # `SignalStrategy`. See the docs.\n",
    "        self.set_signal(entry_size=entry_size)\n",
    "        \n",
    "        # Set trailing stop-loss to 2x ATR using\n",
    "        # the method provided by `TrailingStrategy`\n",
    "        self.set_trailing_sl(2)\n"
   ]
  },
  {
   "cell_type": "code",
   "execution_count": null,
   "metadata": {},
   "outputs": [],
   "source": [
    "from backtesting.test import GOOG\n",
    "\n",
    "GOOG.head()"
   ]
  },
  {
   "cell_type": "code",
   "execution_count": null,
   "metadata": {},
   "outputs": [],
   "source": [
    "\n",
    "bt = Backtest(GOOG, SmaCross, cash=10000, commission=.002)\n",
    "stats = bt.run()\n",
    "stats"
   ]
  },
  {
   "cell_type": "code",
   "execution_count": 6,
   "metadata": {
    "tags": []
   },
   "outputs": [
    {
     "output_type": "stream",
     "name": "stdout",
     "text": "Start                     2020-01-01 09:16:00\nEnd                       2020-01-30 19:10:00\nDuration                     29 days 09:54:00\nExposure Time [%]                     99.0226\nEquity Final [$]                      59647.8\nEquity Peak [$]                        100000\nReturn [%]                           -40.3522\nBuy & Hold Return [%]                 5.57261\nMax. Drawdown [%]                    -40.3661\nAvg. Drawdown [%]                    -40.3661\nMax. Drawdown Duration       29 days 08:37:00\nAvg. Drawdown Duration       29 days 08:37:00\n# Trades                                  301\nWin Rate [%]                          12.6246\nBest Trade [%]                       0.864226\nWorst Trade [%]                       -1.8407\nAvg. Trade [%]                      -0.216793\nMax. Trade Duration           2 days 18:39:00\nAvg. Trade Duration           0 days 02:20:00\nProfit Factor                        0.120486\nExpectancy [%]                       0.275713\nSQN                                  -13.5343\nSharpe Ratio                        -0.792033\nSortino Ratio                        -1.02361\nCalmar Ratio                      -0.00537068\n_strategy                            SmaCross\n_equity_curve                             ...\n_trades                        Size  Entry...\ndtype: object\n"
    }
   ],
   "source": [
    "bt_banknifty = Backtest(data_backtesting, SmaCross, cash=100000, commission=.002)\n",
    "banknifty_stats = bt_banknifty.run()\n",
    "\n",
    "print(banknifty_stats)"
   ]
  },
  {
   "cell_type": "code",
   "execution_count": 8,
   "metadata": {},
   "outputs": [
    {
     "output_type": "execute_result",
     "data": {
      "text/plain": "-40.352237700000146"
     },
     "metadata": {},
     "execution_count": 8
    }
   ],
   "source": [
    "banknifty_stats[\"Return [%]\"]"
   ]
  },
  {
   "cell_type": "code",
   "execution_count": null,
   "metadata": {},
   "outputs": [],
   "source": [
    "\n",
    "bt_banknifty.plot()"
   ]
  },
  {
   "cell_type": "code",
   "execution_count": null,
   "metadata": {},
   "outputs": [],
   "source": [
    "bt.plot()"
   ]
  },
  {
   "cell_type": "code",
   "execution_count": null,
   "metadata": {
    "tags": []
   },
   "outputs": [],
   "source": [
    "%%time\n",
    "\n",
    "stats = bt_banknifty.optimize(n1=range(8, 15, 1),\n",
    "                    n2=range(20, 35, 1),\n",
    "                    maximize='Equity Final [$]',\n",
    "                    constraint=lambda param: param.n1 < param.n2)\n",
    "print(stats)"
   ]
  },
  {
   "cell_type": "code",
   "execution_count": null,
   "metadata": {
    "tags": []
   },
   "outputs": [],
   "source": [
    "print(stats._strategy)\n",
    "stats.tail()"
   ]
  },
  {
   "cell_type": "code",
   "execution_count": null,
   "metadata": {},
   "outputs": [],
   "source": [
    "bt_banknifty.plot(plot_volume=False, plot_pl=False)"
   ]
  },
  {
   "cell_type": "code",
   "execution_count": null,
   "metadata": {},
   "outputs": [],
   "source": [
    "bt_banknifty._strategy.__name__"
   ]
  },
  {
   "cell_type": "code",
   "execution_count": null,
   "metadata": {},
   "outputs": [],
   "source": []
  }
 ],
 "metadata": {
  "kernelspec": {
   "display_name": "Python 3",
   "language": "python",
   "name": "python3"
  },
  "language_info": {
   "codemirror_mode": {
    "name": "ipython",
    "version": 3
   },
   "file_extension": ".py",
   "mimetype": "text/x-python",
   "name": "python",
   "nbconvert_exporter": "python",
   "pygments_lexer": "ipython3",
   "version": "3.6.7-final"
  },
  "toc": {
   "base_numbering": 1,
   "nav_menu": {},
   "number_sections": true,
   "sideBar": true,
   "skip_h1_title": false,
   "title_cell": "Table of Contents",
   "title_sidebar": "Contents",
   "toc_cell": false,
   "toc_position": {},
   "toc_section_display": true,
   "toc_window_display": false
  },
  "varInspector": {
   "cols": {
    "lenName": 16,
    "lenType": 16,
    "lenVar": 40
   },
   "kernels_config": {
    "python": {
     "delete_cmd_postfix": "",
     "delete_cmd_prefix": "del ",
     "library": "var_list.py",
     "varRefreshCmd": "print(var_dic_list())"
    },
    "r": {
     "delete_cmd_postfix": ") ",
     "delete_cmd_prefix": "rm(",
     "library": "var_list.r",
     "varRefreshCmd": "cat(var_dic_list()) "
    }
   },
   "types_to_exclude": [
    "module",
    "function",
    "builtin_function_or_method",
    "instance",
    "_Feature"
   ],
   "window_display": false
  }
 },
 "nbformat": 4,
 "nbformat_minor": 2
}